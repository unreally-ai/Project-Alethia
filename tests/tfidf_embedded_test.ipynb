{
 "cells": [
  {
   "cell_type": "markdown",
   "id": "1e6e45c1",
   "metadata": {},
   "source": [
    "# The Unreally Notebook\n",
    "### Step 1 - load data & helper functions\n"
   ]
  },
  {
   "cell_type": "code",
   "execution_count": 1,
   "id": "a32684fc",
   "metadata": {},
   "outputs": [
    {
     "name": "stderr",
     "output_type": "stream",
     "text": [
      "/home/cas/.local/lib/python3.10/site-packages/tqdm/auto.py:22: TqdmWarning: IProgress not found. Please update jupyter and ipywidgets. See https://ipywidgets.readthedocs.io/en/stable/user_install.html\n",
      "  from .autonotebook import tqdm as notebook_tqdm\n"
     ]
    }
   ],
   "source": [
    "import torch\n",
    "import torch.nn as nn\n",
    "from torch.utils.data import Dataset, DataLoader, WeightedRandomSampler\n",
    "\n",
    "import matplotlib.pyplot as plt\n",
    "import seaborn as sns\n",
    "import pandas as pd\n",
    "import numpy as np\n",
    "\n",
    "from sklearn.model_selection import train_test_split\n",
    "from sklearn.feature_extraction.text import TfidfVectorizer,CountVectorizer\n",
    "from sklearn.metrics.pairwise import cosine_similarity\n",
    "from sklearn.metrics import confusion_matrix\n",
    "\n",
    "from collections import Counter\n",
    "import re\n",
    "\n",
    "from nltk.corpus import stopwords\n",
    "from nltk.stem import WordNetLemmatizer "
   ]
  },
  {
   "cell_type": "code",
   "execution_count": 2,
   "id": "386e74bf",
   "metadata": {},
   "outputs": [],
   "source": [
    "# path to dataset\n",
    "DATAPATH = 'data/upsampled_large.csv'\n",
    "# device\n",
    "device ='cpu'"
   ]
  },
  {
   "cell_type": "code",
   "execution_count": 3,
   "id": "a9e01cc6",
   "metadata": {},
   "outputs": [],
   "source": [
    "# takes in string & returns a cleaned string of all non-stop-words\n",
    "def preprocess(text, lemmatizer = WordNetLemmatizer()):\n",
    "    sw = set(stopwords.words('english'))\n",
    "    text = re.sub(r'[^\\w\\s]', '', text).lower()\n",
    "    s = \"\"\n",
    "    for word in text.split():\n",
    "        if word not in sw:\n",
    "                s += (lemmatizer.lemmatize(word) + \" \")\n",
    "    return s\n",
    "\n"
   ]
  },
  {
   "cell_type": "code",
   "execution_count": 4,
   "id": "d0bef21e",
   "metadata": {},
   "outputs": [],
   "source": [
    "# creates & fits bow & tfidf vectorizer to dataset\n",
    "# gets called in StanceDataset().__init__\n",
    "def fit_vectorizers(dataset):\n",
    "    print('fitting vectorizer...')\n",
    "\n",
    "    # create array of all texts in dataset\n",
    "    data = [preprocess(dataset.iloc[i]['head']) for i in range(len(dataset))] # headlines\n",
    "    data += (preprocess(dataset.iloc[i]['body']) for i in range(len(dataset))) # bodies\n",
    "\n",
    "    \n",
    "    # fit to dataset (creates dictionary)\n",
    "    bow = CountVectorizer(\n",
    "        #vocabulary=vocab,\n",
    "        max_features=5000,\n",
    "       #ngram_range=(2, 2)\n",
    "    )\n",
    "    bow.fit(data)\n",
    "\n",
    "    vocab = bow.vocabulary_\n",
    "    # save for later\n",
    "    vocab_df = pd.DataFrame.from_dict(vocab, orient=\"index\")\n",
    "    vocab_df.to_csv('generated_vocab.csv')\n",
    "\n",
    "    tfidf = TfidfVectorizer(\n",
    "        vocabulary=vocab,\n",
    "        max_features=5000,\n",
    "        #ngram_range=(2, 2) # bigrams\n",
    "    )\n",
    "    tfidf.fit(data)\n",
    "    print('vectorizer ready!')\n",
    "    return bow, tfidf"
   ]
  },
  {
   "cell_type": "markdown",
   "id": "1117a79b",
   "metadata": {},
   "source": [
    "### Step 2 - define pytorch custom dataset class"
   ]
  },
  {
   "cell_type": "code",
   "execution_count": 5,
   "id": "bc9e26e7",
   "metadata": {},
   "outputs": [],
   "source": [
    "# config\n",
    "\n",
    "# custom dataset class\n",
    "class StanceDataset(Dataset):\n",
    "    def __init__(self, stance_df,  val_split=False):\n",
    "        \"\"\"  Initalizes vectorizers, defines train/test splits\n",
    "        Args:\n",
    "            stance_df (pandas.DataFrame): the dataset\n",
    "        \"\"\"\n",
    "        self.df = stance_df\n",
    "        \n",
    "        self._bow, self._tfidf = fit_vectorizers(stance_df)\n",
    "        \n",
    "        # splits (train, test, validation) 80/20 \n",
    "        self.train, self.test = train_test_split(self.df, test_size=0.2, shuffle=True)\n",
    "        if val_split == True:   \n",
    "            # 50/50 val/test\n",
    "            self.test, self.val = train_test_split(self.test, test_size=0.5, shuffle=False)\n",
    "            self.val_len = len(self.val)\n",
    "        # split sizes\n",
    "        self.train_len = len(self.train)\n",
    "        self.test_len = len(self.test)\n",
    "        \n",
    "        self._lookup_dict = {'train': (self.train, self.train_len),\n",
    "                             'test': (self.test, self.test_len)}\n",
    "        if val_split == True:\n",
    "            self._lookup_dict.update({'val': (self.val, self.val_len)})\n",
    "\n",
    "        self.set_split('train')\n",
    "\n",
    "\n",
    "    def set_split(self, split='train'):\n",
    "        \"\"\" selects the splits in the dataset using a column in the dataframe \n",
    "        Args:\n",
    "            split (str): one of \"train\", \"val\", or \"test\"\n",
    "        \"\"\"\n",
    "        self._target_split = split\n",
    "        self._target_df, self._target_size = self._lookup_dict[split]\n",
    "\n",
    "    def __len__(self):\n",
    "        return self._target_size\n",
    "\n",
    "    def __getitem__(self, index):\n",
    "        \"\"\"\n",
    "        Args:\n",
    "            index (int): index to current data point\n",
    "        Returns:\n",
    "            dictionary holding tensor data point feature (x_data) and skalar tensor label (y_data)\n",
    "        \"\"\"\n",
    "        \n",
    "        # get text values from current row\n",
    "        row = (self._target_df.iloc[index])\n",
    "        claim = [row['head']]\n",
    "        body = [row['body']]\n",
    "\n",
    "        \n",
    "        # transform claim (headline/tweet) and target (body) to bowTF vector\n",
    "        bow_x = self._bow.transform(claim)\n",
    "        bow_y = self._bow.transform(body)\n",
    "\n",
    "        # transform claim (headline/tweet) and target (body) to TFIDF vector\n",
    "        tfidf_x = self._tfidf.transform(claim)\n",
    "        tfidf_y = self._tfidf.transform(body)\n",
    "        \n",
    "        # take cosine similary of TFIDF vectors\n",
    "        cosim = cosine_similarity(tfidf_x, tfidf_y)\n",
    "        \n",
    "        # concat x+cosim+y to input vector & convert to tensor\n",
    "        claim_df = pd.DataFrame(bow_x.toarray()) \n",
    "        body_df = pd.DataFrame(bow_y.toarray())\n",
    "        cosim_df = pd.DataFrame(cosim)\n",
    "        \n",
    "        x_data = (pd.concat([claim_df, cosim_df, body_df],axis=1)).to_numpy()\n",
    "        x_data = torch.from_numpy(x_data)\n",
    "\n",
    "        # get stance & convert to tensor\n",
    "        y_data = row['Stance']\n",
    "        stance_map = {\n",
    "            \"agree\": 0,\n",
    "            \"disagree\": 1,\n",
    "            \"discuss\": 2,\n",
    "            \"unrelated\": 3\n",
    "        }\n",
    "        y_data = torch.tensor(stance_map[y_data])\n",
    "        return {'x_data': x_data,\n",
    "                'y_target': y_data}"
   ]
  },
  {
   "cell_type": "code",
   "execution_count": 6,
   "id": "f20ec28e",
   "metadata": {},
   "outputs": [],
   "source": [
    "def load_dataset(excel=True):\n",
    "    \"\"\"\n",
    "    applies dataset class to dataset located at DATAPATH\n",
    "    args:\n",
    "        excel (bool): default true for .xlsx, else set false\n",
    "    \"\"\"\n",
    "    print('loading dataset...')\n",
    "    if excel == True:\n",
    "        df = pd.read_excel(\n",
    "            DATAPATH, \n",
    "            index_col=None, \n",
    "            header=0   \n",
    "        )\n",
    "    else:\n",
    "        df = pd.read_csv(\n",
    "            DATAPATH, \n",
    "            index_col=None,\n",
    "            header=0   \n",
    "        )\n",
    "    print('loaded!')\n",
    "    \n",
    "    dataset = StanceDataset(df, val_split=False)\n",
    "    return dataset"
   ]
  },
  {
   "cell_type": "code",
   "execution_count": 7,
   "id": "5dc61afe",
   "metadata": {},
   "outputs": [
    {
     "name": "stdout",
     "output_type": "stream",
     "text": [
      "loading dataset...\n",
      "loaded!\n",
      "fitting vectorizer...\n",
      "vectorizer ready!\n"
     ]
    }
   ],
   "source": [
    "data = load_dataset(excel=False)"
   ]
  },
  {
   "cell_type": "code",
   "execution_count": 43,
   "id": "d2ca07ac",
   "metadata": {},
   "outputs": [
    {
     "name": "stdout",
     "output_type": "stream",
     "text": [
      "should be the lenght of train split:  25360\n",
      "tensor([[0., 0., 0.,  ..., 0., 0., 0.]], dtype=torch.float64)\n",
      "tensor(3)\n",
      "10001\n"
     ]
    }
   ],
   "source": [
    "\"\"\"\n",
    "Test block for getitem. This is what the training loop will call\n",
    "\"\"\"\n",
    "\n",
    "data.set_split('train')\n",
    "print(\"should be the lenght of train split: \", len(data._target_df))\n",
    "\n",
    "d = data.__getitem__(1)\n",
    "print(d['x_data'])\n",
    "print(d['y_target'])\n",
    "print(len((d['x_data'])[0]))"
   ]
  },
  {
   "cell_type": "markdown",
   "id": "7a9a6ba5",
   "metadata": {},
   "source": [
    "### Weighted Sampler"
   ]
  },
  {
   "cell_type": "code",
   "execution_count": 44,
   "id": "4f13f6df",
   "metadata": {},
   "outputs": [
    {
     "name": "stdout",
     "output_type": "stream",
     "text": [
      "{'unrelated': 14567, 'discuss': 7160, 'agree': 2951, 'disagree': 682}\n"
     ]
    },
    {
     "data": {
      "image/png": "[encoded data removed]",
      "text/plain": [
       "<Figure size 432x288 with 1 Axes>"
      ]
     },
     "metadata": {
      "needs_background": "light"
     },
     "output_type": "display_data"
    }
   ],
   "source": [
    "# distribution of labels (class distribution)\n",
    "def dist_of(df):\n",
    "    class_distribution = (pd.value_counts(df['Stance'])).to_dict()\n",
    "    print(class_distribution)\n",
    "    sns.barplot(data = pd.DataFrame.from_dict([class_distribution]).melt(), x = \"variable\", y=\"value\", hue=\"variable\").set_title(f'train class distribution size {len(df)}')\n",
    "\n",
    "dist_of(data._target_df)"
   ]
  },
  {
   "cell_type": "code",
   "execution_count": 45,
   "id": "bbd41702",
   "metadata": {},
   "outputs": [
    {
     "name": "stdout",
     "output_type": "stream",
     "text": [
      "{'unrelated': 14567, 'discuss': 7160, 'agree': 2951, 'disagree': 682}\n",
      "tensor([3.3887e-04, 1.4663e-03, 1.3966e-04, 6.8648e-05])\n"
     ]
    }
   ],
   "source": [
    "def sample(d):\n",
    "    class_count = dict(pd.value_counts(d['Stance']))\n",
    "    print(class_count)\n",
    "    stance_map = {\n",
    "        \"agree\": 0,\n",
    "        \"disagree\": 1,\n",
    "        \"discuss\": 2,\n",
    "        \"unrelated\": 3\n",
    "    }\n",
    "    # fit the class count to sequence agree, disagree, discuss, unrelated\n",
    "    cc = [0, 0, 0, 0]\n",
    "    for key in class_count:\n",
    "        cc[stance_map[key]] = class_count[key]\n",
    "\n",
    "    weight = 1./torch.tensor(cc, dtype=torch.float).to(device)\n",
    "    print(weight)\n",
    "    \n",
    "    # create array with weight for each data point\n",
    "    target_list = [stance_map[(d.iloc[i]['Stance'])] for i in range(len(d))]\n",
    "    samples_weight = torch.tensor([weight[t] for t in target_list]).to(device)\n",
    "\n",
    "    weighted_sampler = WeightedRandomSampler(\n",
    "        weights=samples_weight,\n",
    "        num_samples=len(samples_weight),\n",
    "        replacement=True\n",
    "    )\n",
    "    return weighted_sampler, weight\n",
    "\n",
    "train_sampler, train_weights = sample(data._target_df)"
   ]
  },
  {
   "cell_type": "markdown",
   "id": "12cdee13",
   "metadata": {},
   "source": [
    "### Step 3 - Define model & training"
   ]
  },
  {
   "cell_type": "code",
   "execution_count": 46,
   "id": "7f858166",
   "metadata": {},
   "outputs": [],
   "source": [
    "# hyperparameters\n",
    "in_dim = 10001\n",
    "hidden_dim = 100\n",
    "out_dim = 4\n",
    "epochs = 2 # 45\n",
    "bs = 32 # batch size\n",
    "lr = 0.001"
   ]
  },
  {
   "cell_type": "code",
   "execution_count": 47,
   "id": "9e5b9b2c",
   "metadata": {},
   "outputs": [],
   "source": [
    "# re-usable way to create dataloader\n",
    "def make_batches(dataset, batch_size, shuffle=True, drop_last=True, sampler=None):\n",
    "    dataloader = DataLoader(dataset=dataset, batch_size=batch_size,\n",
    "                            shuffle=shuffle, drop_last=drop_last, sampler=sampler)\n",
    "    for data_dict in dataloader:\n",
    "        out_data_dict = {}\n",
    "        for name, tensor in data_dict.items():\n",
    "            out_data_dict[name] = data_dict[name].to(device)\n",
    "        yield out_data_dict\n"
   ]
  },
  {
   "cell_type": "code",
   "execution_count": 48,
   "id": "9e61f3e7",
   "metadata": {},
   "outputs": [],
   "source": [
    "# define neural net\n",
    "class NN(nn.Module):\n",
    "    def __init__(self, in_dim, hidden_dim, out_dim):\n",
    "        super(NN, self).__init__()\n",
    "\n",
    "        # define layers\n",
    "        self.l1 = nn.Linear(in_dim, hidden_dim)\n",
    "        self.relu = nn.ReLU()\n",
    "        self.l2 = nn.Linear(hidden_dim, out_dim)\n",
    "    \n",
    "    # applies layers with sample x\n",
    "    def forward(self, x):\n",
    "        out = self.l1(x).squeeze()\n",
    "        out = self.relu(out)\n",
    "        out = self.l2(out)\n",
    "        return out\n",
    "\n",
    "model = NN(in_dim, hidden_dim, out_dim).to(device)\n",
    "\n",
    "criterion = nn.CrossEntropyLoss(weight=train_weights)\n",
    "optimizer = torch.optim.Adam(model.parameters(), lr=lr)"
   ]
  },
  {
   "cell_type": "code",
   "execution_count": 54,
   "id": "780c7787",
   "metadata": {},
   "outputs": [],
   "source": [
    "\"\"\"\n",
    "TRAIN function\n",
    "\"\"\"\n",
    "\n",
    "# setup\n",
    "train_losses = []\n",
    "train_accu = []\n",
    "\n",
    "# data split & batch loader\n",
    "data.set_split('train')\n",
    "\n",
    "def train(epoch, data):\n",
    "  print('\\nEpoch : %d'%epoch)\n",
    "  \n",
    "  model.train()\n",
    "  train_loader = make_batches(data, bs, shuffle=False, sampler=train_sampler)\n",
    "\n",
    "  running_loss=0\n",
    "  correct=0\n",
    "  total=0\n",
    " \n",
    "  for i, data in enumerate(train_loader):\n",
    "    # zero gradients each batch\n",
    "    optimizer.zero_grad()\n",
    "    \n",
    "    inputs = ((sample)['x_data']).float()\n",
    "    labels = sample['y_target']\n",
    "\n",
    "    # predict for batch\n",
    "    outputs = model(inputs)\n",
    "\n",
    "    # compute loss and gradients\n",
    "    loss = criterion(outputs, labels)\n",
    "    running_loss += loss.item()\n",
    "\n",
    "    # adjust weights\n",
    "    loss.backward()\n",
    "    optimizer.step()\n",
    "\n",
    "    # -----\n",
    "    \n",
    "    _, predicted = outputs.max(1)\n",
    "    total += labels.size(0)\n",
    "    correct += predicted.eq(labels).sum().item()\n",
    "       \n",
    "  train_loss=running_loss/len(train_loader)\n",
    "  accu=100.*correct/total\n",
    "   \n",
    "  train_accu.append(accu)\n",
    "  train_losses.append(train_loss)\n",
    "  print('Train Loss: %.3f | Accuracy: %.3f'%(train_loss,accu))"
   ]
  },
  {
   "cell_type": "code",
   "execution_count": 55,
   "id": "4d0fc071",
   "metadata": {},
   "outputs": [],
   "source": [
    "\"\"\" \n",
    "TEST function\n",
    "\"\"\"\n",
    "\n",
    "eval_losses=[]\n",
    "eval_accu=[]\n",
    "\n",
    "data.set_split('test')\n",
    "\n",
    "def test(epoch, data):\n",
    "  model.eval()\n",
    "\n",
    "  # create batches for test dataset\n",
    "  test_loader = make_batches(data, bs, shuffle=True)\n",
    "\n",
    "  running_loss=0\n",
    "  correct=0\n",
    "  total=0\n",
    " \n",
    "  with torch.no_grad():\n",
    "    for i, data in enumerate(test_loader):\n",
    "      inputs = ((sample)['x_data']).float()\n",
    "      labels = sample['y_target']\n",
    "      \n",
    "      outputs=model(inputs)\n",
    " \n",
    "      loss = criterion(outputs, labels)\n",
    "      running_loss+=loss.item()\n",
    "       \n",
    "   \n",
    "  test_loss=running_loss/len(test_loader)\n",
    "  accu=100.*correct/total\n",
    " \n",
    "  eval_losses.append(test_loss)\n",
    "  eval_accu.append(accu)\n",
    " \n",
    "  print('Test Loss: %.3f | Accuracy: %.3f'%(test_loss,accu)) "
   ]
  },
  {
   "cell_type": "code",
   "execution_count": 56,
   "id": "598d7cae",
   "metadata": {},
   "outputs": [
    {
     "name": "stdout",
     "output_type": "stream",
     "text": [
      "\n",
      "Epoch : 1\n"
     ]
    },
    {
     "ename": "IndexError",
     "evalue": "single positional indexer is out-of-bounds",
     "output_type": "error",
     "traceback": [
      "\u001b[0;31m---------------------------------------------------------------------------\u001b[0m",
      "\u001b[0;31mIndexError\u001b[0m                                Traceback (most recent call last)",
      "\u001b[1;32m/home/cas/Documents/coding/python/Aletheia/tests/tfidf_embedded_test.ipynb Cell 20\u001b[0m in \u001b[0;36m<cell line: 2>\u001b[0;34m()\u001b[0m\n\u001b[1;32m      <a href='vscode-notebook-cell:/home/cas/Documents/coding/python/Aletheia/tests/tfidf_embedded_test.ipynb#X25sZmlsZQ%3D%3D?line=0'>1</a>\u001b[0m epochs\u001b[39m=\u001b[39m\u001b[39m2\u001b[39m\n\u001b[1;32m      <a href='vscode-notebook-cell:/home/cas/Documents/coding/python/Aletheia/tests/tfidf_embedded_test.ipynb#X25sZmlsZQ%3D%3D?line=1'>2</a>\u001b[0m \u001b[39mfor\u001b[39;00m epoch \u001b[39min\u001b[39;00m \u001b[39mrange\u001b[39m(\u001b[39m1\u001b[39m,epochs\u001b[39m+\u001b[39m\u001b[39m1\u001b[39m): \n\u001b[0;32m----> <a href='vscode-notebook-cell:/home/cas/Documents/coding/python/Aletheia/tests/tfidf_embedded_test.ipynb#X25sZmlsZQ%3D%3D?line=2'>3</a>\u001b[0m   train(epoch, data)\n",
      "\u001b[1;32m/home/cas/Documents/coding/python/Aletheia/tests/tfidf_embedded_test.ipynb Cell 20\u001b[0m in \u001b[0;36mtrain\u001b[0;34m(epoch, data)\u001b[0m\n\u001b[1;32m     <a href='vscode-notebook-cell:/home/cas/Documents/coding/python/Aletheia/tests/tfidf_embedded_test.ipynb#X25sZmlsZQ%3D%3D?line=18'>19</a>\u001b[0m correct\u001b[39m=\u001b[39m\u001b[39m0\u001b[39m\n\u001b[1;32m     <a href='vscode-notebook-cell:/home/cas/Documents/coding/python/Aletheia/tests/tfidf_embedded_test.ipynb#X25sZmlsZQ%3D%3D?line=19'>20</a>\u001b[0m total\u001b[39m=\u001b[39m\u001b[39m0\u001b[39m\n\u001b[0;32m---> <a href='vscode-notebook-cell:/home/cas/Documents/coding/python/Aletheia/tests/tfidf_embedded_test.ipynb#X25sZmlsZQ%3D%3D?line=21'>22</a>\u001b[0m \u001b[39mfor\u001b[39;00m i, data \u001b[39min\u001b[39;00m \u001b[39menumerate\u001b[39m(train_loader):\n\u001b[1;32m     <a href='vscode-notebook-cell:/home/cas/Documents/coding/python/Aletheia/tests/tfidf_embedded_test.ipynb#X25sZmlsZQ%3D%3D?line=22'>23</a>\u001b[0m   optimizer\u001b[39m.\u001b[39mzero_grad()\n\u001b[1;32m     <a href='vscode-notebook-cell:/home/cas/Documents/coding/python/Aletheia/tests/tfidf_embedded_test.ipynb#X25sZmlsZQ%3D%3D?line=24'>25</a>\u001b[0m   inputs \u001b[39m=\u001b[39m ((data)[\u001b[39m'\u001b[39m\u001b[39mx_data\u001b[39m\u001b[39m'\u001b[39m])\u001b[39m.\u001b[39mfloat()\n",
      "\u001b[1;32m/home/cas/Documents/coding/python/Aletheia/tests/tfidf_embedded_test.ipynb Cell 20\u001b[0m in \u001b[0;36mmake_batches\u001b[0;34m(dataset, batch_size, shuffle, drop_last, sampler)\u001b[0m\n\u001b[1;32m      <a href='vscode-notebook-cell:/home/cas/Documents/coding/python/Aletheia/tests/tfidf_embedded_test.ipynb#X25sZmlsZQ%3D%3D?line=1'>2</a>\u001b[0m \u001b[39mdef\u001b[39;00m \u001b[39mmake_batches\u001b[39m(dataset, batch_size, shuffle\u001b[39m=\u001b[39m\u001b[39mTrue\u001b[39;00m, drop_last\u001b[39m=\u001b[39m\u001b[39mTrue\u001b[39;00m, sampler\u001b[39m=\u001b[39m\u001b[39mNone\u001b[39;00m):\n\u001b[1;32m      <a href='vscode-notebook-cell:/home/cas/Documents/coding/python/Aletheia/tests/tfidf_embedded_test.ipynb#X25sZmlsZQ%3D%3D?line=2'>3</a>\u001b[0m     dataloader \u001b[39m=\u001b[39m DataLoader(dataset\u001b[39m=\u001b[39mdataset, batch_size\u001b[39m=\u001b[39mbatch_size,\n\u001b[1;32m      <a href='vscode-notebook-cell:/home/cas/Documents/coding/python/Aletheia/tests/tfidf_embedded_test.ipynb#X25sZmlsZQ%3D%3D?line=3'>4</a>\u001b[0m                             shuffle\u001b[39m=\u001b[39mshuffle, drop_last\u001b[39m=\u001b[39mdrop_last, sampler\u001b[39m=\u001b[39msampler)\n\u001b[0;32m----> <a href='vscode-notebook-cell:/home/cas/Documents/coding/python/Aletheia/tests/tfidf_embedded_test.ipynb#X25sZmlsZQ%3D%3D?line=4'>5</a>\u001b[0m     \u001b[39mfor\u001b[39;00m data_dict \u001b[39min\u001b[39;00m dataloader:\n\u001b[1;32m      <a href='vscode-notebook-cell:/home/cas/Documents/coding/python/Aletheia/tests/tfidf_embedded_test.ipynb#X25sZmlsZQ%3D%3D?line=5'>6</a>\u001b[0m         out_data_dict \u001b[39m=\u001b[39m {}\n\u001b[1;32m      <a href='vscode-notebook-cell:/home/cas/Documents/coding/python/Aletheia/tests/tfidf_embedded_test.ipynb#X25sZmlsZQ%3D%3D?line=6'>7</a>\u001b[0m         \u001b[39mfor\u001b[39;00m name, tensor \u001b[39min\u001b[39;00m data_dict\u001b[39m.\u001b[39mitems():\n",
      "File \u001b[0;32m~/.local/lib/python3.10/site-packages/torch/utils/data/dataloader.py:628\u001b[0m, in \u001b[0;36m_BaseDataLoaderIter.__next__\u001b[0;34m(self)\u001b[0m\n\u001b[1;32m    625\u001b[0m \u001b[39mif\u001b[39;00m \u001b[39mself\u001b[39m\u001b[39m.\u001b[39m_sampler_iter \u001b[39mis\u001b[39;00m \u001b[39mNone\u001b[39;00m:\n\u001b[1;32m    626\u001b[0m     \u001b[39m# TODO(https://github.com/pytorch/pytorch/issues/76750)\u001b[39;00m\n\u001b[1;32m    627\u001b[0m     \u001b[39mself\u001b[39m\u001b[39m.\u001b[39m_reset()  \u001b[39m# type: ignore[call-arg]\u001b[39;00m\n\u001b[0;32m--> 628\u001b[0m data \u001b[39m=\u001b[39m \u001b[39mself\u001b[39;49m\u001b[39m.\u001b[39;49m_next_data()\n\u001b[1;32m    629\u001b[0m \u001b[39mself\u001b[39m\u001b[39m.\u001b[39m_num_yielded \u001b[39m+\u001b[39m\u001b[39m=\u001b[39m \u001b[39m1\u001b[39m\n\u001b[1;32m    630\u001b[0m \u001b[39mif\u001b[39;00m \u001b[39mself\u001b[39m\u001b[39m.\u001b[39m_dataset_kind \u001b[39m==\u001b[39m _DatasetKind\u001b[39m.\u001b[39mIterable \u001b[39mand\u001b[39;00m \\\n\u001b[1;32m    631\u001b[0m         \u001b[39mself\u001b[39m\u001b[39m.\u001b[39m_IterableDataset_len_called \u001b[39mis\u001b[39;00m \u001b[39mnot\u001b[39;00m \u001b[39mNone\u001b[39;00m \u001b[39mand\u001b[39;00m \\\n\u001b[1;32m    632\u001b[0m         \u001b[39mself\u001b[39m\u001b[39m.\u001b[39m_num_yielded \u001b[39m>\u001b[39m \u001b[39mself\u001b[39m\u001b[39m.\u001b[39m_IterableDataset_len_called:\n",
      "File \u001b[0;32m~/.local/lib/python3.10/site-packages/torch/utils/data/dataloader.py:671\u001b[0m, in \u001b[0;36m_SingleProcessDataLoaderIter._next_data\u001b[0;34m(self)\u001b[0m\n\u001b[1;32m    669\u001b[0m \u001b[39mdef\u001b[39;00m \u001b[39m_next_data\u001b[39m(\u001b[39mself\u001b[39m):\n\u001b[1;32m    670\u001b[0m     index \u001b[39m=\u001b[39m \u001b[39mself\u001b[39m\u001b[39m.\u001b[39m_next_index()  \u001b[39m# may raise StopIteration\u001b[39;00m\n\u001b[0;32m--> 671\u001b[0m     data \u001b[39m=\u001b[39m \u001b[39mself\u001b[39;49m\u001b[39m.\u001b[39;49m_dataset_fetcher\u001b[39m.\u001b[39;49mfetch(index)  \u001b[39m# may raise StopIteration\u001b[39;00m\n\u001b[1;32m    672\u001b[0m     \u001b[39mif\u001b[39;00m \u001b[39mself\u001b[39m\u001b[39m.\u001b[39m_pin_memory:\n\u001b[1;32m    673\u001b[0m         data \u001b[39m=\u001b[39m _utils\u001b[39m.\u001b[39mpin_memory\u001b[39m.\u001b[39mpin_memory(data, \u001b[39mself\u001b[39m\u001b[39m.\u001b[39m_pin_memory_device)\n",
      "File \u001b[0;32m~/.local/lib/python3.10/site-packages/torch/utils/data/_utils/fetch.py:58\u001b[0m, in \u001b[0;36m_MapDatasetFetcher.fetch\u001b[0;34m(self, possibly_batched_index)\u001b[0m\n\u001b[1;32m     56\u001b[0m         data \u001b[39m=\u001b[39m \u001b[39mself\u001b[39m\u001b[39m.\u001b[39mdataset\u001b[39m.\u001b[39m__getitems__(possibly_batched_index)\n\u001b[1;32m     57\u001b[0m     \u001b[39melse\u001b[39;00m:\n\u001b[0;32m---> 58\u001b[0m         data \u001b[39m=\u001b[39m [\u001b[39mself\u001b[39m\u001b[39m.\u001b[39mdataset[idx] \u001b[39mfor\u001b[39;00m idx \u001b[39min\u001b[39;00m possibly_batched_index]\n\u001b[1;32m     59\u001b[0m \u001b[39melse\u001b[39;00m:\n\u001b[1;32m     60\u001b[0m     data \u001b[39m=\u001b[39m \u001b[39mself\u001b[39m\u001b[39m.\u001b[39mdataset[possibly_batched_index]\n",
      "File \u001b[0;32m~/.local/lib/python3.10/site-packages/torch/utils/data/_utils/fetch.py:58\u001b[0m, in \u001b[0;36m<listcomp>\u001b[0;34m(.0)\u001b[0m\n\u001b[1;32m     56\u001b[0m         data \u001b[39m=\u001b[39m \u001b[39mself\u001b[39m\u001b[39m.\u001b[39mdataset\u001b[39m.\u001b[39m__getitems__(possibly_batched_index)\n\u001b[1;32m     57\u001b[0m     \u001b[39melse\u001b[39;00m:\n\u001b[0;32m---> 58\u001b[0m         data \u001b[39m=\u001b[39m [\u001b[39mself\u001b[39;49m\u001b[39m.\u001b[39;49mdataset[idx] \u001b[39mfor\u001b[39;00m idx \u001b[39min\u001b[39;00m possibly_batched_index]\n\u001b[1;32m     59\u001b[0m \u001b[39melse\u001b[39;00m:\n\u001b[1;32m     60\u001b[0m     data \u001b[39m=\u001b[39m \u001b[39mself\u001b[39m\u001b[39m.\u001b[39mdataset[possibly_batched_index]\n",
      "\u001b[1;32m/home/cas/Documents/coding/python/Aletheia/tests/tfidf_embedded_test.ipynb Cell 20\u001b[0m in \u001b[0;36mStanceDataset.__getitem__\u001b[0;34m(self, index)\u001b[0m\n\u001b[1;32m     <a href='vscode-notebook-cell:/home/cas/Documents/coding/python/Aletheia/tests/tfidf_embedded_test.ipynb#X25sZmlsZQ%3D%3D?line=43'>44</a>\u001b[0m \u001b[39m\"\"\"\u001b[39;00m\n\u001b[1;32m     <a href='vscode-notebook-cell:/home/cas/Documents/coding/python/Aletheia/tests/tfidf_embedded_test.ipynb#X25sZmlsZQ%3D%3D?line=44'>45</a>\u001b[0m \u001b[39mArgs:\u001b[39;00m\n\u001b[1;32m     <a href='vscode-notebook-cell:/home/cas/Documents/coding/python/Aletheia/tests/tfidf_embedded_test.ipynb#X25sZmlsZQ%3D%3D?line=45'>46</a>\u001b[0m \u001b[39m    index (int): index to current data point\u001b[39;00m\n\u001b[1;32m     <a href='vscode-notebook-cell:/home/cas/Documents/coding/python/Aletheia/tests/tfidf_embedded_test.ipynb#X25sZmlsZQ%3D%3D?line=46'>47</a>\u001b[0m \u001b[39mReturns:\u001b[39;00m\n\u001b[1;32m     <a href='vscode-notebook-cell:/home/cas/Documents/coding/python/Aletheia/tests/tfidf_embedded_test.ipynb#X25sZmlsZQ%3D%3D?line=47'>48</a>\u001b[0m \u001b[39m    dictionary holding tensor data point feature (x_data) and skalar tensor label (y_data)\u001b[39;00m\n\u001b[1;32m     <a href='vscode-notebook-cell:/home/cas/Documents/coding/python/Aletheia/tests/tfidf_embedded_test.ipynb#X25sZmlsZQ%3D%3D?line=48'>49</a>\u001b[0m \u001b[39m\"\"\"\u001b[39;00m\n\u001b[1;32m     <a href='vscode-notebook-cell:/home/cas/Documents/coding/python/Aletheia/tests/tfidf_embedded_test.ipynb#X25sZmlsZQ%3D%3D?line=50'>51</a>\u001b[0m \u001b[39m# get text values from current row\u001b[39;00m\n\u001b[0;32m---> <a href='vscode-notebook-cell:/home/cas/Documents/coding/python/Aletheia/tests/tfidf_embedded_test.ipynb#X25sZmlsZQ%3D%3D?line=51'>52</a>\u001b[0m row \u001b[39m=\u001b[39m (\u001b[39mself\u001b[39;49m\u001b[39m.\u001b[39;49m_target_df\u001b[39m.\u001b[39;49miloc[index])\n\u001b[1;32m     <a href='vscode-notebook-cell:/home/cas/Documents/coding/python/Aletheia/tests/tfidf_embedded_test.ipynb#X25sZmlsZQ%3D%3D?line=52'>53</a>\u001b[0m claim \u001b[39m=\u001b[39m [row[\u001b[39m'\u001b[39m\u001b[39mhead\u001b[39m\u001b[39m'\u001b[39m]]\n\u001b[1;32m     <a href='vscode-notebook-cell:/home/cas/Documents/coding/python/Aletheia/tests/tfidf_embedded_test.ipynb#X25sZmlsZQ%3D%3D?line=53'>54</a>\u001b[0m body \u001b[39m=\u001b[39m [row[\u001b[39m'\u001b[39m\u001b[39mbody\u001b[39m\u001b[39m'\u001b[39m]]\n",
      "File \u001b[0;32m~/.local/lib/python3.10/site-packages/pandas/core/indexing.py:967\u001b[0m, in \u001b[0;36m_LocationIndexer.__getitem__\u001b[0;34m(self, key)\u001b[0m\n\u001b[1;32m    964\u001b[0m axis \u001b[39m=\u001b[39m \u001b[39mself\u001b[39m\u001b[39m.\u001b[39maxis \u001b[39mor\u001b[39;00m \u001b[39m0\u001b[39m\n\u001b[1;32m    966\u001b[0m maybe_callable \u001b[39m=\u001b[39m com\u001b[39m.\u001b[39mapply_if_callable(key, \u001b[39mself\u001b[39m\u001b[39m.\u001b[39mobj)\n\u001b[0;32m--> 967\u001b[0m \u001b[39mreturn\u001b[39;00m \u001b[39mself\u001b[39;49m\u001b[39m.\u001b[39;49m_getitem_axis(maybe_callable, axis\u001b[39m=\u001b[39;49maxis)\n",
      "File \u001b[0;32m~/.local/lib/python3.10/site-packages/pandas/core/indexing.py:1520\u001b[0m, in \u001b[0;36m_iLocIndexer._getitem_axis\u001b[0;34m(self, key, axis)\u001b[0m\n\u001b[1;32m   1517\u001b[0m     \u001b[39mraise\u001b[39;00m \u001b[39mTypeError\u001b[39;00m(\u001b[39m\"\u001b[39m\u001b[39mCannot index by location index with a non-integer key\u001b[39m\u001b[39m\"\u001b[39m)\n\u001b[1;32m   1519\u001b[0m \u001b[39m# validate the location\u001b[39;00m\n\u001b[0;32m-> 1520\u001b[0m \u001b[39mself\u001b[39;49m\u001b[39m.\u001b[39;49m_validate_integer(key, axis)\n\u001b[1;32m   1522\u001b[0m \u001b[39mreturn\u001b[39;00m \u001b[39mself\u001b[39m\u001b[39m.\u001b[39mobj\u001b[39m.\u001b[39m_ixs(key, axis\u001b[39m=\u001b[39maxis)\n",
      "File \u001b[0;32m~/.local/lib/python3.10/site-packages/pandas/core/indexing.py:1452\u001b[0m, in \u001b[0;36m_iLocIndexer._validate_integer\u001b[0;34m(self, key, axis)\u001b[0m\n\u001b[1;32m   1450\u001b[0m len_axis \u001b[39m=\u001b[39m \u001b[39mlen\u001b[39m(\u001b[39mself\u001b[39m\u001b[39m.\u001b[39mobj\u001b[39m.\u001b[39m_get_axis(axis))\n\u001b[1;32m   1451\u001b[0m \u001b[39mif\u001b[39;00m key \u001b[39m>\u001b[39m\u001b[39m=\u001b[39m len_axis \u001b[39mor\u001b[39;00m key \u001b[39m<\u001b[39m \u001b[39m-\u001b[39mlen_axis:\n\u001b[0;32m-> 1452\u001b[0m     \u001b[39mraise\u001b[39;00m \u001b[39mIndexError\u001b[39;00m(\u001b[39m\"\u001b[39m\u001b[39msingle positional indexer is out-of-bounds\u001b[39m\u001b[39m\"\u001b[39m)\n",
      "\u001b[0;31mIndexError\u001b[0m: single positional indexer is out-of-bounds"
     ]
    }
   ],
   "source": [
    "epochs=2\n",
    "for epoch in range(1,epochs+1): \n",
    "  train(epoch, data)\n",
    "  #test(epoch)"
   ]
  },
  {
   "cell_type": "code",
   "execution_count": 25,
   "id": "d2a28a1e",
   "metadata": {},
   "outputs": [
    {
     "name": "stdout",
     "output_type": "stream",
     "text": [
      "Epoch 1 batch 1 loss: 0.0013349539041519166\n"
     ]
    },
    {
     "ename": "KeyboardInterrupt",
     "evalue": "",
     "output_type": "error",
     "traceback": [
      "\u001b[0;31m---------------------------------------------------------------------------\u001b[0m",
      "\u001b[0;31mKeyboardInterrupt\u001b[0m                         Traceback (most recent call last)",
      "\u001b[1;32m/home/cas/Documents/coding/python/Aletheia/tests/tfidf_embedded_test.ipynb Cell 21\u001b[0m in \u001b[0;36m<cell line: 9>\u001b[0;34m()\u001b[0m\n\u001b[1;32m     <a href='vscode-notebook-cell:/home/cas/Documents/coding/python/Aletheia/tests/tfidf_embedded_test.ipynb#X26sZmlsZQ%3D%3D?line=16'>17</a>\u001b[0m epoch_loss \u001b[39m=\u001b[39m []\n\u001b[1;32m     <a href='vscode-notebook-cell:/home/cas/Documents/coding/python/Aletheia/tests/tfidf_embedded_test.ipynb#X26sZmlsZQ%3D%3D?line=18'>19</a>\u001b[0m \u001b[39m# enumerate to track the batch index and do some intra-epoch reporting\u001b[39;00m\n\u001b[0;32m---> <a href='vscode-notebook-cell:/home/cas/Documents/coding/python/Aletheia/tests/tfidf_embedded_test.ipynb#X26sZmlsZQ%3D%3D?line=19'>20</a>\u001b[0m \u001b[39mfor\u001b[39;00m i, sample \u001b[39min\u001b[39;00m \u001b[39menumerate\u001b[39m(train_loader):\n\u001b[1;32m     <a href='vscode-notebook-cell:/home/cas/Documents/coding/python/Aletheia/tests/tfidf_embedded_test.ipynb#X26sZmlsZQ%3D%3D?line=20'>21</a>\u001b[0m     \u001b[39m# zero gradients each batch\u001b[39;00m\n\u001b[1;32m     <a href='vscode-notebook-cell:/home/cas/Documents/coding/python/Aletheia/tests/tfidf_embedded_test.ipynb#X26sZmlsZQ%3D%3D?line=21'>22</a>\u001b[0m     optimizer\u001b[39m.\u001b[39mzero_grad()\n\u001b[1;32m     <a href='vscode-notebook-cell:/home/cas/Documents/coding/python/Aletheia/tests/tfidf_embedded_test.ipynb#X26sZmlsZQ%3D%3D?line=23'>24</a>\u001b[0m     inputs \u001b[39m=\u001b[39m ((sample)[\u001b[39m'\u001b[39m\u001b[39mx_data\u001b[39m\u001b[39m'\u001b[39m])\u001b[39m.\u001b[39mfloat()\n",
      "\u001b[1;32m/home/cas/Documents/coding/python/Aletheia/tests/tfidf_embedded_test.ipynb Cell 21\u001b[0m in \u001b[0;36mmake_batches\u001b[0;34m(dataset, batch_size, shuffle, drop_last, sampler)\u001b[0m\n\u001b[1;32m      <a href='vscode-notebook-cell:/home/cas/Documents/coding/python/Aletheia/tests/tfidf_embedded_test.ipynb#X26sZmlsZQ%3D%3D?line=1'>2</a>\u001b[0m \u001b[39mdef\u001b[39;00m \u001b[39mmake_batches\u001b[39m(dataset, batch_size, shuffle\u001b[39m=\u001b[39m\u001b[39mTrue\u001b[39;00m, drop_last\u001b[39m=\u001b[39m\u001b[39mTrue\u001b[39;00m, sampler\u001b[39m=\u001b[39m\u001b[39mNone\u001b[39;00m):\n\u001b[1;32m      <a href='vscode-notebook-cell:/home/cas/Documents/coding/python/Aletheia/tests/tfidf_embedded_test.ipynb#X26sZmlsZQ%3D%3D?line=2'>3</a>\u001b[0m     dataloader \u001b[39m=\u001b[39m DataLoader(dataset\u001b[39m=\u001b[39mdataset, batch_size\u001b[39m=\u001b[39mbatch_size,\n\u001b[1;32m      <a href='vscode-notebook-cell:/home/cas/Documents/coding/python/Aletheia/tests/tfidf_embedded_test.ipynb#X26sZmlsZQ%3D%3D?line=3'>4</a>\u001b[0m                             shuffle\u001b[39m=\u001b[39mshuffle, drop_last\u001b[39m=\u001b[39mdrop_last, sampler\u001b[39m=\u001b[39msampler)\n\u001b[0;32m----> <a href='vscode-notebook-cell:/home/cas/Documents/coding/python/Aletheia/tests/tfidf_embedded_test.ipynb#X26sZmlsZQ%3D%3D?line=4'>5</a>\u001b[0m     \u001b[39mfor\u001b[39;00m data_dict \u001b[39min\u001b[39;00m dataloader:\n\u001b[1;32m      <a href='vscode-notebook-cell:/home/cas/Documents/coding/python/Aletheia/tests/tfidf_embedded_test.ipynb#X26sZmlsZQ%3D%3D?line=5'>6</a>\u001b[0m         out_data_dict \u001b[39m=\u001b[39m {}\n\u001b[1;32m      <a href='vscode-notebook-cell:/home/cas/Documents/coding/python/Aletheia/tests/tfidf_embedded_test.ipynb#X26sZmlsZQ%3D%3D?line=6'>7</a>\u001b[0m         \u001b[39mfor\u001b[39;00m name, tensor \u001b[39min\u001b[39;00m data_dict\u001b[39m.\u001b[39mitems():\n",
      "File \u001b[0;32m~/.local/lib/python3.10/site-packages/torch/utils/data/dataloader.py:628\u001b[0m, in \u001b[0;36m_BaseDataLoaderIter.__next__\u001b[0;34m(self)\u001b[0m\n\u001b[1;32m    625\u001b[0m \u001b[39mif\u001b[39;00m \u001b[39mself\u001b[39m\u001b[39m.\u001b[39m_sampler_iter \u001b[39mis\u001b[39;00m \u001b[39mNone\u001b[39;00m:\n\u001b[1;32m    626\u001b[0m     \u001b[39m# TODO(https://github.com/pytorch/pytorch/issues/76750)\u001b[39;00m\n\u001b[1;32m    627\u001b[0m     \u001b[39mself\u001b[39m\u001b[39m.\u001b[39m_reset()  \u001b[39m# type: ignore[call-arg]\u001b[39;00m\n\u001b[0;32m--> 628\u001b[0m data \u001b[39m=\u001b[39m \u001b[39mself\u001b[39;49m\u001b[39m.\u001b[39;49m_next_data()\n\u001b[1;32m    629\u001b[0m \u001b[39mself\u001b[39m\u001b[39m.\u001b[39m_num_yielded \u001b[39m+\u001b[39m\u001b[39m=\u001b[39m \u001b[39m1\u001b[39m\n\u001b[1;32m    630\u001b[0m \u001b[39mif\u001b[39;00m \u001b[39mself\u001b[39m\u001b[39m.\u001b[39m_dataset_kind \u001b[39m==\u001b[39m _DatasetKind\u001b[39m.\u001b[39mIterable \u001b[39mand\u001b[39;00m \\\n\u001b[1;32m    631\u001b[0m         \u001b[39mself\u001b[39m\u001b[39m.\u001b[39m_IterableDataset_len_called \u001b[39mis\u001b[39;00m \u001b[39mnot\u001b[39;00m \u001b[39mNone\u001b[39;00m \u001b[39mand\u001b[39;00m \\\n\u001b[1;32m    632\u001b[0m         \u001b[39mself\u001b[39m\u001b[39m.\u001b[39m_num_yielded \u001b[39m>\u001b[39m \u001b[39mself\u001b[39m\u001b[39m.\u001b[39m_IterableDataset_len_called:\n",
      "File \u001b[0;32m~/.local/lib/python3.10/site-packages/torch/utils/data/dataloader.py:671\u001b[0m, in \u001b[0;36m_SingleProcessDataLoaderIter._next_data\u001b[0;34m(self)\u001b[0m\n\u001b[1;32m    669\u001b[0m \u001b[39mdef\u001b[39;00m \u001b[39m_next_data\u001b[39m(\u001b[39mself\u001b[39m):\n\u001b[1;32m    670\u001b[0m     index \u001b[39m=\u001b[39m \u001b[39mself\u001b[39m\u001b[39m.\u001b[39m_next_index()  \u001b[39m# may raise StopIteration\u001b[39;00m\n\u001b[0;32m--> 671\u001b[0m     data \u001b[39m=\u001b[39m \u001b[39mself\u001b[39;49m\u001b[39m.\u001b[39;49m_dataset_fetcher\u001b[39m.\u001b[39;49mfetch(index)  \u001b[39m# may raise StopIteration\u001b[39;00m\n\u001b[1;32m    672\u001b[0m     \u001b[39mif\u001b[39;00m \u001b[39mself\u001b[39m\u001b[39m.\u001b[39m_pin_memory:\n\u001b[1;32m    673\u001b[0m         data \u001b[39m=\u001b[39m _utils\u001b[39m.\u001b[39mpin_memory\u001b[39m.\u001b[39mpin_memory(data, \u001b[39mself\u001b[39m\u001b[39m.\u001b[39m_pin_memory_device)\n",
      "File \u001b[0;32m~/.local/lib/python3.10/site-packages/torch/utils/data/_utils/fetch.py:58\u001b[0m, in \u001b[0;36m_MapDatasetFetcher.fetch\u001b[0;34m(self, possibly_batched_index)\u001b[0m\n\u001b[1;32m     56\u001b[0m         data \u001b[39m=\u001b[39m \u001b[39mself\u001b[39m\u001b[39m.\u001b[39mdataset\u001b[39m.\u001b[39m__getitems__(possibly_batched_index)\n\u001b[1;32m     57\u001b[0m     \u001b[39melse\u001b[39;00m:\n\u001b[0;32m---> 58\u001b[0m         data \u001b[39m=\u001b[39m [\u001b[39mself\u001b[39m\u001b[39m.\u001b[39mdataset[idx] \u001b[39mfor\u001b[39;00m idx \u001b[39min\u001b[39;00m possibly_batched_index]\n\u001b[1;32m     59\u001b[0m \u001b[39melse\u001b[39;00m:\n\u001b[1;32m     60\u001b[0m     data \u001b[39m=\u001b[39m \u001b[39mself\u001b[39m\u001b[39m.\u001b[39mdataset[possibly_batched_index]\n",
      "File \u001b[0;32m~/.local/lib/python3.10/site-packages/torch/utils/data/_utils/fetch.py:58\u001b[0m, in \u001b[0;36m<listcomp>\u001b[0;34m(.0)\u001b[0m\n\u001b[1;32m     56\u001b[0m         data \u001b[39m=\u001b[39m \u001b[39mself\u001b[39m\u001b[39m.\u001b[39mdataset\u001b[39m.\u001b[39m__getitems__(possibly_batched_index)\n\u001b[1;32m     57\u001b[0m     \u001b[39melse\u001b[39;00m:\n\u001b[0;32m---> 58\u001b[0m         data \u001b[39m=\u001b[39m [\u001b[39mself\u001b[39;49m\u001b[39m.\u001b[39;49mdataset[idx] \u001b[39mfor\u001b[39;00m idx \u001b[39min\u001b[39;00m possibly_batched_index]\n\u001b[1;32m     59\u001b[0m \u001b[39melse\u001b[39;00m:\n\u001b[1;32m     60\u001b[0m     data \u001b[39m=\u001b[39m \u001b[39mself\u001b[39m\u001b[39m.\u001b[39mdataset[possibly_batched_index]\n",
      "\u001b[1;32m/home/cas/Documents/coding/python/Aletheia/tests/tfidf_embedded_test.ipynb Cell 21\u001b[0m in \u001b[0;36mStanceDataset.__getitem__\u001b[0;34m(self, index)\u001b[0m\n\u001b[1;32m     <a href='vscode-notebook-cell:/home/cas/Documents/coding/python/Aletheia/tests/tfidf_embedded_test.ipynb#X26sZmlsZQ%3D%3D?line=69'>70</a>\u001b[0m body_df \u001b[39m=\u001b[39m pd\u001b[39m.\u001b[39mDataFrame(bow_y\u001b[39m.\u001b[39mtoarray())\n\u001b[1;32m     <a href='vscode-notebook-cell:/home/cas/Documents/coding/python/Aletheia/tests/tfidf_embedded_test.ipynb#X26sZmlsZQ%3D%3D?line=70'>71</a>\u001b[0m cosim_df \u001b[39m=\u001b[39m pd\u001b[39m.\u001b[39mDataFrame(cosim)\n\u001b[0;32m---> <a href='vscode-notebook-cell:/home/cas/Documents/coding/python/Aletheia/tests/tfidf_embedded_test.ipynb#X26sZmlsZQ%3D%3D?line=72'>73</a>\u001b[0m x_data \u001b[39m=\u001b[39m (pd\u001b[39m.\u001b[39;49mconcat([claim_df, cosim_df, body_df],axis\u001b[39m=\u001b[39;49m\u001b[39m1\u001b[39;49m))\u001b[39m.\u001b[39;49mto_numpy()\n\u001b[1;32m     <a href='vscode-notebook-cell:/home/cas/Documents/coding/python/Aletheia/tests/tfidf_embedded_test.ipynb#X26sZmlsZQ%3D%3D?line=73'>74</a>\u001b[0m x_data \u001b[39m=\u001b[39m torch\u001b[39m.\u001b[39mfrom_numpy(x_data)\n\u001b[1;32m     <a href='vscode-notebook-cell:/home/cas/Documents/coding/python/Aletheia/tests/tfidf_embedded_test.ipynb#X26sZmlsZQ%3D%3D?line=75'>76</a>\u001b[0m \u001b[39m# get stance & convert to tensor\u001b[39;00m\n",
      "File \u001b[0;32m~/.local/lib/python3.10/site-packages/pandas/core/frame.py:1753\u001b[0m, in \u001b[0;36mDataFrame.to_numpy\u001b[0;34m(self, dtype, copy, na_value)\u001b[0m\n\u001b[1;32m   1693\u001b[0m \u001b[39mdef\u001b[39;00m \u001b[39mto_numpy\u001b[39m(\n\u001b[1;32m   1694\u001b[0m     \u001b[39mself\u001b[39m,\n\u001b[1;32m   1695\u001b[0m     dtype: npt\u001b[39m.\u001b[39mDTypeLike \u001b[39m|\u001b[39m \u001b[39mNone\u001b[39;00m \u001b[39m=\u001b[39m \u001b[39mNone\u001b[39;00m,\n\u001b[1;32m   1696\u001b[0m     copy: \u001b[39mbool\u001b[39m \u001b[39m=\u001b[39m \u001b[39mFalse\u001b[39;00m,\n\u001b[1;32m   1697\u001b[0m     na_value\u001b[39m=\u001b[39mlib\u001b[39m.\u001b[39mno_default,\n\u001b[1;32m   1698\u001b[0m ) \u001b[39m-\u001b[39m\u001b[39m>\u001b[39m np\u001b[39m.\u001b[39mndarray:\n\u001b[1;32m   1699\u001b[0m     \u001b[39m\"\"\"\u001b[39;00m\n\u001b[1;32m   1700\u001b[0m \u001b[39m    Convert the DataFrame to a NumPy array.\u001b[39;00m\n\u001b[1;32m   1701\u001b[0m \n\u001b[0;32m   (...)\u001b[0m\n\u001b[1;32m   1751\u001b[0m \u001b[39m           [2, 4.5, Timestamp('2000-01-02 00:00:00')]], dtype=object)\u001b[39;00m\n\u001b[1;32m   1752\u001b[0m \u001b[39m    \"\"\"\u001b[39;00m\n\u001b[0;32m-> 1753\u001b[0m     \u001b[39mself\u001b[39;49m\u001b[39m.\u001b[39;49m_consolidate_inplace()\n\u001b[1;32m   1754\u001b[0m     \u001b[39mif\u001b[39;00m dtype \u001b[39mis\u001b[39;00m \u001b[39mnot\u001b[39;00m \u001b[39mNone\u001b[39;00m:\n\u001b[1;32m   1755\u001b[0m         dtype \u001b[39m=\u001b[39m np\u001b[39m.\u001b[39mdtype(dtype)\n",
      "File \u001b[0;32m~/.local/lib/python3.10/site-packages/pandas/core/generic.py:5653\u001b[0m, in \u001b[0;36mNDFrame._consolidate_inplace\u001b[0;34m(self)\u001b[0m\n\u001b[1;32m   5650\u001b[0m \u001b[39mdef\u001b[39;00m \u001b[39mf\u001b[39m():\n\u001b[1;32m   5651\u001b[0m     \u001b[39mself\u001b[39m\u001b[39m.\u001b[39m_mgr \u001b[39m=\u001b[39m \u001b[39mself\u001b[39m\u001b[39m.\u001b[39m_mgr\u001b[39m.\u001b[39mconsolidate()\n\u001b[0;32m-> 5653\u001b[0m \u001b[39mself\u001b[39;49m\u001b[39m.\u001b[39;49m_protect_consolidate(f)\n",
      "File \u001b[0;32m~/.local/lib/python3.10/site-packages/pandas/core/generic.py:5641\u001b[0m, in \u001b[0;36mNDFrame._protect_consolidate\u001b[0;34m(self, f)\u001b[0m\n\u001b[1;32m   5639\u001b[0m     \u001b[39mreturn\u001b[39;00m f()\n\u001b[1;32m   5640\u001b[0m blocks_before \u001b[39m=\u001b[39m \u001b[39mlen\u001b[39m(\u001b[39mself\u001b[39m\u001b[39m.\u001b[39m_mgr\u001b[39m.\u001b[39mblocks)\n\u001b[0;32m-> 5641\u001b[0m result \u001b[39m=\u001b[39m f()\n\u001b[1;32m   5642\u001b[0m \u001b[39mif\u001b[39;00m \u001b[39mlen\u001b[39m(\u001b[39mself\u001b[39m\u001b[39m.\u001b[39m_mgr\u001b[39m.\u001b[39mblocks) \u001b[39m!=\u001b[39m blocks_before:\n\u001b[1;32m   5643\u001b[0m     \u001b[39mself\u001b[39m\u001b[39m.\u001b[39m_clear_item_cache()\n",
      "File \u001b[0;32m~/.local/lib/python3.10/site-packages/pandas/core/generic.py:5651\u001b[0m, in \u001b[0;36mNDFrame._consolidate_inplace.<locals>.f\u001b[0;34m()\u001b[0m\n\u001b[1;32m   5650\u001b[0m \u001b[39mdef\u001b[39;00m \u001b[39mf\u001b[39m():\n\u001b[0;32m-> 5651\u001b[0m     \u001b[39mself\u001b[39m\u001b[39m.\u001b[39m_mgr \u001b[39m=\u001b[39m \u001b[39mself\u001b[39;49m\u001b[39m.\u001b[39;49m_mgr\u001b[39m.\u001b[39;49mconsolidate()\n",
      "File \u001b[0;32m~/.local/lib/python3.10/site-packages/pandas/core/internals/managers.py:631\u001b[0m, in \u001b[0;36mBaseBlockManager.consolidate\u001b[0;34m(self)\u001b[0m\n\u001b[1;32m    629\u001b[0m bm \u001b[39m=\u001b[39m \u001b[39mtype\u001b[39m(\u001b[39mself\u001b[39m)(\u001b[39mself\u001b[39m\u001b[39m.\u001b[39mblocks, \u001b[39mself\u001b[39m\u001b[39m.\u001b[39maxes, verify_integrity\u001b[39m=\u001b[39m\u001b[39mFalse\u001b[39;00m)\n\u001b[1;32m    630\u001b[0m bm\u001b[39m.\u001b[39m_is_consolidated \u001b[39m=\u001b[39m \u001b[39mFalse\u001b[39;00m\n\u001b[0;32m--> 631\u001b[0m bm\u001b[39m.\u001b[39;49m_consolidate_inplace()\n\u001b[1;32m    632\u001b[0m \u001b[39mreturn\u001b[39;00m bm\n",
      "File \u001b[0;32m~/.local/lib/python3.10/site-packages/pandas/core/internals/managers.py:1688\u001b[0m, in \u001b[0;36mBlockManager._consolidate_inplace\u001b[0;34m(self)\u001b[0m\n\u001b[1;32m   1686\u001b[0m \u001b[39mself\u001b[39m\u001b[39m.\u001b[39m_is_consolidated \u001b[39m=\u001b[39m \u001b[39mTrue\u001b[39;00m\n\u001b[1;32m   1687\u001b[0m \u001b[39mself\u001b[39m\u001b[39m.\u001b[39m_known_consolidated \u001b[39m=\u001b[39m \u001b[39mTrue\u001b[39;00m\n\u001b[0;32m-> 1688\u001b[0m \u001b[39mself\u001b[39;49m\u001b[39m.\u001b[39;49m_rebuild_blknos_and_blklocs()\n",
      "\u001b[0;31mKeyboardInterrupt\u001b[0m: "
     ]
    }
   ],
   "source": [
    "\"\"\"\n",
    "training loop\n",
    "\"\"\"\n",
    "loss_vals=  {}\n",
    "loss_vals['train'] = []\n",
    "loss_vals['test'] = []\n",
    "\n",
    "\n",
    "for epoch in range(epochs):\n",
    "\n",
    "    # setup\n",
    "    data.set_split('train')\n",
    "    train_loader = make_batches(data, bs, shuffle=False, sampler=train_sampler)\n",
    "\n",
    "    running_loss = 0.\n",
    "    last_loss = 0.\n",
    "    epoch_loss = []\n",
    "\n",
    "    # enumerate to track the batch index and do some intra-epoch reporting\n",
    "    for i, sample in enumerate(train_loader):\n",
    "        # zero gradients each batch\n",
    "        optimizer.zero_grad()\n",
    "        \n",
    "        inputs = ((sample)['x_data']).float()\n",
    "        labels = sample['y_target']\n",
    "\n",
    "        # predict for batch\n",
    "        outputs = model(inputs)\n",
    "\n",
    "        # compute loss and gradients\n",
    "        loss = criterion(outputs, labels)\n",
    "        epoch_loss.append(loss.item())\n",
    "        loss.backward()\n",
    "\n",
    "        # adjust weights\n",
    "        optimizer.step()\n",
    "\n",
    "        # report\n",
    "        running_loss += loss.item()\n",
    "        if i % 100 == 0:\n",
    "            last_loss = running_loss / 1000 # loss per batch\n",
    "            print('Epoch {} batch {} loss: {}'.format(epoch + 1, i + 1, last_loss))\n",
    "            running_loss = 0.\n",
    "    \n",
    "    # append avg loss per epoch to loss vals\n",
    "    loss_vals['train'].append(sum(epoch_loss)/len(epoch_loss))"
   ]
  },
  {
   "cell_type": "code",
   "execution_count": null,
   "id": "be53fac1",
   "metadata": {},
   "outputs": [],
   "source": [
    "\n",
    "\n",
    "for epoch in range(epochs):\n",
    "\n",
    "    # setup\n",
    "    data.set_split('train')\n",
    "    train_loader = make_batches(data, batch, shuffle=False, sampler=train_sampler)\n",
    "\n",
    "    running_loss = 0.\n",
    "    last_loss = 0.\n",
    "    epoch_loss = []\n",
    "\n",
    "for epoch in range(epochs):\n",
    "    # setup\n",
    "    data.set_split('test')\n",
    "    test_loader = make_batches(data, batch)\n",
    "\n",
    "    epoch_loss = []\n",
    "    # accuracy\n",
    "    with torch.no_grad():\n",
    "        n_correct = 0\n",
    "        n_samples = 0\n",
    "        y_pred = []\n",
    "        y_true = []\n",
    "        for i, sample in enumerate(test_loader):\n",
    "            \n",
    "            inputs = ((sample)['x_data']).float()\n",
    "            labels = sample['y_target']\n",
    "            \n",
    "            # test the trained model\n",
    "            outputs = model(inputs)\n",
    "            # get test epoch loss\n",
    "            loss = criterion(outputs, labels)\n",
    "            epoch_loss.append(loss.item())\n",
    "            \n",
    "            # value, index\n",
    "            _, predictions = torch.max(outputs, 1)\n",
    "            y_pred.extend(predictions.data.cpu().numpy())\n",
    "            y_true.extend(labels.data.cpu().numpy())\n",
    "\n",
    "            n_samples += labels.shape[0] # gives us n of samples of current batch\n",
    "            n_correct += (predictions == labels).sum().item()\n",
    "\n",
    "        \n",
    "        # accuracy in percent\n",
    "        # acc = 100.0 * n_correct / n_samples\n",
    "        # print(f'accuracy = {acc}')\n",
    "    \n",
    "        # append avg loss per epoch to loss vals\n",
    "        print(epoch_loss, 'end')\n",
    "        loss_vals['test'].append(sum(epoch_loss)/len(epoch_loss))\n",
    "\n",
    "\n"
   ]
  },
  {
   "cell_type": "code",
   "execution_count": 26,
   "id": "ebace269",
   "metadata": {},
   "outputs": [
    {
     "data": {
      "image/png": "[encoded data removed]",
      "text/plain": [
       "<Figure size 640x480 with 1 Axes>"
      ]
     },
     "metadata": {},
     "output_type": "display_data"
    }
   ],
   "source": [
    "# plot loss once finished\n",
    "def my_plot(epochs, loss):\n",
    "    plt.plot(epochs, loss)\n",
    "    plt.title(f'train loss with batch size {batch}, lr {lr}')\n",
    "    plt.xlabel('epoch')\n",
    "    plt.ylabel('loss')\n",
    "# plot loss when finished\n",
    "my_plot(np.linspace(1, epochs, epochs).astype(int), loss_vals['train'])"
   ]
  },
  {
   "cell_type": "code",
   "execution_count": 156,
   "id": "a9511ac4",
   "metadata": {},
   "outputs": [
    {
     "name": "stdout",
     "output_type": "stream",
     "text": [
      "              precision    recall  f1-score   support\n",
      "\n",
      "           0       0.76      0.84      0.80       773\n",
      "           1       0.68      0.94      0.79       309\n",
      "           2       0.91      0.90      0.90      1822\n",
      "           3       0.97      0.92      0.94      3592\n",
      "\n",
      "    accuracy                           0.90      6496\n",
      "   macro avg       0.83      0.90      0.86      6496\n",
      "weighted avg       0.91      0.90      0.91      6496\n",
      "\n"
     ]
    }
   ],
   "source": [
    "from sklearn.metrics import classification_report\n",
    " \n",
    "print(classification_report(y_true, y_pred))"
   ]
  },
  {
   "cell_type": "code",
   "execution_count": 162,
   "id": "8f297497",
   "metadata": {},
   "outputs": [],
   "source": [
    "# save the model\n",
    "torch.save(model.state_dict(), \"./kowalsky_90_weighted_bigram.pth\")"
   ]
  },
  {
   "cell_type": "code",
   "execution_count": 161,
   "id": "8be40518",
   "metadata": {},
   "outputs": [
    {
     "name": "stdout",
     "output_type": "stream",
     "text": [
      "[[7.56097561e-01 1.18881119e-01 2.66963293e-02 6.74882629e-03]\n",
      " [1.39372822e-02 6.80652681e-01 5.56173526e-04 1.17370892e-03]\n",
      " [9.17537747e-02 6.75990676e-02 9.07119021e-01 2.43544601e-02]\n",
      " [1.38211382e-01 1.32867133e-01 6.56284761e-02 9.67723005e-01]]\n"
     ]
    },
    {
     "data": {
      "text/plain": [
       "<AxesSubplot:title={'center':'cf matrix of testadata size 6508, lr: 0.001, batches: 32, epochs: 30'}>"
      ]
     },
     "execution_count": 161,
     "metadata": {},
     "output_type": "execute_result"
    },
    {
     "data": {
      "image/png": "[encoded data removed]",
      "text/plain": [
       "<Figure size 864x504 with 2 Axes>"
      ]
     },
     "metadata": {
      "needs_background": "light"
     },
     "output_type": "display_data"
    }
   ],
   "source": [
    "# confusion matrix\n",
    "classes = ['agree', 'disagree', 'discuss', 'unrelated']\n",
    "\n",
    "# Build confusion matrix (normalized as precision)\n",
    "cf_matrix = confusion_matrix(y_true, y_pred, normalize='pred')\n",
    "# precision, is in a sense correctness, and recall is completeness.\n",
    "\n",
    "print(cf_matrix)\n",
    "df_cm = pd.DataFrame(cf_matrix, index = [i for i in classes],\n",
    "                     columns = [i for i in classes])\n",
    "plt.figure(figsize = (12,7))\n",
    "plt.title(f'cf matrix of testadata size {len(data._target_df)}, lr: {lr}, batches: {batch}, epochs: {epochs}')\n",
    "sns.heatmap(df_cm, annot=True)"
   ]
  }
 ],
 "metadata": {
  "interpreter": {
   "hash": "916dbcbb3f70747c44a77c7bcd40155683ae19c65e1c03b4aa3499c5328201f1"
  },
  "kernelspec": {
   "display_name": "Python 3.10.6 64-bit",
   "language": "python",
   "name": "python3"
  },
  "language_info": {
   "codemirror_mode": {
    "name": "ipython",
    "version": 3
   },
   "file_extension": ".py",
   "mimetype": "text/x-python",
   "name": "python",
   "nbconvert_exporter": "python",
   "pygments_lexer": "ipython3",
   "version": "3.10.6"
  },
  "vscode": {
   "interpreter": {
    "hash": "31f2aee4e71d21fbe5cf8b01ff0e069b9275f58929596ceb00d14d90e3e16cd6"
   }
  }
 },
 "nbformat": 4,
 "nbformat_minor": 5
}
