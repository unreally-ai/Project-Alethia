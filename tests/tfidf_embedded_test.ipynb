{
 "cells": [
  {
   "cell_type": "markdown",
   "id": "1e6e45c1",
   "metadata": {},
   "source": [
    "# The Unreally Notebook\n",
    "### Step 1 - load data & helper functions\n"
   ]
  },
  {
   "cell_type": "code",
   "execution_count": 1,
   "id": "a32684fc",
   "metadata": {},
   "outputs": [
    {
     "name": "stderr",
     "output_type": "stream",
     "text": [
      "/home/cas/.local/lib/python3.10/site-packages/tqdm/auto.py:22: TqdmWarning: IProgress not found. Please update jupyter and ipywidgets. See https://ipywidgets.readthedocs.io/en/stable/user_install.html\n",
      "  from .autonotebook import tqdm as notebook_tqdm\n"
     ]
    }
   ],
   "source": [
    "import torch\n",
    "import torch.nn as nn\n",
    "from torch.utils.data import Dataset, DataLoader, WeightedRandomSampler\n",
    "\n",
    "import matplotlib.pyplot as plt\n",
    "import seaborn as sns\n",
    "import pandas as pd\n",
    "import numpy as np\n",
    "\n",
    "from sklearn.model_selection import train_test_split\n",
    "from sklearn.feature_extraction.text import TfidfVectorizer,CountVectorizer\n",
    "from sklearn.metrics.pairwise import cosine_similarity\n",
    "from sklearn.metrics import confusion_matrix\n",
    "\n",
    "from collections import Counter\n",
    "import re\n",
    "\n",
    "from nltk.corpus import stopwords\n",
    "from nltk.stem import WordNetLemmatizer "
   ]
  },
  {
   "cell_type": "code",
   "execution_count": 3,
   "id": "386e74bf",
   "metadata": {},
   "outputs": [],
   "source": [
    "# path to dataset\n",
    "DATAPATH = 'data/upsampled_large.csv'\n",
    "# device\n",
    "device ='cuda'"
   ]
  },
  {
   "cell_type": "code",
   "execution_count": 4,
   "id": "a9e01cc6",
   "metadata": {},
   "outputs": [],
   "source": [
    "# takes in string & returns a cleaned string of all non-stop-words\n",
    "def preprocess(text, lemmatizer = WordNetLemmatizer()):\n",
    "    sw = set(stopwords.words('english'))\n",
    "    text = re.sub(r'[^\\w\\s]', '', text).lower()\n",
    "    s = \"\"\n",
    "    for word in text.split():\n",
    "        if word not in sw:\n",
    "                s += (lemmatizer.lemmatize(word) + \" \")\n",
    "    return s\n",
    "\n"
   ]
  },
  {
   "cell_type": "code",
   "execution_count": 14,
   "id": "d0bef21e",
   "metadata": {},
   "outputs": [],
   "source": [
    "# creates & fits bow & tfidf vectorizer to dataset\n",
    "# gets called in StanceDataset().__init__\n",
    "def fit_vectorizers(dataset):\n",
    "    print('fitting vectorizer...')\n",
    "\n",
    "    # create array of all texts in dataset\n",
    "    data = [preprocess(dataset.iloc[i]['head']) for i in range(len(dataset))] # headlines\n",
    "    data += (preprocess(dataset.iloc[i]['body']) for i in range(len(dataset))) # bodies\n",
    "\n",
    "    \n",
    "    # fit to dataset (creates dictionary)\n",
    "    bow = CountVectorizer(\n",
    "        #vocabulary=vocab,\n",
    "        max_features=5000,\n",
    "       #ngram_range=(2, 2)\n",
    "    )\n",
    "    bow.fit(data)\n",
    "\n",
    "    vocab = bow.vocabulary_\n",
    "    # save for later\n",
    "    vocab_df = pd.DataFrame.from_dict(vocab, orient=\"index\")\n",
    "    vocab_df.to_csv('generated_vocab.csv')\n",
    "\n",
    "    tfidf = TfidfVectorizer(\n",
    "        vocabulary=vocab,\n",
    "        max_features=5000,\n",
    "        #ngram_range=(2, 2) # bigrams\n",
    "    )\n",
    "    tfidf.fit(data)\n",
    "    print('vectorizer ready!')\n",
    "    return bow, tfidf"
   ]
  },
  {
   "cell_type": "markdown",
   "id": "1117a79b",
   "metadata": {},
   "source": [
    "### Step 2 - define pytorch custom dataset class"
   ]
  },
  {
   "cell_type": "code",
   "execution_count": 10,
   "id": "bc9e26e7",
   "metadata": {},
   "outputs": [],
   "source": [
    "# config\n",
    "\n",
    "# custom dataset class\n",
    "class StanceDataset(Dataset):\n",
    "    def __init__(self, stance_df,  val_split=False):\n",
    "        \"\"\"  Initalizes vectorizers, defines train/test splits\n",
    "        Args:\n",
    "            stance_df (pandas.DataFrame): the dataset\n",
    "        \"\"\"\n",
    "        self.df = stance_df\n",
    "        \n",
    "        self._bow, self._tfidf = fit_vectorizers(stance_df)\n",
    "        \n",
    "        # splits (train, test, validation) 80/20 \n",
    "        self.train, self.test = train_test_split(self.df, test_size=0.2, shuffle=True)\n",
    "        if val_split == True:   \n",
    "            # 50/50 val/test\n",
    "            self.test, self.val = train_test_split(self.test, test_size=0.5, shuffle=False)\n",
    "            self.val_len = len(self.val)\n",
    "        # split sizes\n",
    "        self.train_len = len(self.train)\n",
    "        self.test_len = len(self.test)\n",
    "        \n",
    "        self._lookup_dict = {'train': (self.train, self.train_len),\n",
    "                             'test': (self.test, self.test_len)}\n",
    "        if val_split == True:\n",
    "            self._lookup_dict.update({'val': (self.val, self.val_len)})\n",
    "\n",
    "        self.set_split('train')\n",
    "\n",
    "\n",
    "    def set_split(self, split='train'):\n",
    "        \"\"\" selects the splits in the dataset using a column in the dataframe \n",
    "        Args:\n",
    "            split (str): one of \"train\", \"val\", or \"test\"\n",
    "        \"\"\"\n",
    "        self._target_split = split\n",
    "        self._target_df, self._target_size = self._lookup_dict[split]\n",
    "\n",
    "    def __len__(self):\n",
    "        return self._target_size\n",
    "\n",
    "    def __getitem__(self, index):\n",
    "        \"\"\"\n",
    "        Args:\n",
    "            index (int): index to current data point\n",
    "        Returns:\n",
    "            dictionary holding tensor data point feature (x_data) and skalar tensor label (y_data)\n",
    "        \"\"\"\n",
    "        \n",
    "        # get text values from current row\n",
    "        row = (self._target_df.iloc[index])\n",
    "        claim = [row['head']]\n",
    "        body = [row['body']]\n",
    "\n",
    "        \n",
    "        # transform claim (headline/tweet) and target (body) to bowTF vector\n",
    "        bow_x = self._bow.transform(claim)\n",
    "        bow_y = self._bow.transform(body)\n",
    "\n",
    "        # transform claim (headline/tweet) and target (body) to TFIDF vector\n",
    "        tfidf_x = self._tfidf.transform(claim)\n",
    "        tfidf_y = self._tfidf.transform(body)\n",
    "        \n",
    "        # take cosine similary of TFIDF vectors\n",
    "        cosim = cosine_similarity(tfidf_x, tfidf_y)\n",
    "        \n",
    "        # concat x+cosim+y to input vector & convert to tensor\n",
    "        claim_df = pd.DataFrame(bow_x.toarray()) \n",
    "        body_df = pd.DataFrame(bow_y.toarray())\n",
    "        cosim_df = pd.DataFrame(cosim)\n",
    "        \n",
    "        x_data = (pd.concat([claim_df, cosim_df, body_df],axis=1)).to_numpy()\n",
    "        x_data = torch.from_numpy(x_data)\n",
    "\n",
    "        # get stance & convert to tensor\n",
    "        y_data = row['Stance']\n",
    "        stance_map = {\n",
    "            \"agree\": 0,\n",
    "            \"disagree\": 1,\n",
    "            \"discuss\": 2,\n",
    "            \"unrelated\": 3\n",
    "        }\n",
    "        y_data = torch.tensor(stance_map[y_data])\n",
    "        return {'x_data': x_data,\n",
    "                'y_target': y_data}"
   ]
  },
  {
   "cell_type": "code",
   "execution_count": 11,
   "id": "f20ec28e",
   "metadata": {},
   "outputs": [],
   "source": [
    "def load_dataset(excel=True):\n",
    "    \"\"\"\n",
    "    applies dataset class to dataset located at DATAPATH\n",
    "    args:\n",
    "        excel (bool): default true for .xlsx, else set false\n",
    "    \"\"\"\n",
    "    print('loading dataset...')\n",
    "    if excel == True:\n",
    "        df = pd.read_excel(\n",
    "            DATAPATH, \n",
    "            index_col=None, \n",
    "            header=0   \n",
    "        )\n",
    "    else:\n",
    "        df = pd.read_csv(\n",
    "            DATAPATH, \n",
    "            index_col=None,\n",
    "            header=0   \n",
    "        )\n",
    "    print('loaded!')\n",
    "    \n",
    "    dataset = StanceDataset(df, val_split=False)\n",
    "    return dataset"
   ]
  },
  {
   "cell_type": "code",
   "execution_count": 15,
   "id": "5dc61afe",
   "metadata": {},
   "outputs": [
    {
     "name": "stdout",
     "output_type": "stream",
     "text": [
      "loading dataset...\n",
      "loaded!\n",
      "fitting vectorizer...\n",
      "vectorizer ready!\n"
     ]
    }
   ],
   "source": [
    "data = load_dataset(excel=False)"
   ]
  },
  {
   "cell_type": "code",
   "execution_count": 16,
   "id": "d2ca07ac",
   "metadata": {},
   "outputs": [
    {
     "name": "stdout",
     "output_type": "stream",
     "text": [
      "should be the lenght of train split:  25360\n",
      "tensor([[0., 0., 0.,  ..., 0., 0., 0.]], dtype=torch.float64)\n",
      "tensor(3)\n",
      "10001\n"
     ]
    }
   ],
   "source": [
    "\"\"\"\n",
    "Test block for getitem. This is what the training loop will call\n",
    "\"\"\"\n",
    "\n",
    "data.set_split('train')\n",
    "print(\"should be the lenght of train split: \", len(data._target_df))\n",
    "\n",
    "d = data.__getitem__(1)\n",
    "print(d['x_data'])\n",
    "print(d['y_target'])\n",
    "print(len((d['x_data'])[0]))"
   ]
  },
  {
   "cell_type": "markdown",
   "id": "7a9a6ba5",
   "metadata": {},
   "source": [
    "### Weighted Sampler"
   ]
  },
  {
   "cell_type": "code",
   "execution_count": 17,
   "id": "4f13f6df",
   "metadata": {},
   "outputs": [
    {
     "name": "stdout",
     "output_type": "stream",
     "text": [
      "{'unrelated': 14648, 'discuss': 7137, 'agree': 2895, 'disagree': 680}\n"
     ]
    },
    {
     "data": {
      "image/png": "[encoded data removed]",
      "text/plain": [
       "<Figure size 640x480 with 1 Axes>"
      ]
     },
     "metadata": {},
     "output_type": "display_data"
    }
   ],
   "source": [
    "# distribution of labels (class distribution)\n",
    "def dist_of(df):\n",
    "    class_distribution = (pd.value_counts(df['Stance'])).to_dict()\n",
    "    print(class_distribution)\n",
    "    sns.barplot(data = pd.DataFrame.from_dict([class_distribution]).melt(), x = \"variable\", y=\"value\", hue=\"variable\").set_title(f'train class distribution size {len(df)}')\n",
    "\n",
    "dist_of(data._target_df)"
   ]
  },
  {
   "cell_type": "code",
   "execution_count": 18,
   "id": "bbd41702",
   "metadata": {},
   "outputs": [
    {
     "name": "stdout",
     "output_type": "stream",
     "text": [
      "{'unrelated': 14648, 'discuss': 7137, 'agree': 2895, 'disagree': 680}\n",
      "tensor([3.4542e-04, 1.4706e-03, 1.4011e-04, 6.8269e-05], device='cuda:0')\n"
     ]
    }
   ],
   "source": [
    "def sample(d):\n",
    "    class_count = dict(pd.value_counts(d['Stance']))\n",
    "    print(class_count)\n",
    "    stance_map = {\n",
    "        \"agree\": 0,\n",
    "        \"disagree\": 1,\n",
    "        \"discuss\": 2,\n",
    "        \"unrelated\": 3\n",
    "    }\n",
    "    # fit the class count to sequence agree, disagree, discuss, unrelated\n",
    "    cc = [0, 0, 0, 0]\n",
    "    for key in class_count:\n",
    "        cc[stance_map[key]] = class_count[key]\n",
    "\n",
    "    weight = 1./torch.tensor(cc, dtype=torch.float).to(device)\n",
    "    print(weight)\n",
    "    \n",
    "    # create array with weight for each data point\n",
    "    target_list = [stance_map[(d.iloc[i]['Stance'])] for i in range(len(d))]\n",
    "    samples_weight = torch.tensor([weight[t] for t in target_list]).to(device)\n",
    "\n",
    "    weighted_sampler = WeightedRandomSampler(\n",
    "        weights=samples_weight,\n",
    "        num_samples=len(samples_weight),\n",
    "        replacement=True\n",
    "    )\n",
    "    return weighted_sampler, weight\n",
    "\n",
    "train_sampler, train_weights = sample(data._target_df)"
   ]
  },
  {
   "cell_type": "markdown",
   "id": "12cdee13",
   "metadata": {},
   "source": [
    "### Step 3 - Define model & training"
   ]
  },
  {
   "cell_type": "code",
   "execution_count": 19,
   "id": "7f858166",
   "metadata": {},
   "outputs": [],
   "source": [
    "# hyperparameters\n",
    "in_dim = 10001\n",
    "hidden_dim = 100\n",
    "out_dim = 4\n",
    "epochs = 5 # 45\n",
    "batch = 32\n",
    "lr = 0.001"
   ]
  },
  {
   "cell_type": "code",
   "execution_count": 20,
   "id": "9e5b9b2c",
   "metadata": {},
   "outputs": [],
   "source": [
    "# re-usable way to create dataloader\n",
    "def make_batches(dataset, batch_size, shuffle=True, drop_last=True, sampler=None):\n",
    "    dataloader = DataLoader(dataset=dataset, batch_size=batch_size,\n",
    "                            shuffle=shuffle, drop_last=drop_last, sampler=sampler)\n",
    "    for data_dict in dataloader:\n",
    "        out_data_dict = {}\n",
    "        for name, tensor in data_dict.items():\n",
    "            out_data_dict[name] = data_dict[name].to(device)\n",
    "        yield out_data_dict\n"
   ]
  },
  {
   "cell_type": "code",
   "execution_count": 21,
   "id": "9e61f3e7",
   "metadata": {},
   "outputs": [],
   "source": [
    "# define neural net\n",
    "class NN(nn.Module):\n",
    "    def __init__(self, in_dim, hidden_dim, out_dim):\n",
    "        super(NN, self).__init__()\n",
    "\n",
    "        # define layers\n",
    "        self.l1 = nn.Linear(in_dim, hidden_dim)\n",
    "        self.relu = nn.ReLU()\n",
    "        self.l2 = nn.Linear(hidden_dim, out_dim)\n",
    "    \n",
    "    # applies layers with sample x\n",
    "    def forward(self, x):\n",
    "        out = self.l1(x).squeeze()\n",
    "        out = self.relu(out)\n",
    "        out = self.l2(out)\n",
    "        return out\n",
    "\n",
    "model = NN(in_dim, hidden_dim, out_dim).to(device)\n",
    "\n",
    "criterion = nn.CrossEntropyLoss(weight=train_weights)\n",
    "optimizer = torch.optim.Adam(model.parameters(), lr=lr)"
   ]
  },
  {
   "cell_type": "code",
   "execution_count": 22,
   "id": "d2a28a1e",
   "metadata": {},
   "outputs": [
    {
     "name": "stdout",
     "output_type": "stream",
     "text": [
      "Epoch 1 batch 1 loss: 0.0014209749698638917\n",
      "Epoch 1 batch 101 loss: 0.06609561648964882\n",
      "Epoch 1 batch 201 loss: 0.050712343260645866\n",
      "Epoch 1 batch 301 loss: 0.04427699427306652\n",
      "Epoch 1 batch 401 loss: 0.03858043076097965\n",
      "Epoch 1 batch 501 loss: 0.03656758970022202\n",
      "Epoch 1 batch 601 loss: 0.03225736005604267\n",
      "Epoch 1 batch 701 loss: 0.03243350477516651\n",
      "Epoch 2 batch 1 loss: 0.00013576941192150116\n",
      "Epoch 2 batch 101 loss: 0.029083545349538328\n",
      "Epoch 2 batch 201 loss: 0.026533034309744834\n",
      "Epoch 2 batch 301 loss: 0.028277058750391007\n",
      "Epoch 2 batch 401 loss: 0.025532915741205215\n",
      "Epoch 2 batch 501 loss: 0.02622305265814066\n",
      "Epoch 2 batch 601 loss: 0.023043633077293634\n",
      "Epoch 2 batch 701 loss: 0.021365744814276694\n",
      "Epoch 3 batch 1 loss: 0.00013607227802276613\n",
      "Epoch 3 batch 101 loss: 0.021802033193409443\n",
      "Epoch 3 batch 201 loss: 0.018492971658706666\n",
      "Epoch 3 batch 301 loss: 0.0200794792920351\n",
      "Epoch 3 batch 401 loss: 0.018702765677124263\n",
      "Epoch 3 batch 501 loss: 0.01761352615058422\n",
      "Epoch 3 batch 601 loss: 0.01794036144763231\n",
      "Epoch 3 batch 701 loss: 0.01805107080563903\n",
      "Epoch 4 batch 1 loss: 0.00022871935367584228\n",
      "Epoch 4 batch 101 loss: 0.01554211575165391\n",
      "Epoch 4 batch 201 loss: 0.015724968168884516\n",
      "Epoch 4 batch 301 loss: 0.016569447508081793\n",
      "Epoch 4 batch 401 loss: 0.014192129781469703\n",
      "Epoch 4 batch 501 loss: 0.01340045371837914\n",
      "Epoch 4 batch 601 loss: 0.01562327699456364\n",
      "Epoch 4 batch 701 loss: 0.013242772843688726\n",
      "Epoch 5 batch 1 loss: 0.00020850445330142974\n",
      "Epoch 5 batch 101 loss: 0.012993137208744884\n",
      "Epoch 5 batch 201 loss: 0.014142429165542125\n",
      "Epoch 5 batch 301 loss: 0.013268058408051729\n",
      "Epoch 5 batch 401 loss: 0.012441363491117954\n",
      "Epoch 5 batch 501 loss: 0.011570957295596599\n",
      "Epoch 5 batch 601 loss: 0.014172499800100923\n",
      "Epoch 5 batch 701 loss: 0.012538109503686428\n"
     ]
    }
   ],
   "source": [
    "\"\"\"\n",
    "training loop\n",
    "\"\"\"\n",
    "loss_vals=  {}\n",
    "loss_vals['train'] = []\n",
    "loss_vals['test'] = []\n",
    "\n",
    "\n",
    "for epoch in range(epochs):\n",
    "\n",
    "    # setup\n",
    "    data.set_split('train')\n",
    "    train_loader = make_batches(data, batch, shuffle=False, sampler=train_sampler)\n",
    "\n",
    "    running_loss = 0.\n",
    "    last_loss = 0.\n",
    "    epoch_loss = []\n",
    "\n",
    "    # enumerate to track the batch index and do some intra-epoch reporting\n",
    "    for i, sample in enumerate(train_loader):\n",
    "        # zero gradients each batch\n",
    "        optimizer.zero_grad()\n",
    "        \n",
    "        inputs = ((sample)['x_data']).float()\n",
    "        labels = sample['y_target']\n",
    "\n",
    "        # predict for batch\n",
    "        outputs = model(inputs)\n",
    "\n",
    "        # compute loss and gradients\n",
    "        loss = criterion(outputs, labels)\n",
    "        epoch_loss.append(loss.item())\n",
    "        loss.backward()\n",
    "\n",
    "        # adjust weights\n",
    "        optimizer.step()\n",
    "\n",
    "        # report\n",
    "        running_loss += loss.item()\n",
    "        if i % 100 == 0:\n",
    "            last_loss = running_loss / 1000 # loss per batch\n",
    "            print('Epoch {} batch {} loss: {}'.format(epoch + 1, i + 1, last_loss))\n",
    "            running_loss = 0.\n",
    "    \n",
    "    # append avg loss per epoch to loss vals\n",
    "    loss_vals['train'].append(sum(epoch_loss)/len(epoch_loss))"
   ]
  },
  {
   "cell_type": "code",
   "execution_count": 39,
   "id": "be53fac1",
   "metadata": {},
   "outputs": [
    {
     "name": "stdout",
     "output_type": "stream",
     "text": [
      "[0.8696005344390869, 0.45403578877449036, 0.27415597438812256, 0.5031293034553528, 1.918575644493103, 0.5461673736572266, 0.21122096478939056, 0.0544273667037487, 0.8403659462928772, 0.2172689586877823, 0.06479375809431076, 0.08034030348062515, 0.358083039522171, 0.7942358255386353, 1.5553091764450073, 0.2874756157398224, 1.6661972999572754, 0.8990775942802429, 0.08315743505954742, 3.8322157859802246, 0.2479015439748764, 0.32296809554100037, 0.6501874327659607, 0.2949916422367096, 0.1874411255121231, 0.48305416107177734, 0.7795547842979431, 0.33321791887283325, 0.5026571750640869, 0.24000349640846252, 0.27188199758529663, 0.09102210402488708, 0.27874746918678284, 0.4295768141746521, 1.2660646438598633, 0.06445856392383575, 0.7018883228302002, 0.4727005064487457, 0.23252497613430023, 0.5535383224487305, 0.13990497589111328, 0.4008382260799408, 1.258288025856018, 0.6196445226669312, 0.9672412276268005, 0.08456304669380188, 0.4321703612804413, 0.3299747705459595, 0.08658246695995331, 0.17398405075073242, 0.5032839179039001, 0.2578369379043579, 0.42106011509895325, 0.4210861921310425, 0.8362324237823486, 0.6432687044143677, 0.6453021764755249, 0.71700119972229, 0.0758233591914177, 1.3085083961486816, 0.2568826675415039, 1.7692257165908813, 0.28349271416664124, 0.3180679976940155, 0.17953328788280487, 0.4482925832271576, 0.3635365664958954, 0.4419306814670563, 0.17263692617416382, 0.37525779008865356, 0.6011870503425598, 0.25680428743362427, 1.4517585039138794, 0.607664942741394, 0.37424522638320923, 0.24588529765605927, 0.42112964391708374, 0.03758423030376434, 0.25467637181282043, 0.41219431161880493, 0.24644896388053894, 0.6731049418449402, 0.12366021424531937, 0.29342415928840637, 0.4705548584461212, 2.4448304176330566, 0.2994391620159149, 0.24811822175979614, 0.6529632210731506, 1.0084315538406372, 0.16229836642742157, 1.5951621532440186, 1.9522184133529663, 0.28144294023513794, 0.42448604106903076, 0.30408531427383423, 0.2438080757856369, 0.11815067380666733, 0.2626296877861023, 0.1674196422100067, 0.32682040333747864, 0.1498018056154251, 0.6349853277206421, 1.249646544456482, 0.4352426826953888, 0.7934669256210327, 0.38993173837661743, 0.6074320673942566, 0.2316368818283081, 0.6468459963798523, 0.729719877243042, 1.0682775974273682, 4.998537540435791, 0.5826154947280884, 0.16146385669708252, 0.4091547727584839, 0.18411676585674286, 1.3631703853607178, 1.0281322002410889, 0.12977667152881622, 1.7344187498092651, 0.826601505279541, 0.06625537574291229, 0.622570812702179, 0.6233479976654053, 0.8339104652404785, 0.8285439610481262, 0.28118759393692017, 0.3159239888191223, 0.283754825592041, 0.7882289886474609, 0.19981005787849426, 0.877475380897522, 0.3501620590686798, 0.6284623742103577, 1.7202978134155273, 1.3588231801986694, 0.23293063044548035, 0.5753468871116638, 0.14281722903251648, 1.4573075771331787, 0.3954288363456726, 0.6466175317764282, 0.22294239699840546, 0.27552857995033264, 0.4919714033603668, 0.2315012514591217, 1.1206005811691284, 0.39437198638916016, 0.07395822554826736, 1.4137223958969116, 0.5608320832252502, 1.1856719255447388, 0.2775954306125641, 0.5449402332305908, 0.0528990812599659, 0.26690101623535156, 0.5181772112846375, 0.5940190553665161, 0.3526831865310669, 0.10286127775907516, 0.5052027702331543, 0.10801868140697479, 1.0558415651321411, 0.5137127637863159, 0.22100281715393066, 1.0223190784454346, 0.5076414942741394, 0.5499940514564514, 1.2336496114730835, 1.300508975982666, 0.37048718333244324, 0.36854642629623413, 0.36457180976867676, 0.3263881206512451, 0.034553058445453644, 0.3779107332229614, 0.6643461585044861, 0.924994945526123, 0.3845502436161041, 0.24588839709758759, 0.406815767288208, 0.12244966626167297, 0.2878098785877228, 0.9246297478675842, 1.2063233852386475, 0.21863915026187897, 0.4453999102115631, 0.2996741533279419, 1.411503553390503, 0.8298743963241577, 0.8231372237205505, 0.31054553389549255, 0.6595436334609985, 0.4572034776210785, 0.2638452351093292, 1.0072458982467651, 0.1642954796552658] end\n",
      "[] end\n"
     ]
    },
    {
     "ename": "ZeroDivisionError",
     "evalue": "division by zero",
     "output_type": "error",
     "traceback": [
      "\u001b[0;31m---------------------------------------------------------------------------\u001b[0m",
      "\u001b[0;31mZeroDivisionError\u001b[0m                         Traceback (most recent call last)",
      "Cell \u001b[0;32mIn [39], line 44\u001b[0m\n\u001b[1;32m     38\u001b[0m \u001b[38;5;66;03m# accuracy in percent\u001b[39;00m\n\u001b[1;32m     39\u001b[0m \u001b[38;5;66;03m# acc = 100.0 * n_correct / n_samples\u001b[39;00m\n\u001b[1;32m     40\u001b[0m \u001b[38;5;66;03m# print(f'accuracy = {acc}')\u001b[39;00m\n\u001b[1;32m     41\u001b[0m \n\u001b[1;32m     42\u001b[0m \u001b[38;5;66;03m# append avg loss per epoch to loss vals\u001b[39;00m\n\u001b[1;32m     43\u001b[0m \u001b[38;5;28mprint\u001b[39m(epoch_loss, \u001b[38;5;124m'\u001b[39m\u001b[38;5;124mend\u001b[39m\u001b[38;5;124m'\u001b[39m)\n\u001b[0;32m---> 44\u001b[0m loss_vals[\u001b[38;5;124m'\u001b[39m\u001b[38;5;124mtest\u001b[39m\u001b[38;5;124m'\u001b[39m]\u001b[38;5;241m.\u001b[39mappend(\u001b[38;5;28;43msum\u001b[39;49m\u001b[43m(\u001b[49m\u001b[43mepoch_loss\u001b[49m\u001b[43m)\u001b[49m\u001b[38;5;241;43m/\u001b[39;49m\u001b[38;5;28;43mlen\u001b[39;49m\u001b[43m(\u001b[49m\u001b[43mepoch_loss\u001b[49m\u001b[43m)\u001b[49m)\n",
      "\u001b[0;31mZeroDivisionError\u001b[0m: division by zero"
     ]
    }
   ],
   "source": [
    "\n",
    "\n",
    "for epoch in range(epochs):\n",
    "\n",
    "    # setup\n",
    "    data.set_split('train')\n",
    "    train_loader = make_batches(data, batch, shuffle=False, sampler=train_sampler)\n",
    "\n",
    "    running_loss = 0.\n",
    "    last_loss = 0.\n",
    "    epoch_loss = []\n",
    "\n",
    "for epoch in range(epochs):\n",
    "    # setup\n",
    "    data.set_split('test')\n",
    "    test_loader = make_batches(data, batch)\n",
    "\n",
    "    epoch_loss = []\n",
    "    # accuracy\n",
    "    with torch.no_grad():\n",
    "        n_correct = 0\n",
    "        n_samples = 0\n",
    "        y_pred = []\n",
    "        y_true = []\n",
    "        for i, sample in enumerate(test_loader):\n",
    "            \n",
    "            if batch == 1:\n",
    "                inputs = (sample['x_data'])[0].float()\n",
    "            else:\n",
    "                inputs = ((sample)['x_data']).float()\n",
    "            labels = sample['y_target']\n",
    "            \n",
    "            \n",
    "            # test the trained model\n",
    "            outputs = model(inputs)\n",
    "            # get test epoch loss\n",
    "            loss = criterion(outputs, labels)\n",
    "            epoch_loss.append(loss.item())\n",
    "            \n",
    "            # value, index\n",
    "            _, predictions = torch.max(outputs, 1)\n",
    "            y_pred.extend(predictions.data.cpu().numpy())\n",
    "            y_true.extend(labels.data.cpu().numpy())\n",
    "\n",
    "            n_samples += labels.shape[0] # gives us n of samples of current batch\n",
    "            n_correct += (predictions == labels).sum().item()\n",
    "\n",
    "        \n",
    "        # accuracy in percent\n",
    "        # acc = 100.0 * n_correct / n_samples\n",
    "        # print(f'accuracy = {acc}')\n",
    "    \n",
    "        # append avg loss per epoch to loss vals\n",
    "        print(epoch_loss, 'end')\n",
    "        loss_vals['test'].append(sum(epoch_loss)/len(epoch_loss))\n",
    "\n",
    "\n"
   ]
  },
  {
   "cell_type": "code",
   "execution_count": 26,
   "id": "ebace269",
   "metadata": {},
   "outputs": [
    {
     "data": {
      "image/png": "[encoded data removed]",
      "text/plain": [
       "<Figure size 640x480 with 1 Axes>"
      ]
     },
     "metadata": {},
     "output_type": "display_data"
    }
   ],
   "source": [
    "# plot loss once finished\n",
    "def my_plot(epochs, loss):\n",
    "    plt.plot(epochs, loss)\n",
    "    plt.title(f'train loss with batch size {batch}, lr {lr}')\n",
    "    plt.xlabel('epoch')\n",
    "    plt.ylabel('loss')\n",
    "# plot loss when finished\n",
    "my_plot(np.linspace(1, epochs, epochs).astype(int), loss_vals['train'])"
   ]
  },
  {
   "cell_type": "code",
   "execution_count": 156,
   "id": "a9511ac4",
   "metadata": {},
   "outputs": [
    {
     "name": "stdout",
     "output_type": "stream",
     "text": [
      "              precision    recall  f1-score   support\n",
      "\n",
      "           0       0.76      0.84      0.80       773\n",
      "           1       0.68      0.94      0.79       309\n",
      "           2       0.91      0.90      0.90      1822\n",
      "           3       0.97      0.92      0.94      3592\n",
      "\n",
      "    accuracy                           0.90      6496\n",
      "   macro avg       0.83      0.90      0.86      6496\n",
      "weighted avg       0.91      0.90      0.91      6496\n",
      "\n"
     ]
    }
   ],
   "source": [
    "from sklearn.metrics import classification_report\n",
    " \n",
    "print(classification_report(y_true, y_pred))"
   ]
  },
  {
   "cell_type": "code",
   "execution_count": 162,
   "id": "8f297497",
   "metadata": {},
   "outputs": [],
   "source": [
    "# save the model\n",
    "torch.save(model.state_dict(), \"./kowalsky_90_weighted_bigram.pth\")"
   ]
  },
  {
   "cell_type": "code",
   "execution_count": 161,
   "id": "8be40518",
   "metadata": {},
   "outputs": [
    {
     "name": "stdout",
     "output_type": "stream",
     "text": [
      "[[7.56097561e-01 1.18881119e-01 2.66963293e-02 6.74882629e-03]\n",
      " [1.39372822e-02 6.80652681e-01 5.56173526e-04 1.17370892e-03]\n",
      " [9.17537747e-02 6.75990676e-02 9.07119021e-01 2.43544601e-02]\n",
      " [1.38211382e-01 1.32867133e-01 6.56284761e-02 9.67723005e-01]]\n"
     ]
    },
    {
     "data": {
      "text/plain": [
       "<AxesSubplot:title={'center':'cf matrix of testadata size 6508, lr: 0.001, batches: 32, epochs: 30'}>"
      ]
     },
     "execution_count": 161,
     "metadata": {},
     "output_type": "execute_result"
    },
    {
     "data": {
      "image/png": "[encoded data removed]",
      "text/plain": [
       "<Figure size 864x504 with 2 Axes>"
      ]
     },
     "metadata": {
      "needs_background": "light"
     },
     "output_type": "display_data"
    }
   ],
   "source": [
    "# confusion matrix\n",
    "classes = ['agree', 'disagree', 'discuss', 'unrelated']\n",
    "\n",
    "# Build confusion matrix (normalized as precision)\n",
    "cf_matrix = confusion_matrix(y_true, y_pred, normalize='pred')\n",
    "# precision, is in a sense correctness, and recall is completeness.\n",
    "\n",
    "print(cf_matrix)\n",
    "df_cm = pd.DataFrame(cf_matrix, index = [i for i in classes],\n",
    "                     columns = [i for i in classes])\n",
    "plt.figure(figsize = (12,7))\n",
    "plt.title(f'cf matrix of testadata size {len(data._target_df)}, lr: {lr}, batches: {batch}, epochs: {epochs}')\n",
    "sns.heatmap(df_cm, annot=True)"
   ]
  }
 ],
 "metadata": {
  "interpreter": {
   "hash": "916dbcbb3f70747c44a77c7bcd40155683ae19c65e1c03b4aa3499c5328201f1"
  },
  "kernelspec": {
   "display_name": "Python 3.10.6 64-bit",
   "language": "python",
   "name": "python3"
  },
  "language_info": {
   "codemirror_mode": {
    "name": "ipython",
    "version": 3
   },
   "file_extension": ".py",
   "mimetype": "text/x-python",
   "name": "python",
   "nbconvert_exporter": "python",
   "pygments_lexer": "ipython3",
   "version": "3.10.6"
  },
  "vscode": {
   "interpreter": {
    "hash": "31f2aee4e71d21fbe5cf8b01ff0e069b9275f58929596ceb00d14d90e3e16cd6"
   }
  }
 },
 "nbformat": 4,
 "nbformat_minor": 5
}
