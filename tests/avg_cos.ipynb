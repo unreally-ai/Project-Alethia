{
 "cells": [
  {
   "cell_type": "code",
   "execution_count": 1,
   "metadata": {},
   "outputs": [
    {
     "name": "stderr",
     "output_type": "stream",
     "text": [
      "/home/cas/.local/lib/python3.10/site-packages/tqdm/auto.py:22: TqdmWarning: IProgress not found. Please update jupyter and ipywidgets. See https://ipywidgets.readthedocs.io/en/stable/user_install.html\n",
      "  from .autonotebook import tqdm as notebook_tqdm\n"
     ]
    }
   ],
   "source": [
    "import numpy as np\n",
    "import pandas as pd\n",
    "\n",
    "from sentence_transformers import SentenceTransformer, util"
   ]
  },
  {
   "cell_type": "code",
   "execution_count": 2,
   "metadata": {},
   "outputs": [],
   "source": [
    "df = pd.read_csv(\"data/upsampled_large.csv\")"
   ]
  },
  {
   "cell_type": "code",
   "execution_count": 4,
   "metadata": {},
   "outputs": [
    {
     "data": {
      "text/html": [
       "<div>\n",
       "<style scoped>\n",
       "    .dataframe tbody tr th:only-of-type {\n",
       "        vertical-align: middle;\n",
       "    }\n",
       "\n",
       "    .dataframe tbody tr th {\n",
       "        vertical-align: top;\n",
       "    }\n",
       "\n",
       "    .dataframe thead th {\n",
       "        text-align: right;\n",
       "    }\n",
       "</style>\n",
       "<table border=\"1\" class=\"dataframe\">\n",
       "  <thead>\n",
       "    <tr style=\"text-align: right;\">\n",
       "      <th></th>\n",
       "      <th>Unnamed: 0</th>\n",
       "      <th>head</th>\n",
       "      <th>Body ID</th>\n",
       "      <th>Stance</th>\n",
       "      <th>body</th>\n",
       "    </tr>\n",
       "  </thead>\n",
       "  <tbody>\n",
       "    <tr>\n",
       "      <th>0</th>\n",
       "      <td>49971</td>\n",
       "      <td>Ann Arbor pizza delivery driver surprised with...</td>\n",
       "      <td>2532</td>\n",
       "      <td>agree</td>\n",
       "      <td>ANN ARBOR, Mich. – A pizza delivery man in Mic...</td>\n",
       "    </tr>\n",
       "    <tr>\n",
       "      <th>1</th>\n",
       "      <td>33707</td>\n",
       "      <td>Who Should Play Steve Jobs Now That Christian ...</td>\n",
       "      <td>1846</td>\n",
       "      <td>agree</td>\n",
       "      <td>Christian Bale will not be starring as Steve J...</td>\n",
       "    </tr>\n",
       "    <tr>\n",
       "      <th>2</th>\n",
       "      <td>33710</td>\n",
       "      <td>Michael Phelps' girlfriend was born male but d...</td>\n",
       "      <td>1847</td>\n",
       "      <td>agree</td>\n",
       "      <td>Before he checked into rehab in September, Mic...</td>\n",
       "    </tr>\n",
       "    <tr>\n",
       "      <th>3</th>\n",
       "      <td>33711</td>\n",
       "      <td>Michael Phelps’ alleged girlfriend says she wa...</td>\n",
       "      <td>1847</td>\n",
       "      <td>agree</td>\n",
       "      <td>Before he checked into rehab in September, Mic...</td>\n",
       "    </tr>\n",
       "    <tr>\n",
       "      <th>4</th>\n",
       "      <td>33712</td>\n",
       "      <td>Michael Phelps Sex Scandal: Troubled Olympian’...</td>\n",
       "      <td>1847</td>\n",
       "      <td>agree</td>\n",
       "      <td>Before he checked into rehab in September, Mic...</td>\n",
       "    </tr>\n",
       "  </tbody>\n",
       "</table>\n",
       "</div>"
      ],
      "text/plain": [
       "   Unnamed: 0                                               head  Body ID  \\\n",
       "0       49971  Ann Arbor pizza delivery driver surprised with...     2532   \n",
       "1       33707  Who Should Play Steve Jobs Now That Christian ...     1846   \n",
       "2       33710  Michael Phelps' girlfriend was born male but d...     1847   \n",
       "3       33711  Michael Phelps’ alleged girlfriend says she wa...     1847   \n",
       "4       33712  Michael Phelps Sex Scandal: Troubled Olympian’...     1847   \n",
       "\n",
       "  Stance                                               body  \n",
       "0  agree  ANN ARBOR, Mich. – A pizza delivery man in Mic...  \n",
       "1  agree  Christian Bale will not be starring as Steve J...  \n",
       "2  agree  Before he checked into rehab in September, Mic...  \n",
       "3  agree  Before he checked into rehab in September, Mic...  \n",
       "4  agree  Before he checked into rehab in September, Mic...  "
      ]
     },
     "execution_count": 4,
     "metadata": {},
     "output_type": "execute_result"
    }
   ],
   "source": [
    "df.head()"
   ]
  },
  {
   "cell_type": "code",
   "execution_count": null,
   "metadata": {},
   "outputs": [],
   "source": [
    "def cosim(row):\n",
    "    # define embedding method here\n",
    "    x = [1, 1, 0]\n",
    "    y = [1, 1, 1] \n",
    "    # x = model.encode(row[\"head\"], convert_to_tensor=True)\n",
    "    # y = model.encode(row[\"body\"], convert_to_tensor=True)\n",
    "    # compute cosine similarity\n",
    "    return util.cos_sim(x, y)"
   ]
  },
  {
   "cell_type": "code",
   "execution_count": 10,
   "metadata": {},
   "outputs": [
    {
     "data": {
      "text/plain": [
       "3678"
      ]
     },
     "execution_count": 10,
     "metadata": {},
     "output_type": "execute_result"
    }
   ],
   "source": [
    "# all rows with agree\n",
    "df[(df[\"Stance\"] == \"agree\")]\n"
   ]
  },
  {
   "cell_type": "code",
   "execution_count": null,
   "metadata": {},
   "outputs": [],
   "source": [
    "labels = [\"agree\", \"disagree\", \"discuss\", \"unrelated\"]\n",
    "\n",
    "for label in labels:\n",
    "    data = df[(df[\"Stance\"] == label)]\n",
    "    cs = [cosim(row) for row in data]"
   ]
  }
 ],
 "metadata": {
  "kernelspec": {
   "display_name": "Python 3",
   "language": "python",
   "name": "python3"
  },
  "language_info": {
   "codemirror_mode": {
    "name": "ipython",
    "version": 3
   },
   "file_extension": ".py",
   "mimetype": "text/x-python",
   "name": "python",
   "nbconvert_exporter": "python",
   "pygments_lexer": "ipython3",
   "version": "3.10.6"
  },
  "orig_nbformat": 4,
  "vscode": {
   "interpreter": {
    "hash": "916dbcbb3f70747c44a77c7bcd40155683ae19c65e1c03b4aa3499c5328201f1"
   }
  }
 },
 "nbformat": 4,
 "nbformat_minor": 2
}
