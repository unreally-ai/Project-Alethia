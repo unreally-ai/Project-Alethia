{
 "cells": [
  {
   "cell_type": "code",
   "execution_count": 28,
   "metadata": {},
   "outputs": [
    {
     "ename": "OSError",
     "evalue": "/home/cas/.local/lib/python3.10/site-packages/torchtext/lib/libtorchtext.so: undefined symbol: _ZN2at4_ops19empty_memory_format4callEN3c108ArrayRefIlEENS2_8optionalINS2_10ScalarTypeEEENS5_INS2_6LayoutEEENS5_INS2_6DeviceEEENS5_IbEENS5_INS2_12MemoryFormatEEE",
     "output_type": "error",
     "traceback": [
      "\u001b[0;31m---------------------------------------------------------------------------\u001b[0m",
      "\u001b[0;31mOSError\u001b[0m                                   Traceback (most recent call last)",
      "\u001b[1;32m/home/cas/Documents/coding/python/Aletheia/tests/avg_cos.ipynb Cell 1\u001b[0m in \u001b[0;36m<cell line: 6>\u001b[0;34m()\u001b[0m\n\u001b[1;32m      <a href='vscode-notebook-cell:/home/cas/Documents/coding/python/Aletheia/tests/avg_cos.ipynb#W0sZmlsZQ%3D%3D?line=3'>4</a>\u001b[0m \u001b[39mfrom\u001b[39;00m \u001b[39msentence_transformers\u001b[39;00m \u001b[39mimport\u001b[39;00m util \u001b[39m#SentenceTransformer,\u001b[39;00m\n\u001b[1;32m      <a href='vscode-notebook-cell:/home/cas/Documents/coding/python/Aletheia/tests/avg_cos.ipynb#W0sZmlsZQ%3D%3D?line=4'>5</a>\u001b[0m \u001b[39mimport\u001b[39;00m \u001b[39mtorch\u001b[39;00m\n\u001b[0;32m----> <a href='vscode-notebook-cell:/home/cas/Documents/coding/python/Aletheia/tests/avg_cos.ipynb#W0sZmlsZQ%3D%3D?line=5'>6</a>\u001b[0m \u001b[39mfrom\u001b[39;00m \u001b[39mtorchtext\u001b[39;00m\u001b[39m.\u001b[39;00m\u001b[39mdata\u001b[39;00m \u001b[39mimport\u001b[39;00m get_tokenizer\n\u001b[1;32m      <a href='vscode-notebook-cell:/home/cas/Documents/coding/python/Aletheia/tests/avg_cos.ipynb#W0sZmlsZQ%3D%3D?line=6'>7</a>\u001b[0m \u001b[39mfrom\u001b[39;00m \u001b[39mtorchtext\u001b[39;00m\u001b[39m.\u001b[39;00m\u001b[39mvocab\u001b[39;00m \u001b[39mimport\u001b[39;00m GloVe\n",
      "File \u001b[0;32m~/.local/lib/python3.10/site-packages/torchtext/__init__.py:6\u001b[0m, in \u001b[0;36m<module>\u001b[0;34m\u001b[0m\n\u001b[1;32m      3\u001b[0m \u001b[39mfrom\u001b[39;00m \u001b[39mtorch\u001b[39;00m\u001b[39m.\u001b[39;00m\u001b[39mhub\u001b[39;00m \u001b[39mimport\u001b[39;00m _get_torch_home\n\u001b[1;32m      5\u001b[0m \u001b[39m# the following import has to happen first in order to load the torchtext C++ library\u001b[39;00m\n\u001b[0;32m----> 6\u001b[0m \u001b[39mfrom\u001b[39;00m \u001b[39mtorchtext\u001b[39;00m \u001b[39mimport\u001b[39;00m _extension  \u001b[39m# noqa: F401\u001b[39;00m\n\u001b[1;32m      8\u001b[0m _TEXT_BUCKET \u001b[39m=\u001b[39m \u001b[39m\"\u001b[39m\u001b[39mhttps://download.pytorch.org/models/text/\u001b[39m\u001b[39m\"\u001b[39m\n\u001b[1;32m     10\u001b[0m _CACHE_DIR \u001b[39m=\u001b[39m os\u001b[39m.\u001b[39mpath\u001b[39m.\u001b[39mexpanduser(os\u001b[39m.\u001b[39mpath\u001b[39m.\u001b[39mjoin(_get_torch_home(), \u001b[39m\"\u001b[39m\u001b[39mtext\u001b[39m\u001b[39m\"\u001b[39m))\n",
      "File \u001b[0;32m~/.local/lib/python3.10/site-packages/torchtext/_extension.py:64\u001b[0m, in \u001b[0;36m<module>\u001b[0;34m\u001b[0m\n\u001b[1;32m     59\u001b[0m     \u001b[39m# This import is for initializing the methods registered via PyBind11\u001b[39;00m\n\u001b[1;32m     60\u001b[0m     \u001b[39m# This has to happen after the base library is loaded\u001b[39;00m\n\u001b[1;32m     61\u001b[0m     \u001b[39mfrom\u001b[39;00m \u001b[39mtorchtext\u001b[39;00m \u001b[39mimport\u001b[39;00m _torchtext  \u001b[39m# noqa\u001b[39;00m\n\u001b[0;32m---> 64\u001b[0m _init_extension()\n",
      "File \u001b[0;32m~/.local/lib/python3.10/site-packages/torchtext/_extension.py:58\u001b[0m, in \u001b[0;36m_init_extension\u001b[0;34m()\u001b[0m\n\u001b[1;32m     55\u001b[0m \u001b[39mif\u001b[39;00m \u001b[39mnot\u001b[39;00m _mod_utils\u001b[39m.\u001b[39mis_module_available(\u001b[39m\"\u001b[39m\u001b[39mtorchtext._torchtext\u001b[39m\u001b[39m\"\u001b[39m):\n\u001b[1;32m     56\u001b[0m     \u001b[39mraise\u001b[39;00m \u001b[39mImportError\u001b[39;00m(\u001b[39m\"\u001b[39m\u001b[39mtorchtext C++ Extension is not found.\u001b[39m\u001b[39m\"\u001b[39m)\n\u001b[0;32m---> 58\u001b[0m _load_lib(\u001b[39m\"\u001b[39;49m\u001b[39mlibtorchtext\u001b[39;49m\u001b[39m\"\u001b[39;49m)\n\u001b[1;32m     59\u001b[0m \u001b[39m# This import is for initializing the methods registered via PyBind11\u001b[39;00m\n\u001b[1;32m     60\u001b[0m \u001b[39m# This has to happen after the base library is loaded\u001b[39;00m\n\u001b[1;32m     61\u001b[0m \u001b[39mfrom\u001b[39;00m \u001b[39mtorchtext\u001b[39;00m \u001b[39mimport\u001b[39;00m _torchtext\n",
      "File \u001b[0;32m~/.local/lib/python3.10/site-packages/torchtext/_extension.py:50\u001b[0m, in \u001b[0;36m_load_lib\u001b[0;34m(lib)\u001b[0m\n\u001b[1;32m     48\u001b[0m \u001b[39mif\u001b[39;00m \u001b[39mnot\u001b[39;00m path\u001b[39m.\u001b[39mexists():\n\u001b[1;32m     49\u001b[0m     \u001b[39mreturn\u001b[39;00m \u001b[39mFalse\u001b[39;00m\n\u001b[0;32m---> 50\u001b[0m torch\u001b[39m.\u001b[39;49mops\u001b[39m.\u001b[39;49mload_library(path)\n\u001b[1;32m     51\u001b[0m \u001b[39mreturn\u001b[39;00m \u001b[39mTrue\u001b[39;00m\n",
      "File \u001b[0;32m~/.local/lib/python3.10/site-packages/torch/_ops.py:573\u001b[0m, in \u001b[0;36m_Ops.load_library\u001b[0;34m(self, path)\u001b[0m\n\u001b[1;32m    568\u001b[0m path \u001b[39m=\u001b[39m _utils_internal\u001b[39m.\u001b[39mresolve_library_path(path)\n\u001b[1;32m    569\u001b[0m \u001b[39mwith\u001b[39;00m dl_open_guard():\n\u001b[1;32m    570\u001b[0m     \u001b[39m# Import the shared library into the process, thus running its\u001b[39;00m\n\u001b[1;32m    571\u001b[0m     \u001b[39m# static (global) initialization code in order to register custom\u001b[39;00m\n\u001b[1;32m    572\u001b[0m     \u001b[39m# operators with the JIT.\u001b[39;00m\n\u001b[0;32m--> 573\u001b[0m     ctypes\u001b[39m.\u001b[39;49mCDLL(path)\n\u001b[1;32m    574\u001b[0m \u001b[39mself\u001b[39m\u001b[39m.\u001b[39mloaded_libraries\u001b[39m.\u001b[39madd(path)\n",
      "File \u001b[0;32m/usr/lib/python3.10/ctypes/__init__.py:374\u001b[0m, in \u001b[0;36mCDLL.__init__\u001b[0;34m(self, name, mode, handle, use_errno, use_last_error, winmode)\u001b[0m\n\u001b[1;32m    371\u001b[0m \u001b[39mself\u001b[39m\u001b[39m.\u001b[39m_FuncPtr \u001b[39m=\u001b[39m _FuncPtr\n\u001b[1;32m    373\u001b[0m \u001b[39mif\u001b[39;00m handle \u001b[39mis\u001b[39;00m \u001b[39mNone\u001b[39;00m:\n\u001b[0;32m--> 374\u001b[0m     \u001b[39mself\u001b[39m\u001b[39m.\u001b[39m_handle \u001b[39m=\u001b[39m _dlopen(\u001b[39mself\u001b[39;49m\u001b[39m.\u001b[39;49m_name, mode)\n\u001b[1;32m    375\u001b[0m \u001b[39melse\u001b[39;00m:\n\u001b[1;32m    376\u001b[0m     \u001b[39mself\u001b[39m\u001b[39m.\u001b[39m_handle \u001b[39m=\u001b[39m handle\n",
      "\u001b[0;31mOSError\u001b[0m: /home/cas/.local/lib/python3.10/site-packages/torchtext/lib/libtorchtext.so: undefined symbol: _ZN2at4_ops19empty_memory_format4callEN3c108ArrayRefIlEENS2_8optionalINS2_10ScalarTypeEEENS5_INS2_6LayoutEEENS5_INS2_6DeviceEEENS5_IbEENS5_INS2_12MemoryFormatEEE"
     ]
    }
   ],
   "source": [
    "import numpy as np\n",
    "import pandas as pd\n",
    "\n",
    "from sentence_transformers import util #SentenceTransformer,\n",
    "import torch\n",
    "from torchtext.data import get_tokenizer\n",
    "from torchtext.vocab import GloVe"
   ]
  },
  {
   "cell_type": "code",
   "execution_count": 2,
   "metadata": {},
   "outputs": [],
   "source": [
    "df = pd.read_csv(\"data/upsampled_large.csv\")"
   ]
  },
  {
   "cell_type": "code",
   "execution_count": 3,
   "metadata": {},
   "outputs": [
    {
     "data": {
      "text/html": [
       "<div>\n",
       "<style scoped>\n",
       "    .dataframe tbody tr th:only-of-type {\n",
       "        vertical-align: middle;\n",
       "    }\n",
       "\n",
       "    .dataframe tbody tr th {\n",
       "        vertical-align: top;\n",
       "    }\n",
       "\n",
       "    .dataframe thead th {\n",
       "        text-align: right;\n",
       "    }\n",
       "</style>\n",
       "<table border=\"1\" class=\"dataframe\">\n",
       "  <thead>\n",
       "    <tr style=\"text-align: right;\">\n",
       "      <th></th>\n",
       "      <th>Unnamed: 0</th>\n",
       "      <th>head</th>\n",
       "      <th>Body ID</th>\n",
       "      <th>Stance</th>\n",
       "      <th>body</th>\n",
       "    </tr>\n",
       "  </thead>\n",
       "  <tbody>\n",
       "    <tr>\n",
       "      <th>0</th>\n",
       "      <td>49971</td>\n",
       "      <td>Ann Arbor pizza delivery driver surprised with...</td>\n",
       "      <td>2532</td>\n",
       "      <td>agree</td>\n",
       "      <td>ANN ARBOR, Mich. – A pizza delivery man in Mic...</td>\n",
       "    </tr>\n",
       "    <tr>\n",
       "      <th>1</th>\n",
       "      <td>33707</td>\n",
       "      <td>Who Should Play Steve Jobs Now That Christian ...</td>\n",
       "      <td>1846</td>\n",
       "      <td>agree</td>\n",
       "      <td>Christian Bale will not be starring as Steve J...</td>\n",
       "    </tr>\n",
       "    <tr>\n",
       "      <th>2</th>\n",
       "      <td>33710</td>\n",
       "      <td>Michael Phelps' girlfriend was born male but d...</td>\n",
       "      <td>1847</td>\n",
       "      <td>agree</td>\n",
       "      <td>Before he checked into rehab in September, Mic...</td>\n",
       "    </tr>\n",
       "    <tr>\n",
       "      <th>3</th>\n",
       "      <td>33711</td>\n",
       "      <td>Michael Phelps’ alleged girlfriend says she wa...</td>\n",
       "      <td>1847</td>\n",
       "      <td>agree</td>\n",
       "      <td>Before he checked into rehab in September, Mic...</td>\n",
       "    </tr>\n",
       "    <tr>\n",
       "      <th>4</th>\n",
       "      <td>33712</td>\n",
       "      <td>Michael Phelps Sex Scandal: Troubled Olympian’...</td>\n",
       "      <td>1847</td>\n",
       "      <td>agree</td>\n",
       "      <td>Before he checked into rehab in September, Mic...</td>\n",
       "    </tr>\n",
       "  </tbody>\n",
       "</table>\n",
       "</div>"
      ],
      "text/plain": [
       "   Unnamed: 0                                               head  Body ID  \\\n",
       "0       49971  Ann Arbor pizza delivery driver surprised with...     2532   \n",
       "1       33707  Who Should Play Steve Jobs Now That Christian ...     1846   \n",
       "2       33710  Michael Phelps' girlfriend was born male but d...     1847   \n",
       "3       33711  Michael Phelps’ alleged girlfriend says she wa...     1847   \n",
       "4       33712  Michael Phelps Sex Scandal: Troubled Olympian’...     1847   \n",
       "\n",
       "  Stance                                               body  \n",
       "0  agree  ANN ARBOR, Mich. – A pizza delivery man in Mic...  \n",
       "1  agree  Christian Bale will not be starring as Steve J...  \n",
       "2  agree  Before he checked into rehab in September, Mic...  \n",
       "3  agree  Before he checked into rehab in September, Mic...  \n",
       "4  agree  Before he checked into rehab in September, Mic...  "
      ]
     },
     "execution_count": 3,
     "metadata": {},
     "output_type": "execute_result"
    }
   ],
   "source": [
    "df.head()"
   ]
  },
  {
   "cell_type": "code",
   "execution_count": 66,
   "metadata": {},
   "outputs": [],
   "source": [
    "tokenizer = get_tokenizer(\"basic_english\")\n",
    "max_words = 20\n",
    "embed_len=300\n",
    "global_vectors = GloVe(name='840B', dim=embed_len)"
   ]
  },
  {
   "cell_type": "code",
   "execution_count": null,
   "metadata": {},
   "outputs": [],
   "source": [
    "# takes string, return 6000 dim GloVe vector\n",
    "def to_vector(s):\n",
    "    X = tokenizer(s)\n",
    "    # fill / cut tokens to max size\n",
    "    if len(X) < max_words:\n",
    "        X = X+[\"\"]*(max_words-len(X))\n",
    "    else:\n",
    "        X = X[:max_words]\n",
    "\n",
    "    X_tensor = torch.zeros(1, max_words, embed_len)\n",
    "    for i, j in enumerate(X):\n",
    "        X_tensor[0][i] = global_vectors.get_vecs_by_tokens(j)\n",
    "    return(X_tensor.reshape(1, -1))"
   ]
  },
  {
   "cell_type": "code",
   "execution_count": 26,
   "metadata": {},
   "outputs": [],
   "source": [
    "def cosim(row):\n",
    "    # define embedding method here\n",
    "    #cs = model.encode([row[\"head\"], row[\"body\"]])\n",
    "    x = to_tfidf(row)\n",
    "\n",
    "    # compute cosine similarity\n",
    "    return util.cos_sim(x[0], x[1])"
   ]
  },
  {
   "cell_type": "code",
   "execution_count": 103,
   "metadata": {},
   "outputs": [],
   "source": [
    "\n",
    "samples = 50\n",
    "avg_class_cs = {}\n",
    "\n",
    "stances = [\"agree\", \"disagree\", \"discuss\", \"unrelated\"]\n",
    "\n",
    "for stance in stances:\n",
    "    # initialize \n",
    "    cs = []\n",
    "    for i in range(samples):\n",
    "\n",
    "        # all rows with the stance\n",
    "        stance_df = df[(df[\"Stance\"] == stance)]\n",
    "        cs += cosim(stance_df.iloc[i])\n",
    "    \n",
    "    avg_class_cs[stance] = sum(cs) / len(cs)\n"
   ]
  },
  {
   "cell_type": "code",
   "execution_count": 104,
   "metadata": {},
   "outputs": [
    {
     "data": {
      "text/plain": [
       "{'agree': tensor([0.6289]), 'disagree': tensor([0.6085])}"
      ]
     },
     "execution_count": 104,
     "metadata": {},
     "output_type": "execute_result"
    }
   ],
   "source": [
    "avg_class_cs"
   ]
  },
  {
   "cell_type": "code",
   "execution_count": 108,
   "metadata": {},
   "outputs": [
    {
     "name": "stderr",
     "output_type": "stream",
     "text": [
      "/usr/lib/python3/dist-packages/numpy/lib/stride_tricks.py:536: FutureWarning: The input object of type 'Tensor' is an array-like implementing one of the corresponding protocols (`__array__`, `__array_interface__` or `__array_struct__`); but not a sequence (or 0-D). In the future, this object will be coerced as if it was first converted using `np.array(obj)`. To retain the old behaviour, you have to either modify the type 'Tensor', or assign to an empty array created with `np.empty(correct_shape, dtype=object)`.\n",
      "  args = [np.array(_m, copy=False, subok=subok) for _m in args]\n",
      "/usr/lib/python3/dist-packages/numpy/lib/stride_tricks.py:536: VisibleDeprecationWarning: Creating an ndarray from ragged nested sequences (which is a list-or-tuple of lists-or-tuples-or ndarrays with different lengths or shapes) is deprecated. If you meant to do this, you must specify 'dtype=object' when creating the ndarray.\n",
      "  args = [np.array(_m, copy=False, subok=subok) for _m in args]\n",
      "/usr/lib/python3/dist-packages/numpy/core/fromnumeric.py:43: VisibleDeprecationWarning: Creating an ndarray from ragged nested sequences (which is a list-or-tuple of lists-or-tuples-or ndarrays with different lengths or shapes) is deprecated. If you meant to do this, you must specify 'dtype=object' when creating the ndarray.\n",
      "  result = getattr(asarray(obj), method)(*args, **kwds)\n"
     ]
    },
    {
     "data": {
      "image/png": "[encoded data removed]",
      "text/plain": [
       "<Figure size 432x288 with 1 Axes>"
      ]
     },
     "metadata": {
      "needs_background": "light"
     },
     "output_type": "display_data"
    }
   ],
   "source": [
    "import matplotlib.pyplot as plt\n",
    "fig = plt.figure()\n",
    "ax = fig.add_axes([0,0,1,1])\n",
    "langs = ['agree', \"disagree\"]\n",
    "students = [avg_class_cs[\"agree\"], avg_class_cs[\"disagree\"]]\n",
    "ax.bar(langs,students)\n",
    "plt.show()"
   ]
  }
 ],
 "metadata": {
  "kernelspec": {
   "display_name": "Python 3",
   "language": "python",
   "name": "python3"
  },
  "language_info": {
   "codemirror_mode": {
    "name": "ipython",
    "version": 3
   },
   "file_extension": ".py",
   "mimetype": "text/x-python",
   "name": "python",
   "nbconvert_exporter": "python",
   "pygments_lexer": "ipython3",
   "version": "3.10.6 (main, Nov 14 2022, 16:10:14) [GCC 11.3.0]"
  },
  "orig_nbformat": 4,
  "vscode": {
   "interpreter": {
    "hash": "916dbcbb3f70747c44a77c7bcd40155683ae19c65e1c03b4aa3499c5328201f1"
   }
  }
 },
 "nbformat": 4,
 "nbformat_minor": 2
}
