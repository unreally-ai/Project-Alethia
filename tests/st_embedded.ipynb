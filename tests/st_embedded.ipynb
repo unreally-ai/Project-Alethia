{
 "cells": [
  {
   "cell_type": "markdown",
   "id": "1e6e45c1",
   "metadata": {},
   "source": [
    "# Sentence Transformers\n",
    "### Step 1 - load data & helper functions\n"
   ]
  },
  {
   "cell_type": "code",
   "execution_count": 1,
   "id": "a32684fc",
   "metadata": {},
   "outputs": [
    {
     "name": "stderr",
     "output_type": "stream",
     "text": [
      "/home/cas/.local/lib/python3.10/site-packages/tqdm/auto.py:22: TqdmWarning: IProgress not found. Please update jupyter and ipywidgets. See https://ipywidgets.readthedocs.io/en/stable/user_install.html\n",
      "  from .autonotebook import tqdm as notebook_tqdm\n"
     ]
    }
   ],
   "source": [
    "import torch\n",
    "import torch.nn as nn\n",
    "from torchtext.data import get_tokenizer\n",
    "from torch.utils.data import Dataset, DataLoader, WeightedRandomSampler\n",
    "from sentence_transformers import SentenceTransformer\n",
    "\n",
    "import matplotlib.pyplot as plt\n",
    "import seaborn as sns\n",
    "import pandas as pd\n",
    "import numpy as np\n",
    "\n",
    "from sklearn.model_selection import train_test_split\n",
    "from sklearn.metrics import confusion_matrix"
   ]
  },
  {
   "cell_type": "code",
   "execution_count": 3,
   "id": "386e74bf",
   "metadata": {},
   "outputs": [],
   "source": [
    "# path to dataset\n",
    "DATAPATH = 'data/upsampled_large.csv'\n",
    "# device\n",
    "device = 'cuda' # cpu"
   ]
  },
  {
   "cell_type": "code",
   "execution_count": 4,
   "id": "b5ae5f8f",
   "metadata": {},
   "outputs": [],
   "source": [
    "# load the tranformer to create embeddings\n",
    "# all-mpnet-base-v2\n",
    "st = SentenceTransformer('sentence-transformers/all-MiniLM-L6-v2', device=device)"
   ]
  },
  {
   "cell_type": "code",
   "execution_count": 5,
   "id": "1f8f489a",
   "metadata": {},
   "outputs": [],
   "source": [
    "# takes string, return 6000 dim GloVe vector\n",
    "def to_vector(s):\n",
    "    x = st.encode(\n",
    "        s,\n",
    "        batch_size=100,\n",
    "        convert_to_tensor=True\n",
    "    )\n",
    "    return x"
   ]
  },
  {
   "cell_type": "code",
   "execution_count": 9,
   "id": "fae5f942",
   "metadata": {},
   "outputs": [
    {
     "name": "stdout",
     "output_type": "stream",
     "text": [
      "torch.Size([1, 384]) torch.Size([1, 384])\n"
     ]
    },
    {
     "data": {
      "text/plain": [
       "torch.Size([1, 768])"
      ]
     },
     "execution_count": 9,
     "metadata": {},
     "output_type": "execute_result"
    }
   ],
   "source": [
    "x = to_vector([\"test\"])\n",
    "y = to_vector([\"vetor\"])\n",
    "(print(x.shape, y.shape))\n",
    "Z = torch.cat((x, y), 1)\n",
    "Z.shape"
   ]
  },
  {
   "cell_type": "markdown",
   "id": "1117a79b",
   "metadata": {},
   "source": [
    "### Step 2 - define pytorch custom dataset class"
   ]
  },
  {
   "cell_type": "code",
   "execution_count": 10,
   "id": "bc9e26e7",
   "metadata": {},
   "outputs": [],
   "source": [
    "# custom dataset class\n",
    "class StanceDataset(Dataset):\n",
    "    def __init__(self, stance_df,  val_split=False):\n",
    "        \"\"\"  Initalizes vectorizers, defines train/test splits\n",
    "        Args:\n",
    "            stance_df (pandas.DataFrame): the dataset\n",
    "        \"\"\"\n",
    "        self.df = stance_df\n",
    "        \n",
    "        # splits (train, test, validation) 80/20 \n",
    "        self.train, self.test = train_test_split(self.df, test_size=0.2, shuffle=True)\n",
    "        if val_split == True:   \n",
    "            # 50/50 val/test\n",
    "            self.test, self.val = train_test_split(self.test, test_size=0.5, shuffle=False)\n",
    "            self.val_len = len(self.val)\n",
    "        # split sizes\n",
    "        self.train_len = len(self.train)\n",
    "        self.test_len = len(self.test)\n",
    "        \n",
    "        self._lookup_dict = {'train': (self.train, self.train_len),\n",
    "                             'test': (self.test, self.test_len)}\n",
    "        if val_split == True:\n",
    "            self._lookup_dict.update({'val': (self.val, self.val_len)})\n",
    "\n",
    "        self.set_split('train')\n",
    "\n",
    "\n",
    "    def set_split(self, split='train'):\n",
    "        \"\"\" selects the splits in the dataset using a column in the dataframe \n",
    "        Args:\n",
    "            split (str): one of \"train\", \"val\", or \"test\"\n",
    "        \"\"\"\n",
    "        self._target_split = split\n",
    "        self._target_df, self._target_size = self._lookup_dict[split]\n",
    "\n",
    "    def __len__(self):\n",
    "        return self._target_size\n",
    "\n",
    "    def __getitem__(self, index):\n",
    "        \"\"\"\n",
    "        Args:\n",
    "            index (int): index to current data point\n",
    "        Returns:\n",
    "            dictionary holding tensor data point feature (x_data) and skalar tensor label (y_data)\n",
    "        \"\"\"\n",
    "        \n",
    "        # get text values from current row\n",
    "        row = (self._target_df.iloc[index])\n",
    "        claim = [row['head']]\n",
    "        body = [row['body']]\n",
    "\n",
    "        # create 6k vector for each\n",
    "        claim = to_vector(claim)\n",
    "        body = to_vector(body)\n",
    "        \n",
    "        # 1.5k combined input vector\n",
    "        x_data = torch.cat((claim, body), 1)\n",
    "\n",
    "        # get stance & convert to tensor\n",
    "        y_data = row['Stance']\n",
    "        stance_map = {\n",
    "            \"agree\": 0,\n",
    "            \"disagree\": 1,\n",
    "            \"discuss\": 2,\n",
    "            \"unrelated\": 3\n",
    "        }\n",
    "        y_data = torch.tensor(stance_map[y_data])\n",
    "        return {'x_data': x_data,\n",
    "                'y_target': y_data}"
   ]
  },
  {
   "cell_type": "code",
   "execution_count": 11,
   "id": "f20ec28e",
   "metadata": {},
   "outputs": [
    {
     "name": "stdout",
     "output_type": "stream",
     "text": [
      "loading dataset...\n",
      "loaded!\n"
     ]
    }
   ],
   "source": [
    "def load_dataset(excel=True):\n",
    "    \"\"\"\n",
    "    applies dataset class to dataset located at DATAPATH\n",
    "    args:\n",
    "        excel (bool): default true for .xlsx, else set false\n",
    "    \"\"\"\n",
    "    print('loading dataset...')\n",
    "    if excel == True:\n",
    "        df = pd.read_excel(\n",
    "            DATAPATH, \n",
    "            index_col=None, \n",
    "            header=0   \n",
    "        )\n",
    "    else:\n",
    "        df = pd.read_csv(\n",
    "            DATAPATH, \n",
    "            index_col=None,\n",
    "            header=0   \n",
    "        )\n",
    "    print('loaded!')\n",
    "    \n",
    "    dataset = StanceDataset(df, val_split=False)\n",
    "    return dataset\n",
    "\n",
    "data = load_dataset(excel=False)"
   ]
  },
  {
   "cell_type": "code",
   "execution_count": null,
   "id": "d2ca07ac",
   "metadata": {},
   "outputs": [],
   "source": [
    "\"\"\"\n",
    "Test block for getitem. This is what the training loop will call\n",
    "\"\"\"\n",
    "\n",
    "data.set_split('train')\n",
    "print(\"should be the lenght of train split: \", len(data._target_df))\n",
    "\n",
    "d = data.__getitem__(1)\n",
    "print(d['x_data'])\n",
    "print(d['y_target'])\n",
    "print(len((d['x_data'])[0]))"
   ]
  },
  {
   "cell_type": "markdown",
   "id": "7a9a6ba5",
   "metadata": {},
   "source": [
    "### Weighted Sampler"
   ]
  },
  {
   "cell_type": "code",
   "execution_count": 13,
   "id": "bbd41702",
   "metadata": {},
   "outputs": [
    {
     "name": "stdout",
     "output_type": "stream",
     "text": [
      "{'unrelated': 14619, 'discuss': 7083, 'agree': 2980, 'disagree': 678}\n",
      "tensor([3.3557e-04, 1.4749e-03, 1.4118e-04, 6.8404e-05], device='cuda:0')\n"
     ]
    }
   ],
   "source": [
    "def sample(d):\n",
    "    class_count = dict(pd.value_counts(d['Stance']))\n",
    "    print(class_count)\n",
    "    stance_map = {\n",
    "        \"agree\": 0,\n",
    "        \"disagree\": 1,\n",
    "        \"discuss\": 2,\n",
    "        \"unrelated\": 3\n",
    "    }\n",
    "    # fit the class count to sequence agree, disagree, discuss, unrelated\n",
    "    cc = [0, 0, 0, 0]\n",
    "    for key in class_count:\n",
    "        cc[stance_map[key]] = class_count[key]\n",
    "\n",
    "    weight = 1./torch.tensor(cc, dtype=torch.float).to(device)\n",
    "    print(weight)\n",
    "    \n",
    "    # create array with weight for each data point\n",
    "    target_list = [stance_map[(d.iloc[i]['Stance'])] for i in range(len(d))]\n",
    "    samples_weight = torch.tensor([weight[t] for t in target_list]).to(device)\n",
    "\n",
    "    weighted_sampler = WeightedRandomSampler(\n",
    "        weights=samples_weight,\n",
    "        num_samples=len(samples_weight),\n",
    "        replacement=True\n",
    "    )\n",
    "    return weighted_sampler, weight\n",
    "\n",
    "data.set_split('train')\n",
    "train_sampler, train_weights = sample(data._target_df)"
   ]
  },
  {
   "cell_type": "markdown",
   "id": "12cdee13",
   "metadata": {},
   "source": [
    "### Step 3 - Define model & training"
   ]
  },
  {
   "cell_type": "code",
   "execution_count": 15,
   "id": "7f858166",
   "metadata": {},
   "outputs": [],
   "source": [
    "# hyperparameters\n",
    "in_dim = 768\n",
    "hidden_dim = 100\n",
    "out_dim = 4\n",
    "bs = 64 # batch size\n",
    "lr = 0.001"
   ]
  },
  {
   "cell_type": "code",
   "execution_count": 16,
   "id": "9e5b9b2c",
   "metadata": {},
   "outputs": [],
   "source": [
    "# re-usable way to create dataloader\n",
    "def make_batches(dataset, batch_size, shuffle=True, drop_last=True, sampler=None):\n",
    "    dataloader = DataLoader(dataset=dataset, batch_size=batch_size,\n",
    "                            shuffle=shuffle, drop_last=drop_last, sampler=sampler)\n",
    "    for data_dict in dataloader:\n",
    "        out_data_dict = {}\n",
    "        for name, tensor in data_dict.items():\n",
    "            out_data_dict[name] = data_dict[name].to(device)\n",
    "        yield out_data_dict"
   ]
  },
  {
   "cell_type": "code",
   "execution_count": 17,
   "id": "9e61f3e7",
   "metadata": {},
   "outputs": [],
   "source": [
    "# define neural net\n",
    "class NN(nn.Module):\n",
    "    def __init__(self, in_dim, hidden_dim, out_dim):\n",
    "        super(NN, self).__init__()\n",
    "\n",
    "        # define layers\n",
    "        self.l1 = nn.Linear(in_dim, hidden_dim)\n",
    "        self.relu = nn.ReLU()\n",
    "        self.l2 = nn.Linear(hidden_dim, out_dim)\n",
    "    \n",
    "    # applies layers with sample x\n",
    "    def forward(self, x):\n",
    "        out = self.l1(x).squeeze()\n",
    "        out = self.relu(out)\n",
    "        out = self.l2(out)\n",
    "        return out\n",
    "\n",
    "model = NN(in_dim=in_dim, hidden_dim=hidden_dim, out_dim=out_dim).to(device)\n",
    "\n",
    "criterion = nn.CrossEntropyLoss(weight=train_weights)\n",
    "optimizer = torch.optim.Adam(model.parameters(), lr=lr)"
   ]
  },
  {
   "cell_type": "code",
   "execution_count": 18,
   "id": "d2a28a1e",
   "metadata": {},
   "outputs": [],
   "source": [
    "\"\"\"\n",
    "TRAIN function\n",
    "\"\"\"\n",
    "\n",
    "# setup\n",
    "train_loss = []\n",
    "\n",
    "def train(epoch):\n",
    "  print('\\n')\n",
    "  # create new loader after each epoch\n",
    "  data.set_split('train')\n",
    "  train_loader = make_batches(data, bs, shuffle=False, sampler=train_sampler)\n",
    "\n",
    "  model.train()\n",
    "\n",
    "  running_loss = 0.\n",
    "  last_loss = 0.\n",
    "  epoch_loss = []\n",
    " \n",
    "  for i, sample in enumerate(train_loader):\n",
    "    # zero gradients each batch\n",
    "    optimizer.zero_grad()\n",
    "    \n",
    "    inputs = ((sample)['x_data']).float()\n",
    "    labels = sample['y_target']\n",
    "\n",
    "    # predict for batch\n",
    "    outputs = model(inputs)\n",
    "\n",
    "    # compute loss and gradients\n",
    "    loss = criterion(outputs, labels)\n",
    "    epoch_loss.append(loss.item())\n",
    "    loss.backward()\n",
    "\n",
    "    # adjust weights\n",
    "    optimizer.step()\n",
    "\n",
    "    # intra-epoch reporting\n",
    "    running_loss += loss.item()\n",
    "    if i % 100 == 0:\n",
    "            last_loss = running_loss / bs # 1000 loss per batch\n",
    "            print('Epoch {} batch {} loss: {}'.format(epoch + 1, i + 1, last_loss))\n",
    "            running_loss = 0.\n",
    "    \n",
    "  train_loss.append(sum(epoch_loss)/len(epoch_loss))"
   ]
  },
  {
   "cell_type": "code",
   "execution_count": 19,
   "id": "61d8547e",
   "metadata": {},
   "outputs": [],
   "source": [
    "\"\"\" \n",
    "TEST function\n",
    "\"\"\"\n",
    "\n",
    "# setup\n",
    "eval_loss = []\n",
    "y_pred = []\n",
    "y_true = []\n",
    "\n",
    "def test(epoch):\n",
    "  # create new loader after each epoch\n",
    "  data.set_split('test')\n",
    "  test_loader = make_batches(data, bs, shuffle=True)\n",
    "\n",
    "  epoch_loss = []\n",
    "  model.eval()\n",
    " \n",
    "  with torch.no_grad():\n",
    "    for i, sample in enumerate(test_loader):\n",
    "      inputs = ((sample)['x_data']).float()\n",
    "      labels = sample['y_target']\n",
    "      \n",
    "      # predict\n",
    "      outputs=model(inputs)\n",
    "\n",
    "      # compute loss\n",
    "      loss = criterion(outputs, labels)\n",
    "      epoch_loss.append(loss.item())\n",
    "\n",
    "      # get metrics for feature report on last epoch\n",
    "      if epoch == epochs-1:\n",
    "        _, predictions = torch.max(outputs, 1)\n",
    "        y_pred.extend(predictions.data.cpu().numpy())\n",
    "        y_true.extend(labels.data.cpu().numpy())\n",
    "      \n",
    " \n",
    "  eval_loss.append(sum(epoch_loss)/len(epoch_loss))"
   ]
  },
  {
   "cell_type": "code",
   "execution_count": 22,
   "id": "39b3618e",
   "metadata": {},
   "outputs": [
    {
     "name": "stdout",
     "output_type": "stream",
     "text": [
      "\n",
      "\n",
      "Epoch 1 batch 1 loss: 0.004140094853937626\n",
      "Epoch 1 batch 101 loss: 0.42222279333509505\n",
      "Epoch 1 batch 201 loss: 0.4245172494556755\n",
      "Epoch 1 batch 301 loss: 0.37204427272081375\n",
      "\n",
      "\n",
      "Epoch 2 batch 1 loss: 0.0029788981191813946\n",
      "Epoch 2 batch 101 loss: 0.3465129332616925\n",
      "Epoch 2 batch 201 loss: 0.32879899232648313\n",
      "Epoch 2 batch 301 loss: 0.337318203644827\n",
      "\n",
      "\n",
      "Epoch 3 batch 1 loss: 0.0028131515718996525\n",
      "Epoch 3 batch 101 loss: 0.2856567504350096\n",
      "Epoch 3 batch 201 loss: 0.2809876612154767\n",
      "Epoch 3 batch 301 loss: 0.26792816212400794\n",
      "\n",
      "\n",
      "Epoch 4 batch 1 loss: 0.003922218922525644\n",
      "Epoch 4 batch 101 loss: 0.24667082843370736\n",
      "Epoch 4 batch 201 loss: 0.2569010911975056\n",
      "Epoch 4 batch 301 loss: 0.2364930371986702\n",
      "\n",
      "\n",
      "Epoch 5 batch 1 loss: 0.0016012033447623253\n",
      "Epoch 5 batch 101 loss: 0.2082375815953128\n",
      "Epoch 5 batch 201 loss: 0.19837345933774486\n",
      "Epoch 5 batch 301 loss: 0.20897436025552452\n",
      "\n",
      "\n",
      "Epoch 6 batch 1 loss: 0.0026765221264213324\n",
      "Epoch 6 batch 101 loss: 0.19002680183621123\n",
      "Epoch 6 batch 201 loss: 0.1878486870555207\n",
      "Epoch 6 batch 301 loss: 0.17016883252654225\n",
      "\n",
      "\n",
      "Epoch 7 batch 1 loss: 0.0018243981758132577\n",
      "Epoch 7 batch 101 loss: 0.16567726916400716\n",
      "Epoch 7 batch 201 loss: 0.16505442484049127\n",
      "Epoch 7 batch 301 loss: 0.16001782566308975\n",
      "\n",
      "\n",
      "Epoch 8 batch 1 loss: 0.0017865720437839627\n",
      "Epoch 8 batch 101 loss: 0.14611357945250347\n",
      "Epoch 8 batch 201 loss: 0.15415419259807095\n",
      "Epoch 8 batch 301 loss: 0.1461285511031747\n",
      "\n",
      "\n",
      "Epoch 9 batch 1 loss: 0.0008524049771949649\n",
      "Epoch 9 batch 101 loss: 0.13229084433987737\n",
      "Epoch 9 batch 201 loss: 0.13653370493557304\n",
      "Epoch 9 batch 301 loss: 0.12481459698756225\n",
      "\n",
      "\n",
      "Epoch 10 batch 1 loss: 0.001186600886285305\n",
      "Epoch 10 batch 101 loss: 0.12503136502346024\n",
      "Epoch 10 batch 201 loss: 0.11911374953342602\n",
      "Epoch 10 batch 301 loss: 0.10826758926850744\n",
      "\n",
      "\n",
      "Epoch 11 batch 1 loss: 0.0008568138000555336\n",
      "Epoch 11 batch 101 loss: 0.10631680878577754\n",
      "Epoch 11 batch 201 loss: 0.10674360164557584\n",
      "Epoch 11 batch 301 loss: 0.10042100329883397\n",
      "\n",
      "\n",
      "Epoch 12 batch 1 loss: 0.0012285938719287515\n",
      "Epoch 12 batch 101 loss: 0.09138097404502332\n",
      "Epoch 12 batch 201 loss: 0.098128768207971\n",
      "Epoch 12 batch 301 loss: 0.0907559484912781\n",
      "\n",
      "\n",
      "Epoch 13 batch 1 loss: 0.0007642402779310942\n",
      "Epoch 13 batch 101 loss: 0.08729258086532354\n",
      "Epoch 13 batch 201 loss: 0.07881887149414979\n",
      "Epoch 13 batch 301 loss: 0.08348744115210138\n",
      "\n",
      "\n",
      "Epoch 14 batch 1 loss: 0.0008501691627316177\n",
      "Epoch 14 batch 101 loss: 0.08470909696188755\n",
      "Epoch 14 batch 201 loss: 0.0752014365280047\n",
      "Epoch 14 batch 301 loss: 0.07144718753988855\n",
      "\n",
      "\n",
      "Epoch 15 batch 1 loss: 0.0003830883069895208\n",
      "Epoch 15 batch 101 loss: 0.06635890222969465\n",
      "Epoch 15 batch 201 loss: 0.06937359290895984\n",
      "Epoch 15 batch 301 loss: 0.05970197232090868\n",
      "\n",
      "\n",
      "Epoch 16 batch 1 loss: 0.0003828794287983328\n",
      "Epoch 16 batch 101 loss: 0.061333222984103486\n",
      "Epoch 16 batch 201 loss: 0.06216545621282421\n",
      "Epoch 16 batch 301 loss: 0.05846004679915495\n",
      "\n",
      "\n",
      "Epoch 17 batch 1 loss: 0.0005857711657881737\n",
      "Epoch 17 batch 101 loss: 0.05735907411144581\n",
      "Epoch 17 batch 201 loss: 0.05657650073408149\n",
      "Epoch 17 batch 301 loss: 0.05543707207834814\n",
      "\n",
      "\n",
      "Epoch 18 batch 1 loss: 0.0003226622939109802\n",
      "Epoch 18 batch 101 loss: 0.05264712072676048\n",
      "Epoch 18 batch 201 loss: 0.04765954188769683\n",
      "Epoch 18 batch 301 loss: 0.04326116404263303\n",
      "\n",
      "\n",
      "Epoch 19 batch 1 loss: 0.0007475854363292456\n",
      "Epoch 19 batch 101 loss: 0.05116468285268638\n",
      "Epoch 19 batch 201 loss: 0.047389854065841064\n",
      "Epoch 19 batch 301 loss: 0.04745793902839068\n",
      "\n",
      "\n",
      "Epoch 20 batch 1 loss: 0.0006115040159784257\n",
      "Epoch 20 batch 101 loss: 0.039721886460029054\n",
      "Epoch 20 batch 201 loss: 0.04017511146957986\n",
      "Epoch 20 batch 301 loss: 0.03885511560656596\n",
      "\n",
      "\n",
      "Epoch 21 batch 1 loss: 0.0005761064821854234\n",
      "Epoch 21 batch 101 loss: 0.03949725596612552\n",
      "Epoch 21 batch 201 loss: 0.03389310108468635\n",
      "Epoch 21 batch 301 loss: 0.03954710937978234\n",
      "\n",
      "\n",
      "Epoch 22 batch 1 loss: 0.000656984222587198\n",
      "Epoch 22 batch 101 loss: 0.030172260863764677\n",
      "Epoch 22 batch 201 loss: 0.033559372401214205\n",
      "Epoch 22 batch 301 loss: 0.03395307243044954\n",
      "\n",
      "\n",
      "Epoch 23 batch 1 loss: 0.0005670947139151394\n",
      "Epoch 23 batch 101 loss: 0.024779404426226392\n",
      "Epoch 23 batch 201 loss: 0.03179218627337832\n",
      "Epoch 23 batch 301 loss: 0.02964724069897784\n",
      "\n",
      "\n",
      "Epoch 24 batch 1 loss: 0.000606201181653887\n",
      "Epoch 24 batch 101 loss: 0.0323403461225098\n",
      "Epoch 24 batch 201 loss: 0.028714560023217928\n",
      "Epoch 24 batch 301 loss: 0.026422291237395257\n",
      "\n",
      "\n",
      "Epoch 25 batch 1 loss: 0.0004493717569857836\n",
      "Epoch 25 batch 101 loss: 0.025275452673668042\n",
      "Epoch 25 batch 201 loss: 0.023189952305983752\n",
      "Epoch 25 batch 301 loss: 0.02341393930328195\n",
      "\n",
      "\n",
      "Epoch 26 batch 1 loss: 0.0003036026901099831\n",
      "Epoch 26 batch 101 loss: 0.0256109777619713\n",
      "Epoch 26 batch 201 loss: 0.0227095335139893\n",
      "Epoch 26 batch 301 loss: 0.02694301265728427\n",
      "\n",
      "\n",
      "Epoch 27 batch 1 loss: 0.00017280566680710763\n",
      "Epoch 27 batch 101 loss: 0.019425124759436585\n",
      "Epoch 27 batch 201 loss: 0.020383599650813267\n",
      "Epoch 27 batch 301 loss: 0.019592768112488557\n",
      "\n",
      "\n",
      "Epoch 28 batch 1 loss: 0.00026387942489236593\n",
      "Epoch 28 batch 101 loss: 0.021959108613373246\n",
      "Epoch 28 batch 201 loss: 0.021073553933092626\n",
      "Epoch 28 batch 301 loss: 0.019449070445261896\n",
      "\n",
      "\n",
      "Epoch 29 batch 1 loss: 9.39621968427673e-05\n",
      "Epoch 29 batch 101 loss: 0.0167890166194411\n",
      "Epoch 29 batch 201 loss: 0.017408639359928202\n",
      "Epoch 29 batch 301 loss: 0.016757041928940453\n",
      "\n",
      "\n",
      "Epoch 30 batch 1 loss: 8.817901107249781e-05\n",
      "Epoch 30 batch 101 loss: 0.01785858279617969\n",
      "Epoch 30 batch 201 loss: 0.01580035146616865\n",
      "Epoch 30 batch 301 loss: 0.023149772525357548\n",
      "\n",
      "\n",
      "Epoch 31 batch 1 loss: 0.00015362193516921252\n",
      "Epoch 31 batch 101 loss: 0.016188510868232697\n",
      "Epoch 31 batch 201 loss: 0.014512886220472865\n",
      "Epoch 31 batch 301 loss: 0.01576394429866923\n",
      "\n",
      "\n",
      "Epoch 32 batch 1 loss: 0.00013863728963769972\n",
      "Epoch 32 batch 101 loss: 0.015865211265918333\n",
      "Epoch 32 batch 201 loss: 0.020161995034868596\n",
      "Epoch 32 batch 301 loss: 0.013835308964189608\n",
      "\n",
      "\n",
      "Epoch 33 batch 1 loss: 5.345065437722951e-05\n",
      "Epoch 33 batch 101 loss: 0.011355433936842019\n",
      "Epoch 33 batch 201 loss: 0.012126288695071707\n",
      "Epoch 33 batch 301 loss: 0.011514576795889298\n",
      "\n",
      "\n",
      "Epoch 34 batch 1 loss: 0.00017594544624444097\n",
      "Epoch 34 batch 101 loss: 0.01152886071758985\n",
      "Epoch 34 batch 201 loss: 0.011098971679530223\n",
      "Epoch 34 batch 301 loss: 0.011420469116274035\n",
      "\n",
      "\n",
      "Epoch 35 batch 1 loss: 3.958056913688779e-05\n",
      "Epoch 35 batch 101 loss: 0.01059917124803178\n",
      "Epoch 35 batch 201 loss: 0.010200839631579584\n",
      "Epoch 35 batch 301 loss: 0.009329554470241419\n",
      "\n",
      "\n",
      "Epoch 36 batch 1 loss: 5.663175761583261e-05\n",
      "Epoch 36 batch 101 loss: 0.015296550471248338\n",
      "Epoch 36 batch 201 loss: 0.012658443925829488\n",
      "Epoch 36 batch 301 loss: 0.010210674783593277\n",
      "\n",
      "\n",
      "Epoch 37 batch 1 loss: 7.435587758664042e-05\n",
      "Epoch 37 batch 101 loss: 0.0176082325506286\n",
      "Epoch 37 batch 201 loss: 0.02117019192155567\n",
      "Epoch 37 batch 301 loss: 0.009179304677672917\n",
      "\n",
      "\n",
      "Epoch 38 batch 1 loss: 0.0002571726799942553\n",
      "Epoch 38 batch 101 loss: 0.008248397263741936\n",
      "Epoch 38 batch 201 loss: 0.009299853940319736\n",
      "Epoch 38 batch 301 loss: 0.008274187344795791\n",
      "\n",
      "\n",
      "Epoch 39 batch 1 loss: 0.00012380009866319597\n",
      "Epoch 39 batch 101 loss: 0.008297401169329532\n",
      "Epoch 39 batch 201 loss: 0.006859349685328198\n",
      "Epoch 39 batch 301 loss: 0.006670376327747363\n",
      "\n",
      "\n",
      "Epoch 40 batch 1 loss: 7.831002585589886e-05\n",
      "Epoch 40 batch 101 loss: 0.008314071277709445\n",
      "Epoch 40 batch 201 loss: 0.007481397455194383\n",
      "Epoch 40 batch 301 loss: 0.007016720792307751\n"
     ]
    }
   ],
   "source": [
    "epochs = 40\n",
    "for epoch in range(epochs): \n",
    "  train(epoch)\n",
    "  test(epoch)"
   ]
  },
  {
   "cell_type": "code",
   "execution_count": 23,
   "id": "c76d6c47",
   "metadata": {},
   "outputs": [
    {
     "data": {
      "image/png": "[encoded data removed]",
      "text/plain": [
       "<Figure size 640x480 with 1 Axes>"
      ]
     },
     "metadata": {},
     "output_type": "display_data"
    }
   ],
   "source": [
    "plt.plot(train_loss, '-o')\n",
    "plt.plot(eval_loss,'-o')\n",
    "plt.xlabel('epoch')\n",
    "plt.ylabel('losses')\n",
    "plt.legend(['Train','Test']) \n",
    "# TODO load glove loss & plot it\n",
    "plt.title(f'ST loss with batch size {bs}, lr {lr}')\n",
    "\n",
    "plt.show()"
   ]
  },
  {
   "cell_type": "code",
   "execution_count": 24,
   "id": "8d0dbefe",
   "metadata": {},
   "outputs": [],
   "source": [
    "# save losses to data frame\n",
    "pd.DataFrame({'train': train_loss, 'eval': eval_loss}).to_csv(\"measures/st_loss_40.csv\")"
   ]
  },
  {
   "cell_type": "code",
   "execution_count": 25,
   "id": "a9511ac4",
   "metadata": {},
   "outputs": [
    {
     "name": "stdout",
     "output_type": "stream",
     "text": [
      "              precision    recall  f1-score   support\n",
      "\n",
      "           0       0.50      0.79      0.61      1395\n",
      "           1       0.23      0.92      0.37       324\n",
      "           2       0.79      0.78      0.78      3649\n",
      "           3       1.00      0.76      0.86      7304\n",
      "\n",
      "    accuracy                           0.77     12672\n",
      "   macro avg       0.63      0.81      0.66     12672\n",
      "weighted avg       0.86      0.77      0.80     12672\n",
      "\n"
     ]
    }
   ],
   "source": [
    "from sklearn.metrics import classification_report\n",
    " \n",
    "print(classification_report(y_true, y_pred))"
   ]
  },
  {
   "cell_type": "code",
   "execution_count": 27,
   "id": "8f297497",
   "metadata": {},
   "outputs": [],
   "source": [
    "# save the model\n",
    "# embedding_data_accuracy\n",
    "torch.save(model.state_dict(), \"models/st_40.pth\")"
   ]
  },
  {
   "cell_type": "code",
   "execution_count": 28,
   "id": "8be40518",
   "metadata": {},
   "outputs": [
    {
     "name": "stdout",
     "output_type": "stream",
     "text": [
      "[[0.49595687 0.14386239 0.02678078 0.00180343]\n",
      " [0.00808625 0.23221267 0.00248482 0.        ]\n",
      " [0.20619946 0.25645035 0.78602982 0.00270514]\n",
      " [0.28975741 0.36747459 0.18470458 0.99549143]]\n"
     ]
    },
    {
     "data": {
      "text/plain": [
       "<AxesSubplot: title={'center': 'cf matrix of testadata size 6340, lr: 0.001, batches: 64, epochs: 40'}>"
      ]
     },
     "execution_count": 28,
     "metadata": {},
     "output_type": "execute_result"
    },
    {
     "data": {
      "image/png": "[encoded data removed]",
      "text/plain": [
       "<Figure size 1200x700 with 2 Axes>"
      ]
     },
     "metadata": {},
     "output_type": "display_data"
    }
   ],
   "source": [
    "# confusion matrix\n",
    "classes = ['agree', 'disagree', 'discuss', 'unrelated']\n",
    "\n",
    "# Build confusion matrix (normalized as precision)\n",
    "cf_matrix = confusion_matrix(y_true, y_pred, normalize='pred')\n",
    "# precision, is in a sense correctness, and recall is completeness.\n",
    "\n",
    "print(cf_matrix)\n",
    "df_cm = pd.DataFrame(cf_matrix, index = [i for i in classes],\n",
    "                     columns = [i for i in classes])\n",
    "plt.figure(figsize = (12,7))\n",
    "plt.title(f'cf matrix of testadata size {len(data._target_df)}, lr: {lr}, batches: {bs}, epochs: {epochs}')\n",
    "sns.heatmap(df_cm, annot=True)"
   ]
  },
  {
   "cell_type": "code",
   "execution_count": 179,
   "id": "14264802",
   "metadata": {},
   "outputs": [
    {
     "name": "stdout",
     "output_type": "stream",
     "text": [
      "Who Should Play Steve Jobs Now That Christian Bale Quit? \n",
      "---\n",
      "should agree with\n",
      "---\n",
      "Christian Bale will not be starring as Steve Jobs in Aaron Sorkin's upcoming Steve Jobs biopic, according to The Hollywood Reporter. The actor has reportedly decided that he was \"not right for the part,\" deciding to withdraw from the film.\n",
      "\n",
      "Bale was announced as the star of the film just last week, with Sorkin saying that Christian Bale was \"the best actor in a certain age range\" to play Jobs, and that he had agreed to the part without an audition.\n",
      "\n",
      "Set to be directed by Danny Boyle, who also directed the Oscar-winning hit Slumdog Millionaire, the upcoming Steve Jobs project focuses on three continuous 30-minute scenes that depict three of Apple's product launches.\n",
      "\n",
      "While it is now unclear who will play Steve Jobs in the movie, Seth Rogen is reportedly in talks to play Apple co-founder Steve Wozniak, and Jessica Chastain, from The Help, is also being considered for an unspecified role in the film. Leonardo DiCaprio was previously in talks to star as Steve Jobs, but also opted not to take on the role.\n"
     ]
    }
   ],
   "source": [
    "agree_row = (data.df).iloc[1]\n",
    "disagree_row = (data.df).iloc[4434]\n",
    "\n",
    "agree_head = agree_row['head']\n",
    "agree_body = agree_row['body']\n",
    "\n",
    "disagree_head = disagree_row['head']\n",
    "disagree_body = disagree_row['body']\n",
    "\n",
    "print(f\"{agree_head} \\n---\\nshould agree with\\n---\\n{agree_body}\")"
   ]
  },
  {
   "cell_type": "code",
   "execution_count": 183,
   "id": "f3653c6c",
   "metadata": {},
   "outputs": [
    {
     "name": "stdout",
     "output_type": "stream",
     "text": [
      "NASA Confirms Earth Will Experience 6 Days of Total Darkness in December 2014! \n",
      "---\n",
      "should disagree with\n",
      "---\n",
      "It may feel like winter is slowly squeezing all the sunlight out of your day, but if you see any news stories claiming Earth is headed for \"Six Days of Total Darkness\" then don't start stocking up on the tins of beans and torches just yet.\n",
      "\n",
      "\"Satirical news site\" Huzlers.com has been spreading this fake story far and wide on the web this week, taking in numerous Facebook and Twitter users and encouraging them to post about what they're going to be up to during the six days of darkness.\n",
      "\n",
      "The story on the vaguely official looking website titled \"Nasa Confirms Earth Will Experience 6 Days of Total ...\n"
     ]
    }
   ],
   "source": [
    "print(f\"{disagree_head} \\n---\\nshould disagree with\\n---\\n{disagree_body[:600]} ...\")"
   ]
  },
  {
   "cell_type": "code",
   "execution_count": 184,
   "id": "fa9fc6d6",
   "metadata": {},
   "outputs": [
    {
     "name": "stdout",
     "output_type": "stream",
     "text": [
      "tensor(10.2128, grad_fn=<MaxBackward0>) tensor(0)\n",
      "agree\n"
     ]
    }
   ],
   "source": [
    "claim = to_vector(preprocess(agree_head))\n",
    "body = to_vector(preprocess(agree_body))\n",
    "        \n",
    "# 12k combined input vector\n",
    "x_data = torch.cat((claim, body), 1)\n",
    "\n",
    "# demo predict\n",
    "pred = model(x_data)\n",
    "pred_out, pred_idx = torch.max(pred, 0)\n",
    "\n",
    "print(pred_out, pred_idx)\n",
    "classes = ['agree', 'disagree', 'discuss', 'unrelated']\n",
    "stance = classes[(pred_idx.data).numpy()]\n",
    "\n",
    "print(stance)"
   ]
  }
 ],
 "metadata": {
  "interpreter": {
   "hash": "916dbcbb3f70747c44a77c7bcd40155683ae19c65e1c03b4aa3499c5328201f1"
  },
  "kernelspec": {
   "display_name": "Python 3.10.6 64-bit",
   "language": "python",
   "name": "python3"
  },
  "language_info": {
   "codemirror_mode": {
    "name": "ipython",
    "version": 3
   },
   "file_extension": ".py",
   "mimetype": "text/x-python",
   "name": "python",
   "nbconvert_exporter": "python",
   "pygments_lexer": "ipython3",
   "version": "3.10.6"
  },
  "vscode": {
   "interpreter": {
    "hash": "916dbcbb3f70747c44a77c7bcd40155683ae19c65e1c03b4aa3499c5328201f1"
   }
  }
 },
 "nbformat": 4,
 "nbformat_minor": 5
}
