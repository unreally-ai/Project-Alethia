{
 "cells": [
  {
   "cell_type": "markdown",
   "id": "1e6e45c1",
   "metadata": {},
   "source": [
    "# GloVe Testbook\n",
    "### Step 1 - load data & helper functions\n"
   ]
  },
  {
   "cell_type": "code",
   "execution_count": 1,
   "id": "a32684fc",
   "metadata": {},
   "outputs": [
    {
     "name": "stderr",
     "output_type": "stream",
     "text": [
      "/home/cas/.local/lib/python3.10/site-packages/tqdm/auto.py:22: TqdmWarning: IProgress not found. Please update jupyter and ipywidgets. See https://ipywidgets.readthedocs.io/en/stable/user_install.html\n",
      "  from .autonotebook import tqdm as notebook_tqdm\n"
     ]
    }
   ],
   "source": [
    "import torch\n",
    "import torch.nn as nn\n",
    "from torchtext.data import get_tokenizer\n",
    "from torchtext.vocab import GloVe\n",
    "from torch.utils.data import Dataset, DataLoader, WeightedRandomSampler\n",
    "\n",
    "import matplotlib.pyplot as plt\n",
    "import seaborn as sns\n",
    "import pandas as pd\n",
    "import numpy as np\n",
    "\n",
    "from sklearn.model_selection import train_test_split\n",
    "from sklearn.feature_extraction.text import TfidfVectorizer,CountVectorizer\n",
    "from sklearn.metrics.pairwise import cosine_similarity\n",
    "from sklearn.metrics import confusion_matrix\n",
    "\n",
    "from collections import Counter\n",
    "import re\n",
    "\n",
    "from nltk.corpus import stopwords\n",
    "from nltk.stem import WordNetLemmatizer "
   ]
  },
  {
   "cell_type": "code",
   "execution_count": 2,
   "id": "386e74bf",
   "metadata": {},
   "outputs": [],
   "source": [
    "# path to dataset\n",
    "DATAPATH = 'data/upsampled_large.csv'\n",
    "# device\n",
    "device = 'cuda' # cpu"
   ]
  },
  {
   "cell_type": "code",
   "execution_count": 3,
   "id": "a9e01cc6",
   "metadata": {},
   "outputs": [],
   "source": [
    "# takes in string & returns a cleaned string of all non-stop-words\n",
    "def preprocess(text, lemmatizer = WordNetLemmatizer()):\n",
    "    sw = set(stopwords.words('english'))\n",
    "    text = re.sub(r'[^\\w\\s]', '', text).lower()\n",
    "    s = \"\"\n",
    "    for word in text.split():\n",
    "        if word not in sw:\n",
    "                s += (lemmatizer.lemmatize(word) + \" \")\n",
    "    return s\n"
   ]
  },
  {
   "cell_type": "code",
   "execution_count": 4,
   "id": "b5ae5f8f",
   "metadata": {},
   "outputs": [],
   "source": [
    "tokenizer = get_tokenizer(\"basic_english\")\n",
    "max_words = 20\n",
    "embed_len=300\n",
    "global_vectors = GloVe(name='840B', dim=embed_len)"
   ]
  },
  {
   "cell_type": "code",
   "execution_count": 5,
   "id": "1f8f489a",
   "metadata": {},
   "outputs": [],
   "source": [
    "# takes string, return 6000 dim GloVe vector\n",
    "def to_vector(s):\n",
    "    X = tokenizer(s)\n",
    "    # fill / cut tokens to max size\n",
    "    if len(X) < max_words:\n",
    "        X = X+[\"\"]*(max_words-len(X))\n",
    "    else:\n",
    "        X = X[:max_words]\n",
    "\n",
    "    X_tensor = torch.zeros(1, max_words, embed_len)\n",
    "    for i, j in enumerate(X):\n",
    "        X_tensor[0][i] = global_vectors.get_vecs_by_tokens(j)\n",
    "    return(X_tensor.reshape(1, -1))"
   ]
  },
  {
   "cell_type": "code",
   "execution_count": 6,
   "id": "fae5f942",
   "metadata": {},
   "outputs": [
    {
     "data": {
      "text/plain": [
       "torch.Size([1, 12000])"
      ]
     },
     "execution_count": 6,
     "metadata": {},
     "output_type": "execute_result"
    }
   ],
   "source": [
    "x = to_vector(\"test\")\n",
    "y = to_vector(\"vetor\")\n",
    "Z = torch.cat((x, y), 1)\n",
    "Z.shape"
   ]
  },
  {
   "cell_type": "markdown",
   "id": "1117a79b",
   "metadata": {},
   "source": [
    "### Step 2 - define pytorch custom dataset class"
   ]
  },
  {
   "cell_type": "code",
   "execution_count": 7,
   "id": "bc9e26e7",
   "metadata": {},
   "outputs": [],
   "source": [
    "# config\n",
    "\n",
    "# custom dataset class\n",
    "class StanceDataset(Dataset):\n",
    "    def __init__(self, stance_df,  val_split=False):\n",
    "        \"\"\"  Initalizes vectorizers, defines train/test splits\n",
    "        Args:\n",
    "            stance_df (pandas.DataFrame): the dataset\n",
    "        \"\"\"\n",
    "        self.df = stance_df\n",
    "        \n",
    "        # splits (train, test, validation) 80/20 \n",
    "        self.train, self.test = train_test_split(self.df, test_size=0.2, shuffle=True)\n",
    "        if val_split == True:   \n",
    "            # 50/50 val/test\n",
    "            self.test, self.val = train_test_split(self.test, test_size=0.5, shuffle=False)\n",
    "            self.val_len = len(self.val)\n",
    "        # split sizes\n",
    "        self.train_len = len(self.train)\n",
    "        self.test_len = len(self.test)\n",
    "        \n",
    "        self._lookup_dict = {'train': (self.train, self.train_len),\n",
    "                             'test': (self.test, self.test_len)}\n",
    "        if val_split == True:\n",
    "            self._lookup_dict.update({'val': (self.val, self.val_len)})\n",
    "\n",
    "        self.set_split('train')\n",
    "\n",
    "\n",
    "    def set_split(self, split='train'):\n",
    "        \"\"\" selects the splits in the dataset using a column in the dataframe \n",
    "        Args:\n",
    "            split (str): one of \"train\", \"val\", or \"test\"\n",
    "        \"\"\"\n",
    "        self._target_split = split\n",
    "        self._target_df, self._target_size = self._lookup_dict[split]\n",
    "\n",
    "    def __len__(self):\n",
    "        return self._target_size\n",
    "\n",
    "    def __getitem__(self, index):\n",
    "        \"\"\"\n",
    "        Args:\n",
    "            index (int): index to current data point\n",
    "        Returns:\n",
    "            dictionary holding tensor data point feature (x_data) and skalar tensor label (y_data)\n",
    "        \"\"\"\n",
    "        \n",
    "        # get text values from current row\n",
    "        row = (self._target_df.iloc[index])\n",
    "        claim = [row['head']]\n",
    "        body = [row['body']]\n",
    "\n",
    "        # create 6k vector for each\n",
    "        claim = to_vector(preprocess(claim[0]))\n",
    "        body = to_vector(preprocess(body[0]))\n",
    "        \n",
    "        # 12k combined input vector\n",
    "        x_data = torch.cat((claim, body), 1)\n",
    "\n",
    "        # get stance & convert to tensor\n",
    "        y_data = row['Stance']\n",
    "        stance_map = {\n",
    "            \"agree\": 0,\n",
    "            \"disagree\": 1,\n",
    "            \"discuss\": 2,\n",
    "            \"unrelated\": 3\n",
    "        }\n",
    "        y_data = torch.tensor(stance_map[y_data])\n",
    "        return {'x_data': x_data,\n",
    "                'y_target': y_data}"
   ]
  },
  {
   "cell_type": "code",
   "execution_count": 8,
   "id": "f20ec28e",
   "metadata": {},
   "outputs": [],
   "source": [
    "def load_dataset(excel=True):\n",
    "    \"\"\"\n",
    "    applies dataset class to dataset located at DATAPATH\n",
    "    args:\n",
    "        excel (bool): default true for .xlsx, else set false\n",
    "    \"\"\"\n",
    "    print('loading dataset...')\n",
    "    if excel == True:\n",
    "        df = pd.read_excel(\n",
    "            DATAPATH, \n",
    "            index_col=None, \n",
    "            header=0   \n",
    "        )\n",
    "    else:\n",
    "        df = pd.read_csv(\n",
    "            DATAPATH, \n",
    "            index_col=None,\n",
    "            header=0   \n",
    "        )\n",
    "    print('loaded!')\n",
    "    \n",
    "    dataset = StanceDataset(df, val_split=False)\n",
    "    return dataset"
   ]
  },
  {
   "cell_type": "code",
   "execution_count": 9,
   "id": "5dc61afe",
   "metadata": {},
   "outputs": [
    {
     "name": "stdout",
     "output_type": "stream",
     "text": [
      "loading dataset...\n",
      "loaded!\n"
     ]
    }
   ],
   "source": [
    "data = load_dataset(excel=False)"
   ]
  },
  {
   "cell_type": "code",
   "execution_count": 10,
   "id": "d2ca07ac",
   "metadata": {},
   "outputs": [
    {
     "name": "stdout",
     "output_type": "stream",
     "text": [
      "should be the lenght of train split:  25360\n",
      "tensor([[-0.4283, -0.3394,  0.0508,  ..., -0.0650, -0.2012, -0.6284]])\n",
      "tensor(3)\n",
      "12000\n"
     ]
    }
   ],
   "source": [
    "\"\"\"\n",
    "Test block for getitem. This is what the training loop will call\n",
    "\"\"\"\n",
    "\n",
    "data.set_split('train')\n",
    "print(\"should be the lenght of train split: \", len(data._target_df))\n",
    "\n",
    "d = data.__getitem__(1)\n",
    "print(d['x_data'])\n",
    "print(d['y_target'])\n",
    "print(len((d['x_data'])[0]))"
   ]
  },
  {
   "cell_type": "markdown",
   "id": "7a9a6ba5",
   "metadata": {},
   "source": [
    "### Weighted Sampler"
   ]
  },
  {
   "cell_type": "code",
   "execution_count": 11,
   "id": "4f13f6df",
   "metadata": {},
   "outputs": [
    {
     "name": "stdout",
     "output_type": "stream",
     "text": [
      "{'unrelated': 14602, 'discuss': 7120, 'agree': 2937, 'disagree': 701}\n"
     ]
    },
    {
     "data": {
      "image/png": "[encoded data removed]",
      "text/plain": [
       "<Figure size 640x480 with 1 Axes>"
      ]
     },
     "metadata": {},
     "output_type": "display_data"
    }
   ],
   "source": [
    "# distribution of labels (class distribution)\n",
    "def dist_of(df):\n",
    "    class_distribution = (pd.value_counts(df['Stance'])).to_dict()\n",
    "    print(class_distribution)\n",
    "    sns.barplot(data = pd.DataFrame.from_dict([class_distribution]).melt(), x = \"variable\", y=\"value\", hue=\"variable\").set_title(f'train class distribution size {len(df)}')\n",
    "\n",
    "dist_of(data._target_df)"
   ]
  },
  {
   "cell_type": "code",
   "execution_count": 12,
   "id": "bbd41702",
   "metadata": {},
   "outputs": [
    {
     "name": "stdout",
     "output_type": "stream",
     "text": [
      "{'unrelated': 14602, 'discuss': 7120, 'agree': 2937, 'disagree': 701}\n",
      "tensor([3.4048e-04, 1.4265e-03, 1.4045e-04, 6.8484e-05], device='cuda:0')\n"
     ]
    }
   ],
   "source": [
    "def sample(d):\n",
    "    class_count = dict(pd.value_counts(d['Stance']))\n",
    "    print(class_count)\n",
    "    stance_map = {\n",
    "        \"agree\": 0,\n",
    "        \"disagree\": 1,\n",
    "        \"discuss\": 2,\n",
    "        \"unrelated\": 3\n",
    "    }\n",
    "    # fit the class count to sequence agree, disagree, discuss, unrelated\n",
    "    cc = [0, 0, 0, 0]\n",
    "    for key in class_count:\n",
    "        cc[stance_map[key]] = class_count[key]\n",
    "\n",
    "    weight = 1./torch.tensor(cc, dtype=torch.float).to(device)\n",
    "    print(weight)\n",
    "    \n",
    "    # create array with weight for each data point\n",
    "    target_list = [stance_map[(d.iloc[i]['Stance'])] for i in range(len(d))]\n",
    "    samples_weight = torch.tensor([weight[t] for t in target_list]).to(device)\n",
    "\n",
    "    weighted_sampler = WeightedRandomSampler(\n",
    "        weights=samples_weight,\n",
    "        num_samples=len(samples_weight),\n",
    "        replacement=True\n",
    "    )\n",
    "    return weighted_sampler, weight\n",
    "\n",
    "train_sampler, train_weights = sample(data._target_df)"
   ]
  },
  {
   "cell_type": "markdown",
   "id": "12cdee13",
   "metadata": {},
   "source": [
    "### Step 3 - Define model & training"
   ]
  },
  {
   "cell_type": "code",
   "execution_count": 13,
   "id": "7f858166",
   "metadata": {},
   "outputs": [],
   "source": [
    "# hyperparameters\n",
    "in_dim = 12000\n",
    "hidden_dim = 120\n",
    "out_dim = 4\n",
    "epochs = 45\n",
    "batch = 32\n",
    "lr = 0.001"
   ]
  },
  {
   "cell_type": "code",
   "execution_count": 14,
   "id": "9e5b9b2c",
   "metadata": {},
   "outputs": [],
   "source": [
    "# re-usable way to create dataloader\n",
    "def make_batches(dataset, batch_size, shuffle=True, drop_last=True, sampler=None):\n",
    "    dataloader = DataLoader(dataset=dataset, batch_size=batch_size,\n",
    "                            shuffle=shuffle, drop_last=drop_last, sampler=sampler)\n",
    "    for data_dict in dataloader:\n",
    "        out_data_dict = {}\n",
    "        for name, tensor in data_dict.items():\n",
    "            out_data_dict[name] = data_dict[name].to(device)\n",
    "        yield out_data_dict\n"
   ]
  },
  {
   "cell_type": "code",
   "execution_count": 15,
   "id": "9e61f3e7",
   "metadata": {},
   "outputs": [],
   "source": [
    "# define neural net\n",
    "class NN(nn.Module):\n",
    "    def __init__(self, in_dim, hidden_dim, out_dim):\n",
    "        super(NN, self).__init__()\n",
    "\n",
    "        # define layers\n",
    "        self.l1 = nn.Linear(in_dim, hidden_dim)\n",
    "        self.relu = nn.ReLU()\n",
    "        self.l2 = nn.Linear(hidden_dim, out_dim)\n",
    "    \n",
    "    # applies layers with sample x\n",
    "    def forward(self, x):\n",
    "        out = self.l1(x).squeeze()\n",
    "        out = self.relu(out)\n",
    "        out = self.l2(out)\n",
    "        return out\n",
    "\n",
    "model = NN(in_dim, hidden_dim, out_dim).to(device)\n",
    "\n",
    "criterion = nn.CrossEntropyLoss(weight=train_weights)\n",
    "optimizer = torch.optim.Adam(model.parameters(), lr=lr)"
   ]
  },
  {
   "cell_type": "code",
   "execution_count": 16,
   "id": "d2a28a1e",
   "metadata": {},
   "outputs": [
    {
     "name": "stdout",
     "output_type": "stream",
     "text": [
      "Epoch 1 batch 1 loss: 0.0014210759401321411\n",
      "Epoch 1 batch 101 loss: 0.06501048198342323\n",
      "Epoch 1 batch 201 loss: 0.04160121090710163\n",
      "Epoch 1 batch 301 loss: 0.038228524394333364\n",
      "Epoch 1 batch 401 loss: 0.029697185829281807\n",
      "Epoch 1 batch 501 loss: 0.02382115814089775\n",
      "Epoch 1 batch 601 loss: 0.021238331351429225\n",
      "Epoch 1 batch 701 loss: 0.018525339398533104\n",
      "Epoch 2 batch 1 loss: 0.00033028516173362734\n",
      "Epoch 2 batch 101 loss: 0.01615887834504247\n",
      "Epoch 2 batch 201 loss: 0.012146710963919758\n",
      "Epoch 2 batch 301 loss: 0.013742424376308918\n",
      "Epoch 2 batch 401 loss: 0.011095560010522604\n",
      "Epoch 2 batch 501 loss: 0.010549486428499222\n",
      "Epoch 2 batch 601 loss: 0.008825116734951734\n",
      "Epoch 2 batch 701 loss: 0.009136748536024242\n",
      "Epoch 3 batch 1 loss: 8.042175322771072e-05\n",
      "Epoch 3 batch 101 loss: 0.008626190470531583\n",
      "Epoch 3 batch 201 loss: 0.007102277583442628\n",
      "Epoch 3 batch 301 loss: 0.006404065732844174\n",
      "Epoch 3 batch 401 loss: 0.006886126253753901\n",
      "Epoch 3 batch 501 loss: 0.00613656682241708\n",
      "Epoch 3 batch 601 loss: 0.005325201519299299\n",
      "Epoch 3 batch 701 loss: 0.004268367964308709\n",
      "Epoch 4 batch 1 loss: 1.336072850972414e-05\n",
      "Epoch 4 batch 101 loss: 0.005972433005692437\n",
      "Epoch 4 batch 201 loss: 0.005473009300651028\n",
      "Epoch 4 batch 301 loss: 0.006802920285612345\n",
      "Epoch 4 batch 401 loss: 0.005476508545922115\n",
      "Epoch 4 batch 501 loss: 0.006389346490614116\n",
      "Epoch 4 batch 601 loss: 0.004302178001264111\n",
      "Epoch 4 batch 701 loss: 0.003812714890111238\n",
      "Epoch 5 batch 1 loss: 1.1677474714815617e-05\n",
      "Epoch 5 batch 101 loss: 0.0032657597188372163\n",
      "Epoch 5 batch 201 loss: 0.0025338785279309375\n",
      "Epoch 5 batch 301 loss: 0.004587701013777405\n",
      "Epoch 5 batch 401 loss: 0.0030923130951123314\n",
      "Epoch 5 batch 501 loss: 0.0028760478624608368\n",
      "Epoch 5 batch 601 loss: 0.0035726391175994647\n",
      "Epoch 5 batch 701 loss: 0.0026454495332436634\n",
      "Epoch 6 batch 1 loss: 7.857032120227815e-06\n",
      "Epoch 6 batch 101 loss: 0.0022723481006687507\n",
      "Epoch 6 batch 201 loss: 0.001904751148133073\n",
      "Epoch 6 batch 301 loss: 0.0035558293576468713\n",
      "Epoch 6 batch 401 loss: 0.003332923675247002\n",
      "Epoch 6 batch 501 loss: 0.007721370931132697\n",
      "Epoch 6 batch 601 loss: 0.005116502760327421\n",
      "Epoch 6 batch 701 loss: 0.005761943706311286\n",
      "Epoch 7 batch 1 loss: 1.9175264984369278e-05\n",
      "Epoch 7 batch 101 loss: 0.00375070375087671\n",
      "Epoch 7 batch 201 loss: 0.0038027071832912045\n",
      "Epoch 7 batch 301 loss: 0.005842095210566185\n",
      "Epoch 7 batch 401 loss: 0.003319740559323691\n",
      "Epoch 7 batch 501 loss: 0.002871487426920794\n",
      "Epoch 7 batch 601 loss: 0.003831467728014104\n",
      "Epoch 7 batch 701 loss: 0.002056595750967972\n",
      "Epoch 8 batch 1 loss: 1.3479528948664665e-05\n",
      "Epoch 8 batch 101 loss: 0.0015470916018821299\n",
      "Epoch 8 batch 201 loss: 0.001857851457549259\n",
      "Epoch 8 batch 301 loss: 0.0021280361271928997\n",
      "Epoch 8 batch 401 loss: 0.0014164143588859589\n",
      "Epoch 8 batch 501 loss: 0.0018103834869689307\n",
      "Epoch 8 batch 601 loss: 0.0035081103433039973\n",
      "Epoch 8 batch 701 loss: 0.005510469922941411\n",
      "Epoch 9 batch 1 loss: 1.450637076050043e-05\n",
      "Epoch 9 batch 101 loss: 0.0021020781846309545\n",
      "Epoch 9 batch 201 loss: 0.0021971249924390575\n",
      "Epoch 9 batch 301 loss: 0.0017826461688382552\n",
      "Epoch 9 batch 401 loss: 0.0017989104073494672\n",
      "Epoch 9 batch 501 loss: 0.0018044523228309118\n",
      "Epoch 9 batch 601 loss: 0.0046506582088186406\n",
      "Epoch 9 batch 701 loss: 0.004902067755290773\n",
      "Epoch 10 batch 1 loss: 2.464903984218836e-06\n",
      "Epoch 10 batch 101 loss: 0.0007985276832769159\n",
      "Epoch 10 batch 201 loss: 0.0010955484672740567\n",
      "Epoch 10 batch 301 loss: 0.0010108443739591166\n",
      "Epoch 10 batch 401 loss: 0.0007320308609050698\n",
      "Epoch 10 batch 501 loss: 0.0009382054302550386\n",
      "Epoch 10 batch 601 loss: 0.0012015332716109697\n",
      "Epoch 10 batch 701 loss: 0.0017601351279881783\n",
      "Epoch 11 batch 1 loss: 3.8039071951061485e-06\n",
      "Epoch 11 batch 101 loss: 0.0010625608950504102\n",
      "Epoch 11 batch 201 loss: 0.002384611323592253\n",
      "Epoch 11 batch 301 loss: 0.0018227064627863\n",
      "Epoch 11 batch 401 loss: 0.0014652453974995296\n",
      "Epoch 11 batch 501 loss: 0.0030128541518351995\n",
      "Epoch 11 batch 601 loss: 0.004311772471526637\n",
      "Epoch 11 batch 701 loss: 0.0011600297552067785\n",
      "Epoch 12 batch 1 loss: 4.136808274779469e-07\n",
      "Epoch 12 batch 101 loss: 0.0008302389592863619\n",
      "Epoch 12 batch 201 loss: 0.0013038078424578998\n",
      "Epoch 12 batch 301 loss: 0.0010727849261602386\n",
      "Epoch 12 batch 401 loss: 0.006637428407149855\n",
      "Epoch 12 batch 501 loss: 0.009501273257017601\n",
      "Epoch 12 batch 601 loss: 0.005380795235396363\n",
      "Epoch 12 batch 701 loss: 0.004616198512609117\n",
      "Epoch 13 batch 1 loss: 4.510647617280483e-06\n",
      "Epoch 13 batch 101 loss: 0.002561050519172568\n",
      "Epoch 13 batch 201 loss: 0.002416869141656207\n",
      "Epoch 13 batch 301 loss: 0.0006765603068924975\n",
      "Epoch 13 batch 401 loss: 0.0009556039659946691\n",
      "Epoch 13 batch 501 loss: 0.0006632901968841907\n",
      "Epoch 13 batch 601 loss: 0.0011390029983595013\n",
      "Epoch 13 batch 701 loss: 0.0011921429333888228\n",
      "Epoch 14 batch 1 loss: 1.2377905659377576e-06\n",
      "Epoch 14 batch 101 loss: 0.004941424259508494\n",
      "Epoch 14 batch 201 loss: 0.0024870717684389093\n",
      "Epoch 14 batch 301 loss: 0.0023025055968028028\n",
      "Epoch 14 batch 401 loss: 0.0011623014623764903\n",
      "Epoch 14 batch 501 loss: 0.0012339255739934741\n",
      "Epoch 14 batch 601 loss: 0.0029666309407184598\n",
      "Epoch 14 batch 701 loss: 0.001483973450580379\n",
      "Epoch 15 batch 1 loss: 8.756324532441795e-07\n",
      "Epoch 15 batch 101 loss: 0.0019945317472156603\n",
      "Epoch 15 batch 201 loss: 0.001019489434111165\n",
      "Epoch 15 batch 301 loss: 0.0011283479806879768\n",
      "Epoch 15 batch 401 loss: 0.0010347414862917504\n",
      "Epoch 15 batch 501 loss: 0.0010631035501282894\n",
      "Epoch 15 batch 601 loss: 0.00166746423040604\n",
      "Epoch 15 batch 701 loss: 0.0014861625025223476\n",
      "Epoch 16 batch 1 loss: 8.135307580232621e-07\n",
      "Epoch 16 batch 101 loss: 0.00035898040985921396\n",
      "Epoch 16 batch 201 loss: 0.00038325586714199746\n",
      "Epoch 16 batch 301 loss: 0.001373315141448984\n",
      "Epoch 16 batch 401 loss: 0.0011485412644105964\n",
      "Epoch 16 batch 501 loss: 0.0006637764360930305\n",
      "Epoch 16 batch 601 loss: 0.0011308898769784718\n",
      "Epoch 16 batch 701 loss: 0.0005448176807258278\n",
      "Epoch 17 batch 1 loss: 5.675529828295112e-07\n",
      "Epoch 17 batch 101 loss: 0.0010048094537633005\n",
      "Epoch 17 batch 201 loss: 0.003512313597384491\n",
      "Epoch 17 batch 301 loss: 0.0026633714214840437\n",
      "Epoch 17 batch 401 loss: 0.0021927703319233843\n",
      "Epoch 17 batch 501 loss: 0.0017190300917427521\n",
      "Epoch 17 batch 601 loss: 0.0018578955067932838\n",
      "Epoch 17 batch 701 loss: 0.001721103626812692\n",
      "Epoch 18 batch 1 loss: 5.897925700992346e-06\n",
      "Epoch 18 batch 101 loss: 0.0007166767551389057\n",
      "Epoch 18 batch 201 loss: 0.002756261709608225\n",
      "Epoch 18 batch 301 loss: 0.003472200151387369\n",
      "Epoch 18 batch 401 loss: 0.0016718986045889323\n",
      "Epoch 18 batch 501 loss: 0.002408485238585854\n",
      "Epoch 18 batch 601 loss: 0.0013760673627475626\n",
      "Epoch 18 batch 701 loss: 0.0024633207438746465\n",
      "Epoch 19 batch 1 loss: 5.328580737113953e-07\n",
      "Epoch 19 batch 101 loss: 0.0007685750428354368\n",
      "Epoch 19 batch 201 loss: 0.0036901984923606505\n",
      "Epoch 19 batch 301 loss: 0.0006649738080159296\n",
      "Epoch 19 batch 401 loss: 0.0011248223427974154\n",
      "Epoch 19 batch 501 loss: 0.004917634514727979\n",
      "Epoch 19 batch 601 loss: 0.00309377147606574\n",
      "Epoch 19 batch 701 loss: 0.0017035525122191756\n",
      "Epoch 20 batch 1 loss: 0.0005540220141410828\n",
      "Epoch 20 batch 101 loss: 0.0042030572791009035\n",
      "Epoch 20 batch 201 loss: 0.002093019802203344\n",
      "Epoch 20 batch 301 loss: 0.0009167173910245765\n",
      "Epoch 20 batch 401 loss: 0.0007670063272817061\n",
      "Epoch 20 batch 501 loss: 0.0005384576353244483\n",
      "Epoch 20 batch 601 loss: 0.0005433978289365769\n",
      "Epoch 20 batch 701 loss: 0.000718019512234605\n",
      "Epoch 21 batch 1 loss: 4.923053085803985e-06\n",
      "Epoch 21 batch 101 loss: 0.00037928442775591974\n",
      "Epoch 21 batch 201 loss: 0.0006869314824070898\n",
      "Epoch 21 batch 301 loss: 0.0021045051754081216\n",
      "Epoch 21 batch 401 loss: 0.0009686135367519455\n",
      "Epoch 21 batch 501 loss: 0.0019010437644610648\n",
      "Epoch 21 batch 601 loss: 0.0006800071714023943\n",
      "Epoch 21 batch 701 loss: 0.000406068979340489\n",
      "Epoch 22 batch 1 loss: 1.3090474531054496e-06\n",
      "Epoch 22 batch 101 loss: 0.003696199636979145\n",
      "Epoch 22 batch 201 loss: 0.0015294383691943948\n",
      "Epoch 22 batch 301 loss: 0.0017679274731199257\n",
      "Epoch 22 batch 401 loss: 0.0012027071386837634\n",
      "Epoch 22 batch 501 loss: 0.0019696074097882957\n",
      "Epoch 22 batch 601 loss: 0.0014220071701274719\n",
      "Epoch 22 batch 701 loss: 0.001384864099585684\n",
      "Epoch 23 batch 1 loss: 8.691927650943399e-07\n",
      "Epoch 23 batch 101 loss: 0.00042136655918875477\n",
      "Epoch 23 batch 201 loss: 0.0006766711802483769\n",
      "Epoch 23 batch 301 loss: 0.0005275392032272066\n",
      "Epoch 23 batch 401 loss: 0.0006005852342568687\n",
      "Epoch 23 batch 501 loss: 0.0005310402124159737\n",
      "Epoch 23 batch 601 loss: 0.00041887926938943566\n",
      "Epoch 23 batch 701 loss: 0.0002605797043579514\n",
      "Epoch 24 batch 1 loss: 5.454426282085478e-07\n",
      "Epoch 24 batch 101 loss: 0.0014121004714761512\n",
      "Epoch 24 batch 201 loss: 0.0014896537616150454\n",
      "Epoch 24 batch 301 loss: 0.0016260700801722123\n",
      "Epoch 24 batch 401 loss: 0.003717623534568702\n",
      "Epoch 24 batch 501 loss: 0.003071311451290967\n",
      "Epoch 24 batch 601 loss: 0.0005808585485137883\n",
      "Epoch 24 batch 701 loss: 0.0020874044752345073\n",
      "Epoch 25 batch 1 loss: 8.175804978236556e-07\n",
      "Epoch 25 batch 101 loss: 0.0014463789117071428\n",
      "Epoch 25 batch 201 loss: 0.000935432454214606\n",
      "Epoch 25 batch 301 loss: 0.0023069126783302634\n",
      "Epoch 25 batch 401 loss: 0.0020543651532861987\n",
      "Epoch 25 batch 501 loss: 0.0012236234660558693\n",
      "Epoch 25 batch 601 loss: 0.0004399798381709843\n",
      "Epoch 25 batch 701 loss: 0.0004736710809083888\n",
      "Epoch 26 batch 1 loss: 3.452831588219851e-07\n",
      "Epoch 26 batch 101 loss: 0.0006131397782992281\n",
      "Epoch 26 batch 201 loss: 0.0008326164461868756\n",
      "Epoch 26 batch 301 loss: 0.0003719499265498598\n",
      "Epoch 26 batch 401 loss: 0.0005897043714685424\n",
      "Epoch 26 batch 501 loss: 0.000274720829915168\n",
      "Epoch 26 batch 601 loss: 0.0004001777800585842\n",
      "Epoch 26 batch 701 loss: 0.00017624176190292928\n",
      "Epoch 27 batch 1 loss: 8.72323231305927e-07\n",
      "Epoch 27 batch 101 loss: 0.0010676025391112489\n",
      "Epoch 27 batch 201 loss: 0.00022982286103979277\n",
      "Epoch 27 batch 301 loss: 0.0008206351571898267\n",
      "Epoch 27 batch 401 loss: 0.0013120819948635471\n",
      "Epoch 27 batch 501 loss: 0.00166166101744966\n",
      "Epoch 27 batch 601 loss: 0.0033643451477400957\n",
      "Epoch 27 batch 701 loss: 0.0004588113819409045\n",
      "Epoch 28 batch 1 loss: 3.613099979702383e-07\n",
      "Epoch 28 batch 101 loss: 0.002257065231289744\n",
      "Epoch 28 batch 201 loss: 0.0004904490501030522\n",
      "Epoch 28 batch 301 loss: 0.0006375896388999536\n",
      "Epoch 28 batch 401 loss: 0.0026364748847881856\n",
      "Epoch 28 batch 501 loss: 0.0009589699788484723\n",
      "Epoch 28 batch 601 loss: 0.0007112567335207132\n",
      "Epoch 28 batch 701 loss: 0.0005516888109195861\n",
      "Epoch 29 batch 1 loss: 1.3259274419397115e-07\n",
      "Epoch 29 batch 101 loss: 0.0016472101107865456\n",
      "Epoch 29 batch 201 loss: 0.0012567027834738838\n",
      "Epoch 29 batch 301 loss: 0.0005368046910734847\n",
      "Epoch 29 batch 401 loss: 0.0015606360679448698\n",
      "Epoch 29 batch 501 loss: 0.000885030766869022\n",
      "Epoch 29 batch 601 loss: 0.0003837392695058952\n",
      "Epoch 29 batch 701 loss: 0.0008732541647186736\n",
      "Epoch 30 batch 1 loss: 3.2163126161321995e-07\n",
      "Epoch 30 batch 101 loss: 0.0004278359153177007\n",
      "Epoch 30 batch 201 loss: 0.00023903404654265615\n",
      "Epoch 30 batch 301 loss: 0.0004435524158470798\n",
      "Epoch 30 batch 401 loss: 0.0002717635756562231\n",
      "Epoch 30 batch 501 loss: 0.0016909716469781415\n",
      "Epoch 30 batch 601 loss: 0.000938951962543797\n",
      "Epoch 30 batch 701 loss: 0.002102122993674129\n",
      "Epoch 31 batch 1 loss: 1.3036747695878148e-06\n",
      "Epoch 31 batch 101 loss: 0.001642857595708847\n",
      "Epoch 31 batch 201 loss: 0.0017521834752333234\n",
      "Epoch 31 batch 301 loss: 0.001175026590386551\n",
      "Epoch 31 batch 401 loss: 0.0022191271078554563\n",
      "Epoch 31 batch 501 loss: 0.0009341851402095927\n",
      "Epoch 31 batch 601 loss: 0.0019320353587572753\n",
      "Epoch 31 batch 701 loss: 0.0010260569121201114\n",
      "Epoch 32 batch 1 loss: 1.0713759111240507e-06\n",
      "Epoch 32 batch 101 loss: 0.0014750791139158538\n"
     ]
    },
    {
     "ename": "RuntimeError",
     "evalue": "CUDA error: unspecified launch failure\nCUDA kernel errors might be asynchronously reported at some other API call,so the stacktrace below might be incorrect.\nFor debugging consider passing CUDA_LAUNCH_BLOCKING=1.",
     "output_type": "error",
     "traceback": [
      "\u001b[0;31m---------------------------------------------------------------------------\u001b[0m",
      "\u001b[0;31mRuntimeError\u001b[0m                              Traceback (most recent call last)",
      "Cell \u001b[0;32mIn [16], line 20\u001b[0m\n\u001b[1;32m     17\u001b[0m epoch_loss \u001b[38;5;241m=\u001b[39m []\n\u001b[1;32m     19\u001b[0m \u001b[38;5;66;03m# enumerate to track the batch index and do some intra-epoch reporting\u001b[39;00m\n\u001b[0;32m---> 20\u001b[0m \u001b[38;5;28;01mfor\u001b[39;00m i, sample \u001b[38;5;129;01min\u001b[39;00m \u001b[38;5;28menumerate\u001b[39m(train_loader):\n\u001b[1;32m     21\u001b[0m     \u001b[38;5;66;03m# zero gradients each batch\u001b[39;00m\n\u001b[1;32m     22\u001b[0m     optimizer\u001b[38;5;241m.\u001b[39mzero_grad()\n\u001b[1;32m     24\u001b[0m     inputs \u001b[38;5;241m=\u001b[39m ((sample)[\u001b[38;5;124m'\u001b[39m\u001b[38;5;124mx_data\u001b[39m\u001b[38;5;124m'\u001b[39m])\u001b[38;5;241m.\u001b[39mfloat()\n",
      "Cell \u001b[0;32mIn [14], line 8\u001b[0m, in \u001b[0;36mmake_batches\u001b[0;34m(dataset, batch_size, shuffle, drop_last, sampler)\u001b[0m\n\u001b[1;32m      6\u001b[0m out_data_dict \u001b[38;5;241m=\u001b[39m {}\n\u001b[1;32m      7\u001b[0m \u001b[38;5;28;01mfor\u001b[39;00m name, tensor \u001b[38;5;129;01min\u001b[39;00m data_dict\u001b[38;5;241m.\u001b[39mitems():\n\u001b[0;32m----> 8\u001b[0m     out_data_dict[name] \u001b[38;5;241m=\u001b[39m \u001b[43mdata_dict\u001b[49m\u001b[43m[\u001b[49m\u001b[43mname\u001b[49m\u001b[43m]\u001b[49m\u001b[38;5;241;43m.\u001b[39;49m\u001b[43mto\u001b[49m\u001b[43m(\u001b[49m\u001b[43mdevice\u001b[49m\u001b[43m)\u001b[49m\n\u001b[1;32m      9\u001b[0m \u001b[38;5;28;01myield\u001b[39;00m out_data_dict\n",
      "\u001b[0;31mRuntimeError\u001b[0m: CUDA error: unspecified launch failure\nCUDA kernel errors might be asynchronously reported at some other API call,so the stacktrace below might be incorrect.\nFor debugging consider passing CUDA_LAUNCH_BLOCKING=1."
     ]
    }
   ],
   "source": [
    "\"\"\"\n",
    "training loop\n",
    "\"\"\"\n",
    "loss_vals=  {}\n",
    "loss_vals['train'] = []\n",
    "loss_vals['test'] = []\n",
    "\n",
    "\n",
    "for epoch in range(epochs):\n",
    "\n",
    "    # setup\n",
    "    data.set_split('train')\n",
    "    train_loader = make_batches(data, batch, shuffle=False, sampler=train_sampler)\n",
    "\n",
    "    running_loss = 0.\n",
    "    last_loss = 0.\n",
    "    epoch_loss = []\n",
    "\n",
    "    # enumerate to track the batch index and do some intra-epoch reporting\n",
    "    for i, sample in enumerate(train_loader):\n",
    "        # zero gradients each batch\n",
    "        optimizer.zero_grad()\n",
    "        \n",
    "        inputs = ((sample)['x_data']).float()\n",
    "        labels = sample['y_target']\n",
    "\n",
    "        # predict for batch\n",
    "        outputs = model(inputs)\n",
    "\n",
    "        # compute loss and gradients\n",
    "        loss = criterion(outputs, labels)\n",
    "        epoch_loss.append(loss.item())\n",
    "        loss.backward()\n",
    "\n",
    "        # adjust weights\n",
    "        optimizer.step()\n",
    "\n",
    "        # report\n",
    "        running_loss += loss.item()\n",
    "        if i % 100 == 0:\n",
    "            last_loss = running_loss / 1000 # loss per batch\n",
    "            print('Epoch {} batch {} loss: {}'.format(epoch + 1, i + 1, last_loss))\n",
    "            running_loss = 0.\n",
    "        \n",
    "    # append avg loss per epoch to loss vals\n",
    "    loss_vals['train'].append(sum(epoch_loss)/len(epoch_loss))"
   ]
  },
  {
   "cell_type": "code",
   "execution_count": null,
   "id": "f68e1448",
   "metadata": {},
   "outputs": [],
   "source": [
    "# save epochs & loss to file\n",
    "# embedding_dataset_epochs_loss\n",
    "pd.Dataframe(loss_vals['train']).to_csv(\"models/glove_ul_45_loss.csv\")"
   ]
  },
  {
   "cell_type": "code",
   "execution_count": 24,
   "id": "ebace269",
   "metadata": {},
   "outputs": [
    {
     "data": {
      "image/png": "[encoded data removed]",
      "text/plain": [
       "<Figure size 640x480 with 1 Axes>"
      ]
     },
     "metadata": {},
     "output_type": "display_data"
    }
   ],
   "source": [
    "# plot loss once finished\n",
    "def my_plot(epochs, loss):\n",
    "    plt.plot(epochs, loss)\n",
    "    plt.title(f'train loss with batch size {batch}, lr {lr}')\n",
    "    plt.xlabel('epoch')\n",
    "    plt.ylabel('loss')\n",
    "# plot loss when finished\n",
    "my_plot(np.linspace(1, epochs, epochs).astype(int), loss_vals['train'])\n",
    "# save as: embedding_dataset_epochs_el ('epoch loss')"
   ]
  },
  {
   "cell_type": "code",
   "execution_count": 25,
   "id": "be53fac1",
   "metadata": {},
   "outputs": [
    {
     "name": "stdout",
     "output_type": "stream",
     "text": [
      "accuracy = 94.28661616161617\n"
     ]
    }
   ],
   "source": [
    "# set test split\n",
    "data.set_split('test')\n",
    "test_loader = make_batches(data, batch)\n",
    "\n",
    "# accuracy\n",
    "with torch.no_grad():\n",
    "    n_correct = 0\n",
    "    n_samples = 0\n",
    "    y_pred = []\n",
    "    y_true = []\n",
    "    for i, sample in enumerate(test_loader):\n",
    "        \n",
    "        if batch == 1:\n",
    "            inputs = (sample['x_data'])[0].float()\n",
    "        else:\n",
    "            inputs = ((sample)['x_data']).float()\n",
    "        labels = sample['y_target']\n",
    "        \n",
    "        \n",
    "        # test the trained model\n",
    "        outputs = model(inputs)\n",
    "        \n",
    "        # value, index\n",
    "        _, predictions = torch.max(outputs, 1)\n",
    "        y_pred.extend(predictions.data.cpu().numpy())\n",
    "        y_true.extend(labels.data.cpu().numpy())\n",
    "\n",
    "        n_samples += labels.shape[0] # gives us n of samples of current batch\n",
    "        n_correct += (predictions == labels).sum().item()\n",
    "\n",
    "    \n",
    "    # accuracy in percent\n",
    "    acc = 100.0 * n_correct / n_samples\n",
    "    print(f'accuracy = {acc}')\n"
   ]
  },
  {
   "cell_type": "code",
   "execution_count": 26,
   "id": "a9511ac4",
   "metadata": {},
   "outputs": [
    {
     "name": "stdout",
     "output_type": "stream",
     "text": [
      "              precision    recall  f1-score   support\n",
      "\n",
      "           0       0.86      0.88      0.87       702\n",
      "           1       0.75      0.81      0.78       183\n",
      "           2       0.93      0.95      0.94      1796\n",
      "           3       0.98      0.96      0.97      3655\n",
      "\n",
      "    accuracy                           0.94      6336\n",
      "   macro avg       0.88      0.90      0.89      6336\n",
      "weighted avg       0.94      0.94      0.94      6336\n",
      "\n"
     ]
    }
   ],
   "source": [
    "from sklearn.metrics import classification_report\n",
    " \n",
    "print(classification_report(y_true, y_pred))"
   ]
  },
  {
   "cell_type": "code",
   "execution_count": 28,
   "id": "8f297497",
   "metadata": {},
   "outputs": [],
   "source": [
    "# save the model\n",
    "# embedding_data_accuracy\n",
    "torch.save(model.state_dict(), \"models/glove_ul_94.pth\")"
   ]
  },
  {
   "cell_type": "code",
   "execution_count": 29,
   "id": "8be40518",
   "metadata": {},
   "outputs": [
    {
     "name": "stdout",
     "output_type": "stream",
     "text": [
      "[[0.85773481 0.16161616 0.01408451 0.00644619]\n",
      " [0.02900552 0.75252525 0.00379198 0.00168161]\n",
      " [0.04005525 0.03030303 0.92795233 0.01345291]\n",
      " [0.07320442 0.05555556 0.05417118 0.97841928]]\n"
     ]
    },
    {
     "data": {
      "text/plain": [
       "<AxesSubplot: title={'center': 'cf matrix of testadata size 6340, lr: 0.001, batches: 32, epochs: 45'}>"
      ]
     },
     "execution_count": 29,
     "metadata": {},
     "output_type": "execute_result"
    },
    {
     "data": {
      "image/png": "[encoded data removed]",
      "text/plain": [
       "<Figure size 1200x700 with 2 Axes>"
      ]
     },
     "metadata": {},
     "output_type": "display_data"
    }
   ],
   "source": [
    "# confusion matrix\n",
    "classes = ['agree', 'disagree', 'discuss', 'unrelated']\n",
    "\n",
    "# Build confusion matrix (normalized as precision)\n",
    "cf_matrix = confusion_matrix(y_true, y_pred, normalize='pred')\n",
    "# precision, is in a sense correctness, and recall is completeness.\n",
    "\n",
    "print(cf_matrix)\n",
    "df_cm = pd.DataFrame(cf_matrix, index = [i for i in classes],\n",
    "                     columns = [i for i in classes])\n",
    "plt.figure(figsize = (12,7))\n",
    "plt.title(f'cf matrix of testadata size {len(data._target_df)}, lr: {lr}, batches: {batch}, epochs: {epochs}')\n",
    "sns.heatmap(df_cm, annot=True)"
   ]
  },
  {
   "cell_type": "code",
   "execution_count": 179,
   "id": "14264802",
   "metadata": {},
   "outputs": [
    {
     "name": "stdout",
     "output_type": "stream",
     "text": [
      "Who Should Play Steve Jobs Now That Christian Bale Quit? \n",
      "---\n",
      "should agree with\n",
      "---\n",
      "Christian Bale will not be starring as Steve Jobs in Aaron Sorkin's upcoming Steve Jobs biopic, according to The Hollywood Reporter. The actor has reportedly decided that he was \"not right for the part,\" deciding to withdraw from the film.\n",
      "\n",
      "Bale was announced as the star of the film just last week, with Sorkin saying that Christian Bale was \"the best actor in a certain age range\" to play Jobs, and that he had agreed to the part without an audition.\n",
      "\n",
      "Set to be directed by Danny Boyle, who also directed the Oscar-winning hit Slumdog Millionaire, the upcoming Steve Jobs project focuses on three continuous 30-minute scenes that depict three of Apple's product launches.\n",
      "\n",
      "While it is now unclear who will play Steve Jobs in the movie, Seth Rogen is reportedly in talks to play Apple co-founder Steve Wozniak, and Jessica Chastain, from The Help, is also being considered for an unspecified role in the film. Leonardo DiCaprio was previously in talks to star as Steve Jobs, but also opted not to take on the role.\n"
     ]
    }
   ],
   "source": [
    "agree_row = (data.df).iloc[1]\n",
    "disagree_row = (data.df).iloc[4434]\n",
    "\n",
    "agree_head = agree_row['head']\n",
    "agree_body = agree_row['body']\n",
    "\n",
    "disagree_head = disagree_row['head']\n",
    "disagree_body = disagree_row['body']\n",
    "\n",
    "print(f\"{agree_head} \\n---\\nshould agree with\\n---\\n{agree_body}\")"
   ]
  },
  {
   "cell_type": "code",
   "execution_count": 183,
   "id": "f3653c6c",
   "metadata": {},
   "outputs": [
    {
     "name": "stdout",
     "output_type": "stream",
     "text": [
      "NASA Confirms Earth Will Experience 6 Days of Total Darkness in December 2014! \n",
      "---\n",
      "should disagree with\n",
      "---\n",
      "It may feel like winter is slowly squeezing all the sunlight out of your day, but if you see any news stories claiming Earth is headed for \"Six Days of Total Darkness\" then don't start stocking up on the tins of beans and torches just yet.\n",
      "\n",
      "\"Satirical news site\" Huzlers.com has been spreading this fake story far and wide on the web this week, taking in numerous Facebook and Twitter users and encouraging them to post about what they're going to be up to during the six days of darkness.\n",
      "\n",
      "The story on the vaguely official looking website titled \"Nasa Confirms Earth Will Experience 6 Days of Total ...\n"
     ]
    }
   ],
   "source": [
    "print(f\"{disagree_head} \\n---\\nshould disagree with\\n---\\n{disagree_body[:600]} ...\")"
   ]
  },
  {
   "cell_type": "code",
   "execution_count": 184,
   "id": "fa9fc6d6",
   "metadata": {},
   "outputs": [
    {
     "name": "stdout",
     "output_type": "stream",
     "text": [
      "tensor(10.2128, grad_fn=<MaxBackward0>) tensor(0)\n",
      "agree\n"
     ]
    }
   ],
   "source": [
    "claim = to_vector(preprocess(agree_head))\n",
    "body = to_vector(preprocess(agree_body))\n",
    "        \n",
    "# 12k combined input vector\n",
    "x_data = torch.cat((claim, body), 1)\n",
    "\n",
    "# demo predict\n",
    "pred = model(x_data)\n",
    "pred_out, pred_idx = torch.max(pred, 0)\n",
    "\n",
    "print(pred_out, pred_idx)\n",
    "classes = ['agree', 'disagree', 'discuss', 'unrelated']\n",
    "stance = classes[(pred_idx.data).numpy()]\n",
    "\n",
    "print(stance)"
   ]
  }
 ],
 "metadata": {
  "interpreter": {
   "hash": "916dbcbb3f70747c44a77c7bcd40155683ae19c65e1c03b4aa3499c5328201f1"
  },
  "kernelspec": {
   "display_name": "Python 3.10.6 64-bit",
   "language": "python",
   "name": "python3"
  },
  "language_info": {
   "codemirror_mode": {
    "name": "ipython",
    "version": 3
   },
   "file_extension": ".py",
   "mimetype": "text/x-python",
   "name": "python",
   "nbconvert_exporter": "python",
   "pygments_lexer": "ipython3",
   "version": "3.10.6"
  },
  "vscode": {
   "interpreter": {
    "hash": "916dbcbb3f70747c44a77c7bcd40155683ae19c65e1c03b4aa3499c5328201f1"
   }
  }
 },
 "nbformat": 4,
 "nbformat_minor": 5
}
