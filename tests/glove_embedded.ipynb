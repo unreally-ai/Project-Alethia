{
 "cells": [
  {
   "cell_type": "markdown",
   "id": "1e6e45c1",
   "metadata": {},
   "source": [
    "# GloVe Testbook\n",
    "### Step 1 - load data & helper functions\n"
   ]
  },
  {
   "cell_type": "code",
   "execution_count": 1,
   "id": "a32684fc",
   "metadata": {},
   "outputs": [
    {
     "name": "stderr",
     "output_type": "stream",
     "text": [
      "/home/cas/.local/lib/python3.10/site-packages/tqdm/auto.py:22: TqdmWarning: IProgress not found. Please update jupyter and ipywidgets. See https://ipywidgets.readthedocs.io/en/stable/user_install.html\n",
      "  from .autonotebook import tqdm as notebook_tqdm\n"
     ]
    }
   ],
   "source": [
    "import torch\n",
    "import torch.nn as nn\n",
    "from torchtext.data import get_tokenizer\n",
    "from torchtext.vocab import GloVe\n",
    "from torch.utils.data import Dataset, DataLoader, WeightedRandomSampler\n",
    "\n",
    "import matplotlib.pyplot as plt\n",
    "import seaborn as sns\n",
    "import pandas as pd\n",
    "import numpy as np\n",
    "\n",
    "from sklearn.model_selection import train_test_split\n",
    "from sklearn.feature_extraction.text import TfidfVectorizer,CountVectorizer\n",
    "from sklearn.metrics.pairwise import cosine_similarity\n",
    "from sklearn.metrics import confusion_matrix\n",
    "\n",
    "from collections import Counter\n",
    "import re\n",
    "\n",
    "from nltk.corpus import stopwords\n",
    "from nltk.stem import WordNetLemmatizer "
   ]
  },
  {
   "cell_type": "code",
   "execution_count": 2,
   "id": "386e74bf",
   "metadata": {},
   "outputs": [],
   "source": [
    "# path to dataset\n",
    "DATAPATH = 'data/upsampled_large.csv'\n",
    "# device\n",
    "device = 'cuda' # cpu"
   ]
  },
  {
   "cell_type": "code",
   "execution_count": 3,
   "id": "a9e01cc6",
   "metadata": {},
   "outputs": [],
   "source": [
    "# takes in string & returns a cleaned string of all non-stop-words\n",
    "def preprocess(text, lemmatizer = WordNetLemmatizer()):\n",
    "    sw = set(stopwords.words('english'))\n",
    "    text = re.sub(r'[^\\w\\s]', '', text).lower()\n",
    "    s = \"\"\n",
    "    for word in text.split():\n",
    "        if word not in sw:\n",
    "                s += (lemmatizer.lemmatize(word) + \" \")\n",
    "    return s\n"
   ]
  },
  {
   "cell_type": "code",
   "execution_count": 4,
   "id": "b5ae5f8f",
   "metadata": {},
   "outputs": [],
   "source": [
    "tokenizer = get_tokenizer(\"basic_english\")\n",
    "max_words = 20\n",
    "embed_len=300\n",
    "global_vectors = GloVe(name='840B', dim=embed_len)"
   ]
  },
  {
   "cell_type": "code",
   "execution_count": 5,
   "id": "1f8f489a",
   "metadata": {},
   "outputs": [],
   "source": [
    "# takes string, return 6000 dim GloVe vector\n",
    "def to_vector(s):\n",
    "    X = tokenizer(s)\n",
    "    # fill / cut tokens to max size\n",
    "    if len(X) < max_words:\n",
    "        X = X+[\"\"]*(max_words-len(X))\n",
    "    else:\n",
    "        X = X[:max_words]\n",
    "\n",
    "    X_tensor = torch.zeros(1, max_words, embed_len)\n",
    "    for i, j in enumerate(X):\n",
    "        X_tensor[0][i] = global_vectors.get_vecs_by_tokens(j)\n",
    "    return(X_tensor.reshape(1, -1))"
   ]
  },
  {
   "cell_type": "code",
   "execution_count": 6,
   "id": "fae5f942",
   "metadata": {},
   "outputs": [
    {
     "data": {
      "text/plain": [
       "torch.Size([1, 12000])"
      ]
     },
     "execution_count": 6,
     "metadata": {},
     "output_type": "execute_result"
    }
   ],
   "source": [
    "x = to_vector(\"test\")\n",
    "y = to_vector(\"vetor\")\n",
    "Z = torch.cat((x, y), 1)\n",
    "Z.shape"
   ]
  },
  {
   "cell_type": "markdown",
   "id": "1117a79b",
   "metadata": {},
   "source": [
    "### Step 2 - define pytorch custom dataset class"
   ]
  },
  {
   "cell_type": "code",
   "execution_count": 6,
   "id": "bc9e26e7",
   "metadata": {},
   "outputs": [],
   "source": [
    "# config\n",
    "\n",
    "# custom dataset class\n",
    "class StanceDataset(Dataset):\n",
    "    def __init__(self, stance_df,  val_split=False):\n",
    "        \"\"\"  Initalizes vectorizers, defines train/test splits\n",
    "        Args:\n",
    "            stance_df (pandas.DataFrame): the dataset\n",
    "        \"\"\"\n",
    "        self.df = stance_df\n",
    "        \n",
    "        # splits (train, test, validation) 80/20 \n",
    "        self.train, self.test = train_test_split(self.df, test_size=0.2, shuffle=True)\n",
    "        if val_split == True:   \n",
    "            # 50/50 val/test\n",
    "            self.test, self.val = train_test_split(self.test, test_size=0.5, shuffle=False)\n",
    "            self.val_len = len(self.val)\n",
    "        # split sizes\n",
    "        self.train_len = len(self.train)\n",
    "        self.test_len = len(self.test)\n",
    "        \n",
    "        self._lookup_dict = {'train': (self.train, self.train_len),\n",
    "                             'test': (self.test, self.test_len)}\n",
    "        if val_split == True:\n",
    "            self._lookup_dict.update({'val': (self.val, self.val_len)})\n",
    "\n",
    "        self.set_split('train')\n",
    "\n",
    "\n",
    "    def set_split(self, split='train'):\n",
    "        \"\"\" selects the splits in the dataset using a column in the dataframe \n",
    "        Args:\n",
    "            split (str): one of \"train\", \"val\", or \"test\"\n",
    "        \"\"\"\n",
    "        self._target_split = split\n",
    "        self._target_df, self._target_size = self._lookup_dict[split]\n",
    "\n",
    "    def __len__(self):\n",
    "        return self._target_size\n",
    "\n",
    "    def __getitem__(self, index):\n",
    "        \"\"\"\n",
    "        Args:\n",
    "            index (int): index to current data point\n",
    "        Returns:\n",
    "            dictionary holding tensor data point feature (x_data) and skalar tensor label (y_data)\n",
    "        \"\"\"\n",
    "        \n",
    "        # get text values from current row\n",
    "        row = (self._target_df.iloc[index])\n",
    "        claim = [row['head']]\n",
    "        body = [row['body']]\n",
    "\n",
    "        # create 6k vector for each\n",
    "        claim = to_vector(preprocess(claim[0]))\n",
    "        body = to_vector(preprocess(body[0]))\n",
    "        \n",
    "        # 12k combined input vector\n",
    "        x_data = torch.cat((claim, body), 1)\n",
    "\n",
    "        # get stance & convert to tensor\n",
    "        y_data = row['Stance']\n",
    "        stance_map = {\n",
    "            \"agree\": 0,\n",
    "            \"disagree\": 1,\n",
    "            \"discuss\": 2,\n",
    "            \"unrelated\": 3\n",
    "        }\n",
    "        y_data = torch.tensor(stance_map[y_data])\n",
    "        return {'x_data': x_data,\n",
    "                'y_target': y_data}"
   ]
  },
  {
   "cell_type": "code",
   "execution_count": 8,
   "id": "f20ec28e",
   "metadata": {},
   "outputs": [
    {
     "name": "stdout",
     "output_type": "stream",
     "text": [
      "loading dataset...\n",
      "loaded!\n"
     ]
    }
   ],
   "source": [
    "def load_dataset(excel=True):\n",
    "    \"\"\"\n",
    "    applies dataset class to dataset located at DATAPATH\n",
    "    args:\n",
    "        excel (bool): default true for .xlsx, else set false\n",
    "    \"\"\"\n",
    "    print('loading dataset...')\n",
    "    if excel == True:\n",
    "        df = pd.read_excel(\n",
    "            DATAPATH, \n",
    "            index_col=None, \n",
    "            header=0   \n",
    "        )\n",
    "    else:\n",
    "        df = pd.read_csv(\n",
    "            DATAPATH, \n",
    "            index_col=None,\n",
    "            header=0   \n",
    "        )\n",
    "    print('loaded!')\n",
    "    \n",
    "    dataset = StanceDataset(df, val_split=False)\n",
    "    return dataset\n",
    "\n",
    "data = load_dataset(excel=False)"
   ]
  },
  {
   "cell_type": "code",
   "execution_count": 10,
   "id": "d2ca07ac",
   "metadata": {},
   "outputs": [
    {
     "name": "stdout",
     "output_type": "stream",
     "text": [
      "should be the lenght of train split:  25360\n",
      "tensor([[-0.4283, -0.3394,  0.0508,  ..., -0.0650, -0.2012, -0.6284]])\n",
      "tensor(3)\n",
      "12000\n"
     ]
    }
   ],
   "source": [
    "\"\"\"\n",
    "Test block for getitem. This is what the training loop will call\n",
    "\"\"\"\n",
    "\n",
    "data.set_split('train')\n",
    "print(\"should be the lenght of train split: \", len(data._target_df))\n",
    "\n",
    "d = data.__getitem__(1)\n",
    "print(d['x_data'])\n",
    "print(d['y_target'])\n",
    "print(len((d['x_data'])[0]))"
   ]
  },
  {
   "cell_type": "markdown",
   "id": "7a9a6ba5",
   "metadata": {},
   "source": [
    "### Weighted Sampler"
   ]
  },
  {
   "cell_type": "code",
   "execution_count": 11,
   "id": "4f13f6df",
   "metadata": {},
   "outputs": [
    {
     "name": "stdout",
     "output_type": "stream",
     "text": [
      "{'unrelated': 14602, 'discuss': 7120, 'agree': 2937, 'disagree': 701}\n"
     ]
    },
    {
     "data": {
      "image/png": "[encoded data removed]",
      "text/plain": [
       "<Figure size 640x480 with 1 Axes>"
      ]
     },
     "metadata": {},
     "output_type": "display_data"
    }
   ],
   "source": [
    "# distribution of labels (class distribution)\n",
    "def dist_of(df):\n",
    "    class_distribution = (pd.value_counts(df['Stance'])).to_dict()\n",
    "    print(class_distribution)\n",
    "    sns.barplot(data = pd.DataFrame.from_dict([class_distribution]).melt(), x = \"variable\", y=\"value\", hue=\"variable\").set_title(f'train class distribution size {len(df)}')\n",
    "\n",
    "dist_of(data._target_df)"
   ]
  },
  {
   "cell_type": "code",
   "execution_count": 32,
   "id": "bbd41702",
   "metadata": {},
   "outputs": [
    {
     "name": "stdout",
     "output_type": "stream",
     "text": [
      "{'unrelated': 14595, 'discuss': 7115, 'agree': 2969, 'disagree': 681}\n",
      "tensor([3.3681e-04, 1.4684e-03, 1.4055e-04, 6.8517e-05], device='cuda:0')\n"
     ]
    }
   ],
   "source": [
    "def sample(d):\n",
    "    class_count = dict(pd.value_counts(d['Stance']))\n",
    "    print(class_count)\n",
    "    stance_map = {\n",
    "        \"agree\": 0,\n",
    "        \"disagree\": 1,\n",
    "        \"discuss\": 2,\n",
    "        \"unrelated\": 3\n",
    "    }\n",
    "    # fit the class count to sequence agree, disagree, discuss, unrelated\n",
    "    cc = [0, 0, 0, 0]\n",
    "    for key in class_count:\n",
    "        cc[stance_map[key]] = class_count[key]\n",
    "\n",
    "    weight = 1./torch.tensor(cc, dtype=torch.float).to(device)\n",
    "    print(weight)\n",
    "    \n",
    "    # create array with weight for each data point\n",
    "    target_list = [stance_map[(d.iloc[i]['Stance'])] for i in range(len(d))]\n",
    "    samples_weight = torch.tensor([weight[t] for t in target_list]).to(device)\n",
    "\n",
    "    weighted_sampler = WeightedRandomSampler(\n",
    "        weights=samples_weight,\n",
    "        num_samples=len(samples_weight),\n",
    "        replacement=True\n",
    "    )\n",
    "    return weighted_sampler, weight\n",
    "\n",
    "data.set_split('train')\n",
    "train_sampler, train_weights = sample(data._target_df)"
   ]
  },
  {
   "cell_type": "markdown",
   "id": "12cdee13",
   "metadata": {},
   "source": [
    "### Step 3 - Define model & training"
   ]
  },
  {
   "cell_type": "code",
   "execution_count": 22,
   "id": "7f858166",
   "metadata": {},
   "outputs": [],
   "source": [
    "# hyperparameters\n",
    "in_dim = 12000\n",
    "hidden_dim = 1200\n",
    "hidden_dim2 = 120\n",
    "out_dim = 4\n",
    "epochs = 40\n",
    "bs = 64 # batch size\n",
    "lr = 0.001"
   ]
  },
  {
   "cell_type": "code",
   "execution_count": 23,
   "id": "9e5b9b2c",
   "metadata": {},
   "outputs": [],
   "source": [
    "# re-usable way to create dataloader\n",
    "def make_batches(dataset, batch_size, shuffle=True, drop_last=True, sampler=None):\n",
    "    dataloader = DataLoader(dataset=dataset, batch_size=batch_size,\n",
    "                            shuffle=shuffle, drop_last=drop_last, sampler=sampler)\n",
    "    for data_dict in dataloader:\n",
    "        out_data_dict = {}\n",
    "        for name, tensor in data_dict.items():\n",
    "            out_data_dict[name] = data_dict[name].to(device)\n",
    "        yield out_data_dict"
   ]
  },
  {
   "cell_type": "code",
   "execution_count": 34,
   "id": "9e61f3e7",
   "metadata": {},
   "outputs": [],
   "source": [
    "# define neural net\n",
    "class NN(nn.Module):\n",
    "    def __init__(self, in_dim, hidden_dim, hidden_dim2, out_dim):\n",
    "        super(NN, self).__init__()\n",
    "\n",
    "        # define layers\n",
    "        self.l1 = nn.Linear(in_dim, hidden_dim)\n",
    "        self.l2 = nn.Linear(hidden_dim, hidden_dim2)\n",
    "        self.relu = nn.ReLU()\n",
    "        self.l3 = nn.Linear(hidden_dim2, out_dim)\n",
    "    \n",
    "    # applies layers with sample x\n",
    "    def forward(self, x):\n",
    "        out = self.l1(x).squeeze()\n",
    "        out = self.l2(out)\n",
    "        out = self.relu(out)\n",
    "        out = self.l3(out)\n",
    "        return out\n",
    "\n",
    "model = NN(in_dim=in_dim, hidden_dim=hidden_dim, hidden_dim2=hidden_dim2, out_dim=out_dim).to(device)\n",
    "\n",
    "criterion = nn.CrossEntropyLoss(weight=train_weights)\n",
    "optimizer = torch.optim.Adam(model.parameters(), lr=lr)"
   ]
  },
  {
   "cell_type": "code",
   "execution_count": 30,
   "id": "d2a28a1e",
   "metadata": {},
   "outputs": [],
   "source": [
    "\"\"\"\n",
    "TRAIN function\n",
    "\"\"\"\n",
    "\n",
    "# setup\n",
    "train_loss = []\n",
    "\n",
    "def train(epoch):\n",
    "  print('\\n')\n",
    "  # create new loader after each epoch\n",
    "  data.set_split('train')\n",
    "  train_loader = make_batches(data, bs, shuffle=False, sampler=train_sampler)\n",
    "\n",
    "  model.train()\n",
    "\n",
    "  running_loss = 0.\n",
    "  last_loss = 0.\n",
    "  epoch_loss = []\n",
    " \n",
    "  for i, sample in enumerate(train_loader):\n",
    "    # zero gradients each batch\n",
    "    optimizer.zero_grad()\n",
    "    \n",
    "    inputs = ((sample)['x_data']).float()\n",
    "    labels = sample['y_target']\n",
    "\n",
    "    # predict for batch\n",
    "    outputs = model(inputs)\n",
    "\n",
    "    # compute loss and gradients\n",
    "    loss = criterion(outputs, labels)\n",
    "    epoch_loss.append(loss.item())\n",
    "    loss.backward()\n",
    "\n",
    "    # adjust weights\n",
    "    optimizer.step()\n",
    "\n",
    "    # intra-epoch reporting\n",
    "    running_loss += loss.item()\n",
    "    if i % 100 == 0:\n",
    "            last_loss = running_loss / bs # 1000 loss per batch\n",
    "            print('Epoch {} batch {} loss: {}'.format(epoch + 1, i + 1, last_loss))\n",
    "            running_loss = 0.\n",
    "    \n",
    "  train_loss.append(sum(epoch_loss)/len(epoch_loss))"
   ]
  },
  {
   "cell_type": "code",
   "execution_count": 31,
   "id": "61d8547e",
   "metadata": {},
   "outputs": [],
   "source": [
    "\"\"\" \n",
    "TEST function\n",
    "\"\"\"\n",
    "\n",
    "# setup\n",
    "eval_loss = []\n",
    "y_pred = []\n",
    "y_true = []\n",
    "\n",
    "def test(epoch):\n",
    "  # create new loader after each epoch\n",
    "  data.set_split('test')\n",
    "  test_loader = make_batches(data, bs, shuffle=True)\n",
    "\n",
    "  epoch_loss = []\n",
    "  model.eval()\n",
    " \n",
    "  with torch.no_grad():\n",
    "    for i, sample in enumerate(test_loader):\n",
    "      inputs = ((sample)['x_data']).float()\n",
    "      labels = sample['y_target']\n",
    "      \n",
    "      # predict\n",
    "      outputs=model(inputs)\n",
    "\n",
    "      # compute loss\n",
    "      loss = criterion(outputs, labels)\n",
    "      epoch_loss.append(loss.item())\n",
    "\n",
    "      # get metrics for feature report on last epoch\n",
    "      if epoch == epochs-1:\n",
    "        _, predictions = torch.max(outputs, 1)\n",
    "        y_pred.extend(predictions.data.cpu().numpy())\n",
    "        y_true.extend(labels.data.cpu().numpy())\n",
    "      \n",
    " \n",
    "  eval_loss.append(sum(epoch_loss)/len(epoch_loss))"
   ]
  },
  {
   "cell_type": "code",
   "execution_count": 35,
   "id": "39b3618e",
   "metadata": {},
   "outputs": [
    {
     "name": "stdout",
     "output_type": "stream",
     "text": [
      "\n",
      "\n",
      "Epoch 1 batch 1 loss: 0.021115759387612343\n",
      "Epoch 1 batch 101 loss: 0.7972470235545188\n",
      "Epoch 1 batch 201 loss: 0.47929392277728766\n",
      "Epoch 1 batch 301 loss: 0.3731152346590534\n",
      "\n",
      "\n",
      "Epoch 2 batch 1 loss: 0.003809749148786068\n",
      "Epoch 2 batch 101 loss: 0.26348857721313834\n",
      "Epoch 2 batch 201 loss: 0.23999856901355088\n",
      "Epoch 2 batch 301 loss: 0.1840630142542068\n",
      "\n",
      "\n",
      "Epoch 3 batch 1 loss: 0.0012345751747488976\n",
      "Epoch 3 batch 101 loss: 0.18348512228112668\n",
      "Epoch 3 batch 201 loss: 0.18745711277006194\n",
      "Epoch 3 batch 301 loss: 0.14573282800847664\n",
      "\n",
      "\n",
      "Epoch 4 batch 1 loss: 0.0007439806940965354\n",
      "Epoch 4 batch 101 loss: 0.1293908583902521\n",
      "Epoch 4 batch 201 loss: 0.1273444005928468\n",
      "Epoch 4 batch 301 loss: 0.13264141147374175\n",
      "\n",
      "\n",
      "Epoch 5 batch 1 loss: 0.0012072789249941707\n",
      "Epoch 5 batch 101 loss: 0.0788914584700251\n",
      "Epoch 5 batch 201 loss: 0.06656831641885219\n",
      "Epoch 5 batch 301 loss: 0.06855175082455389\n",
      "\n",
      "\n",
      "Epoch 6 batch 1 loss: 0.0008861299138516188\n",
      "Epoch 6 batch 101 loss: 0.08403263853688259\n",
      "Epoch 6 batch 201 loss: 0.06653999901027419\n",
      "Epoch 6 batch 301 loss: 0.06044196998118423\n",
      "\n",
      "\n",
      "Epoch 7 batch 1 loss: 0.001856741146184504\n",
      "Epoch 7 batch 101 loss: 0.12716814899613382\n",
      "Epoch 7 batch 201 loss: 0.2946048662706744\n",
      "Epoch 7 batch 301 loss: 0.23486641515046358\n",
      "\n",
      "\n",
      "Epoch 8 batch 1 loss: 0.0007576384814456105\n",
      "Epoch 8 batch 101 loss: 0.16192051299731247\n",
      "Epoch 8 batch 201 loss: 0.11268424420268275\n",
      "Epoch 8 batch 301 loss: 0.0579116079970845\n",
      "\n",
      "\n",
      "Epoch 9 batch 1 loss: 0.00016968014824669808\n",
      "Epoch 9 batch 101 loss: 0.053832141842576675\n",
      "Epoch 9 batch 201 loss: 0.047406923353264574\n",
      "Epoch 9 batch 301 loss: 0.05834109047282254\n",
      "\n",
      "\n",
      "Epoch 10 batch 1 loss: 0.00047431557322852314\n",
      "Epoch 10 batch 101 loss: 0.05058303623445681\n",
      "Epoch 10 batch 201 loss: 0.035193122101190966\n",
      "Epoch 10 batch 301 loss: 0.03195303289612639\n",
      "\n",
      "\n",
      "Epoch 11 batch 1 loss: 0.00020066904835402966\n",
      "Epoch 11 batch 101 loss: 0.2460748497469467\n",
      "Epoch 11 batch 201 loss: 0.20802798646036536\n",
      "Epoch 11 batch 301 loss: 0.1075369476529886\n",
      "\n",
      "\n",
      "Epoch 12 batch 1 loss: 0.0006322568515315652\n",
      "Epoch 12 batch 101 loss: 0.03460015731616295\n",
      "Epoch 12 batch 201 loss: 0.04618471718640649\n",
      "Epoch 12 batch 301 loss: 0.03704080470924964\n",
      "\n",
      "\n",
      "Epoch 13 batch 1 loss: 0.0002662166371010244\n",
      "Epoch 13 batch 101 loss: 0.07592857308191014\n",
      "Epoch 13 batch 201 loss: 0.04731752931911615\n",
      "Epoch 13 batch 301 loss: 0.03277196044655284\n",
      "\n",
      "\n",
      "Epoch 14 batch 1 loss: 0.0007371216779574752\n",
      "Epoch 14 batch 101 loss: 0.11058524418331217\n",
      "Epoch 14 batch 201 loss: 0.12901572976988973\n",
      "Epoch 14 batch 301 loss: 0.07738083619915415\n",
      "\n",
      "\n",
      "Epoch 15 batch 1 loss: 0.0003446941846050322\n",
      "Epoch 15 batch 101 loss: 0.054150336173734104\n",
      "Epoch 15 batch 201 loss: 0.03675130610099586\n",
      "Epoch 15 batch 301 loss: 0.054783194478659425\n",
      "\n",
      "\n",
      "Epoch 16 batch 1 loss: 0.0019115660106763244\n",
      "Epoch 16 batch 101 loss: 0.036699019312436576\n",
      "Epoch 16 batch 201 loss: 0.03173294322368747\n",
      "Epoch 16 batch 301 loss: 0.05175420328305336\n",
      "\n",
      "\n",
      "Epoch 17 batch 1 loss: 0.0013191371690481901\n",
      "Epoch 17 batch 101 loss: 0.11092517969154869\n",
      "Epoch 17 batch 201 loss: 0.05320847180701094\n",
      "Epoch 17 batch 301 loss: 0.028369865849526832\n",
      "\n",
      "\n",
      "Epoch 18 batch 1 loss: 0.0003016047994606197\n",
      "Epoch 18 batch 101 loss: 0.028900407195578737\n",
      "Epoch 18 batch 201 loss: 0.0239487167345942\n",
      "Epoch 18 batch 301 loss: 0.07331139934922248\n",
      "\n",
      "\n",
      "Epoch 19 batch 1 loss: 0.0023357823956757784\n",
      "Epoch 19 batch 101 loss: 0.258396276331041\n",
      "Epoch 19 batch 201 loss: 0.12692636778228916\n",
      "Epoch 19 batch 301 loss: 0.061376397530693794\n",
      "\n",
      "\n",
      "Epoch 20 batch 1 loss: 0.000510372978169471\n",
      "Epoch 20 batch 101 loss: 0.06676631355730933\n",
      "Epoch 20 batch 201 loss: 0.10793389065656811\n",
      "Epoch 20 batch 301 loss: 0.09613897411327343\n",
      "\n",
      "\n",
      "Epoch 21 batch 1 loss: 0.0017636085394769907\n",
      "Epoch 21 batch 101 loss: 0.05092342780699255\n",
      "Epoch 21 batch 201 loss: 0.050796124272892484\n",
      "Epoch 21 batch 301 loss: 0.03535889404520276\n",
      "\n",
      "\n",
      "Epoch 22 batch 1 loss: 0.00030338685610331595\n",
      "Epoch 22 batch 101 loss: 0.028662588821134705\n",
      "Epoch 22 batch 201 loss: 0.02042290175177186\n",
      "Epoch 22 batch 301 loss: 0.023551287894406414\n",
      "\n",
      "\n",
      "Epoch 23 batch 1 loss: 0.00011455718049546704\n",
      "Epoch 23 batch 101 loss: 0.01573637887759105\n",
      "Epoch 23 batch 201 loss: 0.030694498318553087\n",
      "Epoch 23 batch 301 loss: 0.04968853016180219\n",
      "\n",
      "\n",
      "Epoch 24 batch 1 loss: 7.716378604527563e-05\n",
      "Epoch 24 batch 101 loss: 0.040676703650206036\n",
      "Epoch 24 batch 201 loss: 0.03897829155175714\n",
      "Epoch 24 batch 301 loss: 0.03043438808344945\n",
      "\n",
      "\n",
      "Epoch 25 batch 1 loss: 0.0006958087324164808\n",
      "Epoch 25 batch 101 loss: 0.054151093292603036\n",
      "Epoch 25 batch 201 loss: 0.03522068706297432\n",
      "Epoch 25 batch 301 loss: 0.02660884746183001\n",
      "\n",
      "\n",
      "Epoch 26 batch 1 loss: 5.7825327530736104e-05\n",
      "Epoch 26 batch 101 loss: 0.015968828745826613\n",
      "Epoch 26 batch 201 loss: 0.02022423978291954\n",
      "Epoch 26 batch 301 loss: 0.02765749086620417\n",
      "\n",
      "\n",
      "Epoch 27 batch 1 loss: 0.003999440930783749\n",
      "Epoch 27 batch 101 loss: 0.24261769311851822\n",
      "Epoch 27 batch 201 loss: 0.1611077522247797\n",
      "Epoch 27 batch 301 loss: 0.18148815068707336\n",
      "\n",
      "\n",
      "Epoch 28 batch 1 loss: 0.0006848092889413238\n",
      "Epoch 28 batch 101 loss: 0.0647801452450949\n",
      "Epoch 28 batch 201 loss: 0.08239365349982108\n",
      "Epoch 28 batch 301 loss: 0.0606233749713283\n",
      "\n",
      "\n",
      "Epoch 29 batch 1 loss: 4.409981920616701e-05\n",
      "Epoch 29 batch 101 loss: 0.09132377452078799\n",
      "Epoch 29 batch 201 loss: 0.0433166189941403\n",
      "Epoch 29 batch 301 loss: 0.04148837168395403\n",
      "\n",
      "\n",
      "Epoch 30 batch 1 loss: 0.0015819816617295146\n",
      "Epoch 30 batch 101 loss: 0.04488911348289548\n",
      "Epoch 30 batch 201 loss: 0.03926033958578046\n",
      "Epoch 30 batch 301 loss: 0.032294407437802874\n",
      "\n",
      "\n",
      "Epoch 31 batch 1 loss: 0.001576745300553739\n",
      "Epoch 31 batch 101 loss: 0.0397098066464423\n",
      "Epoch 31 batch 201 loss: 0.041883651381340314\n",
      "Epoch 31 batch 301 loss: 0.036420400663246255\n",
      "\n",
      "\n",
      "Epoch 32 batch 1 loss: 0.00039627228397876024\n",
      "Epoch 32 batch 101 loss: 0.05984004732727044\n",
      "Epoch 32 batch 201 loss: 0.11656164371925115\n",
      "Epoch 32 batch 301 loss: 0.09563374876233866\n",
      "\n",
      "\n",
      "Epoch 33 batch 1 loss: 0.0015464372700080276\n",
      "Epoch 33 batch 101 loss: 0.11084380109969061\n",
      "Epoch 33 batch 201 loss: 0.11012842435320636\n",
      "Epoch 33 batch 301 loss: 0.06962542870314792\n",
      "\n",
      "\n",
      "Epoch 34 batch 1 loss: 0.0016546676633879542\n",
      "Epoch 34 batch 101 loss: 0.03947545976461697\n",
      "Epoch 34 batch 201 loss: 0.033059881069220864\n",
      "Epoch 34 batch 301 loss: 0.031237496963626654\n",
      "\n",
      "\n",
      "Epoch 35 batch 1 loss: 0.0003695708292070776\n",
      "Epoch 35 batch 101 loss: 0.03135560018245087\n",
      "Epoch 35 batch 201 loss: 0.030918262154045806\n",
      "Epoch 35 batch 301 loss: 0.03248766996125596\n",
      "\n",
      "\n",
      "Epoch 36 batch 1 loss: 5.167003837414086e-05\n",
      "Epoch 36 batch 101 loss: 0.03630753309607826\n",
      "Epoch 36 batch 201 loss: 0.04370692675365717\n",
      "Epoch 36 batch 301 loss: 0.04998508372227661\n",
      "\n",
      "\n",
      "Epoch 37 batch 1 loss: 0.00037307676393538713\n",
      "Epoch 37 batch 101 loss: 0.038682614701428975\n",
      "Epoch 37 batch 201 loss: 0.051638847291542334\n",
      "Epoch 37 batch 301 loss: 0.03675186372947792\n",
      "\n",
      "\n",
      "Epoch 38 batch 1 loss: 5.164818139746785e-05\n",
      "Epoch 38 batch 101 loss: 0.03753920644430764\n",
      "Epoch 38 batch 201 loss: 0.06832661449971056\n",
      "Epoch 38 batch 301 loss: 0.07558400757716299\n",
      "\n",
      "\n",
      "Epoch 39 batch 1 loss: 0.0009792442433536053\n",
      "Epoch 39 batch 101 loss: 0.603119109342515\n",
      "Epoch 39 batch 201 loss: 0.18609859894786496\n",
      "Epoch 39 batch 301 loss: 0.09354263719160372\n",
      "\n",
      "\n",
      "Epoch 40 batch 1 loss: 0.001322455471381545\n",
      "Epoch 40 batch 101 loss: 0.07993121067556785\n",
      "Epoch 40 batch 201 loss: 0.052610846213610785\n",
      "Epoch 40 batch 301 loss: 0.08210280792945923\n"
     ]
    }
   ],
   "source": [
    "epochs = 40\n",
    "for epoch in range(epochs): \n",
    "  train(epoch)\n",
    "  test(epoch)"
   ]
  },
  {
   "cell_type": "code",
   "execution_count": 1,
   "id": "d79c7ee9",
   "metadata": {},
   "outputs": [],
   "source": [
    "import pandas as pd\n",
    "import matplotlib.pyplot as plt\n",
    "\n",
    "# load from file\n",
    "lossdata = pd.read_csv('measures/glove_loss_40.csv')"
   ]
  },
  {
   "cell_type": "code",
   "execution_count": 3,
   "metadata": {},
   "outputs": [
    {
     "data": {
      "image/png": "[encoded data removed]",
      "text/plain": [
       "<Figure size 640x480 with 1 Axes>"
      ]
     },
     "metadata": {},
     "output_type": "display_data"
    }
   ],
   "source": [
    "plt.plot(lossdata['train'], '-o')\n",
    "plt.plot(lossdata['eval'],'-o')\n",
    "plt.xlabel('epoch')\n",
    "plt.ylabel('losses')\n",
    "plt.legend(['Train','Test']) # \n",
    "plt.title(f'GloVe loss with batch size {64}, lr {0.001}')\n",
    "\n",
    "plt.show()"
   ]
  },
  {
   "cell_type": "code",
   "execution_count": 37,
   "id": "8d0dbefe",
   "metadata": {},
   "outputs": [],
   "source": [
    "# save losses to data frame\n",
    "pd.DataFrame({'train': train_loss, 'eval': eval_loss}).to_csv(\"measures/glove_2hidden_loss_40.csv\")"
   ]
  },
  {
   "cell_type": "code",
   "execution_count": 38,
   "id": "a9511ac4",
   "metadata": {},
   "outputs": [
    {
     "name": "stdout",
     "output_type": "stream",
     "text": [
      "              precision    recall  f1-score   support\n",
      "\n",
      "           0       0.77      0.91      0.84       709\n",
      "           1       0.50      0.84      0.63       159\n",
      "           2       0.95      0.88      0.92      1793\n",
      "           3       0.95      0.92      0.93      3675\n",
      "\n",
      "    accuracy                           0.91      6336\n",
      "   macro avg       0.79      0.89      0.83      6336\n",
      "weighted avg       0.92      0.91      0.91      6336\n",
      "\n"
     ]
    }
   ],
   "source": [
    "from sklearn.metrics import classification_report\n",
    " \n",
    "print(classification_report(y_true, y_pred))"
   ]
  },
  {
   "cell_type": "code",
   "execution_count": 18,
   "id": "8f297497",
   "metadata": {},
   "outputs": [],
   "source": [
    "# save the model\n",
    "# embedding_data_accuracy\n",
    "torch.save(model.state_dict(), \"models/glove_40.pth\")"
   ]
  },
  {
   "cell_type": "code",
   "execution_count": 20,
   "id": "8be40518",
   "metadata": {},
   "outputs": [
    {
     "name": "stdout",
     "output_type": "stream",
     "text": [
      "[[0.87277702 0.09036145 0.00852757 0.0111413 ]\n",
      " [0.02325581 0.77108434 0.00284252 0.00244565]\n",
      " [0.04787962 0.09638554 0.95110858 0.01902174]\n",
      " [0.05608755 0.04216867 0.03752132 0.9673913 ]]\n"
     ]
    },
    {
     "data": {
      "text/plain": [
       "<AxesSubplot: title={'center': 'cf matrix of testadata size 6340, lr: 0.001, batches: 64, epochs: 40'}>"
      ]
     },
     "execution_count": 20,
     "metadata": {},
     "output_type": "execute_result"
    },
    {
     "data": {
      "image/png": "[encoded data removed]",
      "text/plain": [
       "<Figure size 1200x700 with 2 Axes>"
      ]
     },
     "metadata": {},
     "output_type": "display_data"
    }
   ],
   "source": [
    "# confusion matrix\n",
    "classes = ['agree', 'disagree', 'discuss', 'unrelated']\n",
    "\n",
    "# Build confusion matrix (normalized as precision)\n",
    "cf_matrix = confusion_matrix(y_true, y_pred, normalize='pred')\n",
    "# precision, is in a sense correctness, and recall is completeness.\n",
    "\n",
    "print(cf_matrix)\n",
    "df_cm = pd.DataFrame(cf_matrix, index = [i for i in classes],\n",
    "                     columns = [i for i in classes])\n",
    "plt.figure(figsize = (12,7))\n",
    "plt.title(f'cf matrix of testadata size {len(data._target_df)}, lr: {lr}, batches: {bs}, epochs: {epochs}')\n",
    "sns.heatmap(df_cm, annot=True)"
   ]
  },
  {
   "cell_type": "code",
   "execution_count": 179,
   "id": "14264802",
   "metadata": {},
   "outputs": [
    {
     "name": "stdout",
     "output_type": "stream",
     "text": [
      "Who Should Play Steve Jobs Now That Christian Bale Quit? \n",
      "---\n",
      "should agree with\n",
      "---\n",
      "Christian Bale will not be starring as Steve Jobs in Aaron Sorkin's upcoming Steve Jobs biopic, according to The Hollywood Reporter. The actor has reportedly decided that he was \"not right for the part,\" deciding to withdraw from the film.\n",
      "\n",
      "Bale was announced as the star of the film just last week, with Sorkin saying that Christian Bale was \"the best actor in a certain age range\" to play Jobs, and that he had agreed to the part without an audition.\n",
      "\n",
      "Set to be directed by Danny Boyle, who also directed the Oscar-winning hit Slumdog Millionaire, the upcoming Steve Jobs project focuses on three continuous 30-minute scenes that depict three of Apple's product launches.\n",
      "\n",
      "While it is now unclear who will play Steve Jobs in the movie, Seth Rogen is reportedly in talks to play Apple co-founder Steve Wozniak, and Jessica Chastain, from The Help, is also being considered for an unspecified role in the film. Leonardo DiCaprio was previously in talks to star as Steve Jobs, but also opted not to take on the role.\n"
     ]
    }
   ],
   "source": [
    "agree_row = (data.df).iloc[1]\n",
    "disagree_row = (data.df).iloc[4434]\n",
    "\n",
    "agree_head = agree_row['head']\n",
    "agree_body = agree_row['body']\n",
    "\n",
    "disagree_head = disagree_row['head']\n",
    "disagree_body = disagree_row['body']\n",
    "\n",
    "print(f\"{agree_head} \\n---\\nshould agree with\\n---\\n{agree_body}\")"
   ]
  },
  {
   "cell_type": "code",
   "execution_count": 183,
   "id": "f3653c6c",
   "metadata": {},
   "outputs": [
    {
     "name": "stdout",
     "output_type": "stream",
     "text": [
      "NASA Confirms Earth Will Experience 6 Days of Total Darkness in December 2014! \n",
      "---\n",
      "should disagree with\n",
      "---\n",
      "It may feel like winter is slowly squeezing all the sunlight out of your day, but if you see any news stories claiming Earth is headed for \"Six Days of Total Darkness\" then don't start stocking up on the tins of beans and torches just yet.\n",
      "\n",
      "\"Satirical news site\" Huzlers.com has been spreading this fake story far and wide on the web this week, taking in numerous Facebook and Twitter users and encouraging them to post about what they're going to be up to during the six days of darkness.\n",
      "\n",
      "The story on the vaguely official looking website titled \"Nasa Confirms Earth Will Experience 6 Days of Total ...\n"
     ]
    }
   ],
   "source": [
    "print(f\"{disagree_head} \\n---\\nshould disagree with\\n---\\n{disagree_body[:600]} ...\")"
   ]
  },
  {
   "cell_type": "code",
   "execution_count": 184,
   "id": "fa9fc6d6",
   "metadata": {},
   "outputs": [
    {
     "name": "stdout",
     "output_type": "stream",
     "text": [
      "tensor(10.2128, grad_fn=<MaxBackward0>) tensor(0)\n",
      "agree\n"
     ]
    }
   ],
   "source": [
    "claim = to_vector(preprocess(agree_head))\n",
    "body = to_vector(preprocess(agree_body))\n",
    "        \n",
    "# 12k combined input vector\n",
    "x_data = torch.cat((claim, body), 1)\n",
    "\n",
    "# demo predict\n",
    "pred = model(x_data)\n",
    "pred_out, pred_idx = torch.max(pred, 0)\n",
    "\n",
    "print(pred_out, pred_idx)\n",
    "classes = ['agree', 'disagree', 'discuss', 'unrelated']\n",
    "stance = classes[(pred_idx.data).numpy()]\n",
    "\n",
    "print(stance)"
   ]
  }
 ],
 "metadata": {
  "interpreter": {
   "hash": "916dbcbb3f70747c44a77c7bcd40155683ae19c65e1c03b4aa3499c5328201f1"
  },
  "kernelspec": {
   "display_name": "Python 3.10.6 64-bit",
   "language": "python",
   "name": "python3"
  },
  "language_info": {
   "codemirror_mode": {
    "name": "ipython",
    "version": 3
   },
   "file_extension": ".py",
   "mimetype": "text/x-python",
   "name": "python",
   "nbconvert_exporter": "python",
   "pygments_lexer": "ipython3",
   "version": "3.10.6"
  },
  "vscode": {
   "interpreter": {
    "hash": "916dbcbb3f70747c44a77c7bcd40155683ae19c65e1c03b4aa3499c5328201f1"
   }
  }
 },
 "nbformat": 4,
 "nbformat_minor": 5
}
