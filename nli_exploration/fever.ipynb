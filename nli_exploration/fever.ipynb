{
 "cells": [
  {
   "cell_type": "code",
   "execution_count": null,
   "metadata": {},
   "outputs": [],
   "source": [
    "from datasets import load_dataset"
   ]
  },
  {
   "cell_type": "markdown",
   "metadata": {},
   "source": [
    "Downloads"
   ]
  },
  {
   "cell_type": "code",
   "execution_count": null,
   "metadata": {},
   "outputs": [],
   "source": [
    "dataset = load_dataset(\"fever\", 'v1.0')\n",
    "\n",
    "\"\"\" \n",
    "'id', \n",
    "'label',\n",
    "'claim', \n",
    "'evidence_annotation_id',\n",
    "'evidence_id',\n",
    "'evidence_wiki_url',\n",
    "'evidence_sentence_id'\n",
    "\"\"\"\n",
    "train = dataset[\"train\"]"
   ]
  },
  {
   "cell_type": "code",
   "execution_count": null,
   "metadata": {},
   "outputs": [],
   "source": [
    "\"\"\" \n",
    "'id', 'text', 'lines'\n",
    "\"\"\"\n",
    "wiki = load_dataset(\"fever\", \"wiki_pages\")\n",
    "\n",
    "#wiki = load_dataset('data/wiki')"
   ]
  },
  {
   "cell_type": "code",
   "execution_count": null,
   "metadata": {},
   "outputs": [],
   "source": [
    "# save for later\n",
    "\n",
    "#dataset.save_to_disk(\"data/fever\")\n",
    "# load\n",
    "#datasets = load_dataset('data/')\n",
    "#wiki = load_dataset('data/wiki')"
   ]
  }
 ],
 "metadata": {
  "language_info": {
   "name": "python"
  },
  "orig_nbformat": 4
 },
 "nbformat": 4,
 "nbformat_minor": 2
}
